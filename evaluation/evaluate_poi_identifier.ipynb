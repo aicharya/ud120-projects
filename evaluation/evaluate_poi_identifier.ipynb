{
  "nbformat": 4,
  "nbformat_minor": 0,
  "metadata": {
    "colab": {
      "name": "evaluate_poi_identifier.ipynb",
      "provenance": [],
      "include_colab_link": true
    },
    "kernelspec": {
      "name": "python2",
      "display_name": "Python 2"
    }
  },
  "cells": [
    {
      "cell_type": "markdown",
      "metadata": {
        "id": "view-in-github",
        "colab_type": "text"
      },
      "source": [
        "<a href=\"https://colab.research.google.com/github/aicharya/ud120-projects/blob/master/evaluation/evaluate_poi_identifier.ipynb\" target=\"_parent\"><img src=\"https://colab.research.google.com/assets/colab-badge.svg\" alt=\"Open In Colab\"/></a>"
      ]
    },
    {
      "cell_type": "code",
      "metadata": {
        "id": "2-n55oL7MyeU",
        "colab_type": "code",
        "outputId": "ae07665e-e23f-4df1-f27b-a97b2cec8d86",
        "colab": {
          "base_uri": "https://localhost:8080/",
          "height": 163
        }
      },
      "source": [
        "!git clone https://github.com/aicharya/ud120-projects.git"
      ],
      "execution_count": 1,
      "outputs": [
        {
          "output_type": "stream",
          "text": [
            "Cloning into 'ud120-projects'...\n",
            "remote: Enumerating objects: 75, done.\u001b[K\n",
            "remote: Counting objects: 100% (75/75), done.\u001b[K\n",
            "remote: Compressing objects: 100% (75/75), done.\u001b[K\n",
            "remote: Total 5396 (delta 42), reused 0 (delta 0), pack-reused 5321\u001b[K\n",
            "Receiving objects: 100% (5396/5396), 20.11 MiB | 19.80 MiB/s, done.\n",
            "Resolving deltas: 100% (4584/4584), done.\n",
            "Checking out files: 100% (4729/4729), done.\n"
          ],
          "name": "stdout"
        }
      ]
    },
    {
      "cell_type": "markdown",
      "metadata": {
        "id": "GgCUytyZM9dx",
        "colab_type": "text"
      },
      "source": [
        "\n",
        "\n",
        "```\n",
        "    Starter code for the validation mini-project.\n",
        "    The first step toward building your POI identifier!\n",
        "    Start by loading/formatting the data\n",
        "    After that, it's not our code anymore--it's yours!\n",
        "```\n",
        "\n"
      ]
    },
    {
      "cell_type": "code",
      "metadata": {
        "id": "HRU3g_jRNy-s",
        "colab_type": "code",
        "outputId": "9bb03629-06fc-4f3f-a560-e26f85027226",
        "colab": {
          "base_uri": "https://localhost:8080/",
          "height": 35
        }
      },
      "source": [
        "import os\n",
        "os.chdir('ud120-projects/evaluation')\n",
        "os.listdir(os.getcwd())"
      ],
      "execution_count": 2,
      "outputs": [
        {
          "output_type": "execute_result",
          "data": {
            "text/plain": [
              "['evaluate_poi_identifier.py']"
            ]
          },
          "metadata": {
            "tags": []
          },
          "execution_count": 2
        }
      ]
    },
    {
      "cell_type": "code",
      "metadata": {
        "id": "YpNpKKgOM-oS",
        "colab_type": "code",
        "colab": {}
      },
      "source": [
        "import pickle\n",
        "import sys\n",
        "sys.path.append(\"../tools/\")\n",
        "from feature_format import featureFormat, targetFeatureSplit\n",
        "\n",
        "data_dict = pickle.load(open(\"../final_project/final_project_dataset.pkl\", \"r\") )"
      ],
      "execution_count": 0,
      "outputs": []
    },
    {
      "cell_type": "markdown",
      "metadata": {
        "id": "6hC6CvKBOkRM",
        "colab_type": "text"
      },
      "source": [
        "\n",
        "\n",
        "```\n",
        "### first element is our labels, any added elements are predictor\n",
        "### features. Keep this the same for the mini-project, but you'll\n",
        "### have a different feature list when you do the final project.\n",
        "```\n",
        "\n"
      ]
    },
    {
      "cell_type": "code",
      "metadata": {
        "id": "pNhsfcTMOl1n",
        "colab_type": "code",
        "colab": {}
      },
      "source": [
        "features_list = [\"poi\", \"salary\"]\n",
        "\n",
        "data = featureFormat(data_dict, features_list)\n",
        "labels, features = targetFeatureSplit(data)\n"
      ],
      "execution_count": 0,
      "outputs": []
    },
    {
      "cell_type": "markdown",
      "metadata": {
        "id": "YQIdZJMGOqTR",
        "colab_type": "text"
      },
      "source": [
        "\n",
        "\n",
        "```\n",
        "### it's all yours from here forward!  \n",
        "```\n",
        "\n"
      ]
    },
    {
      "cell_type": "code",
      "metadata": {
        "id": "dVeywrbqREJE",
        "colab_type": "code",
        "outputId": "19989c42-acb7-4e3d-ee5c-6e570a85bd8d",
        "colab": {
          "base_uri": "https://localhost:8080/",
          "height": 35
        }
      },
      "source": [
        "from time import time\n",
        "from sklearn import tree\n",
        "from sklearn.metrics import accuracy_score\n",
        "\n",
        "clf = tree.DecisionTreeClassifier()\n",
        "\n",
        "t0 = time()\n",
        "clf = clf.fit(features, labels)\n",
        "t1 = time()\n",
        "labels_pred = clf.predict(features)\n",
        "t2 = time()\n",
        "\n",
        "score = accuracy_score(labels, labels_pred, normalize=True)\n",
        "score"
      ],
      "execution_count": 5,
      "outputs": [
        {
          "output_type": "execute_result",
          "data": {
            "text/plain": [
              "0.9894736842105263"
            ]
          },
          "metadata": {
            "tags": []
          },
          "execution_count": 5
        }
      ]
    },
    {
      "cell_type": "markdown",
      "metadata": {
        "id": "_aQIxcUHTADG",
        "colab_type": "text"
      },
      "source": [
        "\n",
        "\n",
        "```\n",
        "Use the train_test_split validation available in sklearn.cross_validation; hold out 30% of the data for testing and set the random_state parameter to 42\n",
        "```\n",
        "\n"
      ]
    },
    {
      "cell_type": "code",
      "metadata": {
        "id": "wS2HNM4FTA18",
        "colab_type": "code",
        "outputId": "dacc9619-c6c4-4f65-b480-92ae7dafdcee",
        "colab": {
          "base_uri": "https://localhost:8080/",
          "height": 35
        }
      },
      "source": [
        "from sklearn.model_selection import train_test_split\n",
        "features_train, features_test, labels_train, labels_test = train_test_split(features, labels, test_size=0.3, random_state=42)\n",
        "\n",
        "from time import time\n",
        "from sklearn import tree\n",
        "\n",
        "from sklearn.metrics import accuracy_score\n",
        "\n",
        "clf = tree.DecisionTreeClassifier()\n",
        "\n",
        "t0 = time()\n",
        "clf = clf.fit(features_train, labels_train)\n",
        "t1 = time()\n",
        "labels_pred = clf.predict(features_test)\n",
        "t2 = time()\n",
        "\n",
        "score = accuracy_score(labels_test, labels_pred, normalize=True)\n",
        "score\n"
      ],
      "execution_count": 6,
      "outputs": [
        {
          "output_type": "execute_result",
          "data": {
            "text/plain": [
              "0.7241379310344828"
            ]
          },
          "metadata": {
            "tags": []
          },
          "execution_count": 6
        }
      ]
    },
    {
      "cell_type": "markdown",
      "metadata": {
        "id": "M6ee8UagxW92",
        "colab_type": "text"
      },
      "source": [
        "How many POIs"
      ]
    },
    {
      "cell_type": "code",
      "metadata": {
        "id": "ovDLpJH-xIji",
        "colab_type": "code",
        "colab": {
          "base_uri": "https://localhost:8080/",
          "height": 35
        },
        "outputId": "5a020e52-1e06-45ab-b4de-fa8cbdffba01"
      },
      "source": [
        "[poi for poi in labels_pred if poi]"
      ],
      "execution_count": 8,
      "outputs": [
        {
          "output_type": "execute_result",
          "data": {
            "text/plain": [
              "[1.0, 1.0, 1.0, 1.0]"
            ]
          },
          "metadata": {
            "tags": []
          },
          "execution_count": 8
        }
      ]
    },
    {
      "cell_type": "markdown",
      "metadata": {
        "id": "v0zzRPHXxddE",
        "colab_type": "text"
      },
      "source": [
        "How mnay people in test set?"
      ]
    },
    {
      "cell_type": "code",
      "metadata": {
        "id": "BnXSc3rmxfoM",
        "colab_type": "code",
        "colab": {
          "base_uri": "https://localhost:8080/",
          "height": 35
        },
        "outputId": "8f6760eb-bc4b-4007-8540-b8f81ec83412"
      },
      "source": [
        "len(labels_test)"
      ],
      "execution_count": 9,
      "outputs": [
        {
          "output_type": "execute_result",
          "data": {
            "text/plain": [
              "29"
            ]
          },
          "metadata": {
            "tags": []
          },
          "execution_count": 9
        }
      ]
    },
    {
      "cell_type": "markdown",
      "metadata": {
        "id": "IGzkB4eJy7j7",
        "colab_type": "text"
      },
      "source": [
        "if all predicted as NOT pois. accuracy?"
      ]
    },
    {
      "cell_type": "code",
      "metadata": {
        "id": "62E1ENRFyKgN",
        "colab_type": "code",
        "colab": {
          "base_uri": "https://localhost:8080/",
          "height": 35
        },
        "outputId": "2992a042-744f-491b-de5f-aa82be4f5f59"
      },
      "source": [
        "labels_no_pois = [0 for i in labels_test]\n",
        "\n",
        "\n",
        "\n",
        "score = accuracy_score(labels_test, labels_no_pois, normalize=True)\n",
        "score\n",
        "\n"
      ],
      "execution_count": 11,
      "outputs": [
        {
          "output_type": "execute_result",
          "data": {
            "text/plain": [
              "0.8620689655172413"
            ]
          },
          "metadata": {
            "tags": []
          },
          "execution_count": 11
        }
      ]
    },
    {
      "cell_type": "markdown",
      "metadata": {
        "id": "yACzZcTKzAGO",
        "colab_type": "text"
      },
      "source": [
        " Do you get any true positives? (In this case, we define a true positive as a case where both the actual label and the predicted label are 1)"
      ]
    },
    {
      "cell_type": "code",
      "metadata": {
        "id": "XYz0gzhozCVU",
        "colab_type": "code",
        "colab": {
          "base_uri": "https://localhost:8080/",
          "height": 35
        },
        "outputId": "fa51adc9-1723-4b3b-8c6a-6cf31ed3c74c"
      },
      "source": [
        "true_positives = [1 for (label_test, label_pred) in zip(labels_test, labels_pred) if label_test and (label_test == label_pred)]\n",
        "len(true_positives)"
      ],
      "execution_count": 15,
      "outputs": [
        {
          "output_type": "execute_result",
          "data": {
            "text/plain": [
              "0"
            ]
          },
          "metadata": {
            "tags": []
          },
          "execution_count": 15
        }
      ]
    },
    {
      "cell_type": "markdown",
      "metadata": {
        "id": "o5xRK9f51mE1",
        "colab_type": "text"
      },
      "source": [
        ""
      ]
    },
    {
      "cell_type": "code",
      "metadata": {
        "id": "IdTKn1le1mZi",
        "colab_type": "code",
        "colab": {
          "base_uri": "https://localhost:8080/",
          "height": 72
        },
        "outputId": "3e85d37b-365b-4335-ed36-1a27df791856"
      },
      "source": [
        "from sklearn.metrics import precision_score\n",
        "from sklearn.metrics import recall_score\n",
        "\n",
        "accuracy = accuracy_score(labels_test, labels_pred, normalize=True)\n",
        "precision = precision_score(labels_test, labels_pred)\n",
        "recall = recall_score(labels_test, labels_pred)\n",
        "\n",
        "print accuracy\n",
        "print precision\n",
        "print recall"
      ],
      "execution_count": 16,
      "outputs": [
        {
          "output_type": "stream",
          "text": [
            "0.7241379310344828\n",
            "0.0\n",
            "0.0\n"
          ],
          "name": "stdout"
        }
      ]
    },
    {
      "cell_type": "markdown",
      "metadata": {
        "id": "2pFpciU24ohX",
        "colab_type": "text"
      },
      "source": [
        "\n",
        "\n",
        "```\n",
        "Here are some made-up predictions and true labels for a hypothetical test set; fill in the following boxes to practice identifying true positives, false positives, true negatives, and false negatives. Let’s use the convention that “1” signifies a positive result, and “0” a negative.\n",
        "\n",
        "predictions = [0, 1, 1, 0, 0, 0, 1, 0, 1, 0, 0, 1, 0, 0, 1, 1, 0, 1, 0, 1]\n",
        "true labels = [0, 0, 0, 0, 0, 0, 1, 0, 1, 1, 0, 1, 0, 1, 1, 1, 0, 1, 0, 0]\n",
        "```\n",
        "\n"
      ]
    },
    {
      "cell_type": "code",
      "metadata": {
        "id": "4h7t2Nyr4qIC",
        "colab_type": "code",
        "colab": {}
      },
      "source": [
        "predictions = [0, 1, 1, 0, 0, 0, 1, 0, 1, 0, 0, 1, 0, 0, 1, 1, 0, 1, 0, 1]\n",
        "true_labels = [0, 0, 0, 0, 0, 0, 1, 0, 1, 1, 0, 1, 0, 1, 1, 1, 0, 1, 0, 0]"
      ],
      "execution_count": 0,
      "outputs": []
    },
    {
      "cell_type": "code",
      "metadata": {
        "id": "DC-PuJCn47lP",
        "colab_type": "code",
        "colab": {
          "base_uri": "https://localhost:8080/",
          "height": 35
        },
        "outputId": "02fcf61d-2901-4c15-b76c-c298b40232fa"
      },
      "source": [
        "true_positives = [1 for (label_test, label_pred) in zip(true_labels, predictions) if ( label_test == 1 ) and (label_test == label_pred)]\n",
        "len(true_positives)"
      ],
      "execution_count": 19,
      "outputs": [
        {
          "output_type": "execute_result",
          "data": {
            "text/plain": [
              "6"
            ]
          },
          "metadata": {
            "tags": []
          },
          "execution_count": 19
        }
      ]
    },
    {
      "cell_type": "code",
      "metadata": {
        "id": "KSG71NEJ5Imh",
        "colab_type": "code",
        "colab": {
          "base_uri": "https://localhost:8080/",
          "height": 35
        },
        "outputId": "03772e0b-30fe-4e96-f5c3-862cdbdeb664"
      },
      "source": [
        "true_negatives = [1 for (label_test, label_pred) in zip(true_labels, predictions) if ( label_test == 0 ) and (label_test == label_pred)]\n",
        "len(true_negatives)"
      ],
      "execution_count": 20,
      "outputs": [
        {
          "output_type": "execute_result",
          "data": {
            "text/plain": [
              "9"
            ]
          },
          "metadata": {
            "tags": []
          },
          "execution_count": 20
        }
      ]
    },
    {
      "cell_type": "code",
      "metadata": {
        "id": "N69HuqOE5uJY",
        "colab_type": "code",
        "colab": {
          "base_uri": "https://localhost:8080/",
          "height": 35
        },
        "outputId": "0fab76f4-63ac-4a5d-b2d9-a655921feb97"
      },
      "source": [
        "false_positives = [1 for (label_test, label_pred) in zip(true_labels, predictions) if ( label_pred == 1 ) and (label_test == 0)]\n",
        "len(false_positives)"
      ],
      "execution_count": 21,
      "outputs": [
        {
          "output_type": "execute_result",
          "data": {
            "text/plain": [
              "3"
            ]
          },
          "metadata": {
            "tags": []
          },
          "execution_count": 21
        }
      ]
    },
    {
      "cell_type": "code",
      "metadata": {
        "id": "BYRleaN358Ar",
        "colab_type": "code",
        "colab": {
          "base_uri": "https://localhost:8080/",
          "height": 35
        },
        "outputId": "cdc74312-0f18-48da-c540-90cacbc0b007"
      },
      "source": [
        "false_negatives = [1 for (label_test, label_pred) in zip(true_labels, predictions) if ( label_pred == 0 ) and (label_test == 1)]\n",
        "len(false_negatives)"
      ],
      "execution_count": 22,
      "outputs": [
        {
          "output_type": "execute_result",
          "data": {
            "text/plain": [
              "2"
            ]
          },
          "metadata": {
            "tags": []
          },
          "execution_count": 22
        }
      ]
    },
    {
      "cell_type": "code",
      "metadata": {
        "id": "Fa8zgms76QvP",
        "colab_type": "code",
        "colab": {
          "base_uri": "https://localhost:8080/",
          "height": 90
        },
        "outputId": "c9a1eeb3-a697-405c-acbb-acd1c37d1a0b"
      },
      "source": [
        "from sklearn.metrics import precision_score\n",
        "from sklearn.metrics import recall_score\n",
        "from sklearn.metrics import f1_score\n",
        "\n",
        "accuracy = accuracy_score(true_labels, predictions, normalize=True)\n",
        "precision = precision_score(true_labels, predictions)\n",
        "recall = recall_score(true_labels, predictions)\n",
        "f1score = f1_score(true_labels, predictions)\n",
        "\n",
        "print accuracy\n",
        "print precision\n",
        "print recall\n",
        "print f1score"
      ],
      "execution_count": 24,
      "outputs": [
        {
          "output_type": "stream",
          "text": [
            "0.75\n",
            "0.6666666666666666\n",
            "0.75\n",
            "0.7058823529411765\n"
          ],
          "name": "stdout"
        }
      ]
    }
  ]
}