{
  "nbformat": 4,
  "nbformat_minor": 0,
  "metadata": {
    "colab": {
      "name": "explore_enron_data.ipynb",
      "version": "0.3.2",
      "provenance": [],
      "include_colab_link": true
    },
    "kernelspec": {
      "name": "python2",
      "display_name": "Python 2"
    }
  },
  "cells": [
    {
      "cell_type": "markdown",
      "metadata": {
        "id": "view-in-github",
        "colab_type": "text"
      },
      "source": [
        "<a href=\"https://colab.research.google.com/github/aicharya/ud120-projects/blob/master/datasets_questions/explore_enron_data.ipynb\" target=\"_parent\"><img src=\"https://colab.research.google.com/assets/colab-badge.svg\" alt=\"Open In Colab\"/></a>"
      ]
    },
    {
      "cell_type": "code",
      "metadata": {
        "id": "f0a0VorxemwA",
        "colab_type": "code",
        "colab": {
          "base_uri": "https://localhost:8080/",
          "height": 145
        },
        "outputId": "7fe8b461-5871-4e3d-a9d6-b2d4bf355756"
      },
      "source": [
        "!git clone https://github.com/aicharya/ud120-projects.git"
      ],
      "execution_count": 1,
      "outputs": [
        {
          "output_type": "stream",
          "text": [
            "Cloning into 'ud120-projects'...\n",
            "remote: Enumerating objects: 115, done.\u001b[K\n",
            "remote: Counting objects: 100% (115/115), done.\u001b[K\n",
            "remote: Compressing objects: 100% (115/115), done.\u001b[K\n",
            "remote: Total 5161 (delta 67), reused 0 (delta 0), pack-reused 5046\u001b[K\n",
            "Receiving objects: 100% (5161/5161), 19.73 MiB | 22.20 MiB/s, done.\n",
            "Resolving deltas: 100% (4439/4439), done.\n"
          ],
          "name": "stdout"
        }
      ]
    },
    {
      "cell_type": "code",
      "metadata": {
        "id": "mHQ0EmZCeu68",
        "colab_type": "code",
        "colab": {
          "base_uri": "https://localhost:8080/",
          "height": 35
        },
        "outputId": "3eeb1c20-01c6-43bd-ecb4-e1b6bb80aba6"
      },
      "source": [
        "import os\n",
        "os.chdir('ud120-projects/datasets_questions')\n",
        "os.listdir(os.getcwd())"
      ],
      "execution_count": 2,
      "outputs": [
        {
          "output_type": "execute_result",
          "data": {
            "text/plain": [
              "['explore_enron_data.py', 'explore_enron_data.ipynb']"
            ]
          },
          "metadata": {
            "tags": []
          },
          "execution_count": 2
        }
      ]
    },
    {
      "cell_type": "markdown",
      "metadata": {
        "id": "BqnVqDdxegWU",
        "colab_type": "text"
      },
      "source": [
        "The email + finance (E+F) data dictionary is stored as a pickle file"
      ]
    },
    {
      "cell_type": "code",
      "metadata": {
        "id": "TCwki6FTdZUK",
        "colab_type": "code",
        "colab": {}
      },
      "source": [
        "import pickle\n",
        "\n",
        "enron_data = pickle.load(open(\"../final_project/final_project_dataset.pkl\", \"rb\"))"
      ],
      "execution_count": 0,
      "outputs": []
    },
    {
      "cell_type": "code",
      "metadata": {
        "id": "XXaQMSExfM3P",
        "colab_type": "code",
        "colab": {
          "base_uri": "https://localhost:8080/",
          "height": 35
        },
        "outputId": "c65bb6de-7ebf-413b-cc99-accc46527b6b"
      },
      "source": [
        "len(enron_data)"
      ],
      "execution_count": 6,
      "outputs": [
        {
          "output_type": "execute_result",
          "data": {
            "text/plain": [
              "146"
            ]
          },
          "metadata": {
            "tags": []
          },
          "execution_count": 6
        }
      ]
    },
    {
      "cell_type": "code",
      "metadata": {
        "id": "rx5Wf72ffbgo",
        "colab_type": "code",
        "colab": {
          "base_uri": "https://localhost:8080/",
          "height": 35
        },
        "outputId": "41d62f71-603a-455f-d410-faa008e6e4b9"
      },
      "source": [
        "first = enron_data.values()[0]\n",
        "len(first)"
      ],
      "execution_count": 13,
      "outputs": [
        {
          "output_type": "execute_result",
          "data": {
            "text/plain": [
              "21"
            ]
          },
          "metadata": {
            "tags": []
          },
          "execution_count": 13
        }
      ]
    },
    {
      "cell_type": "code",
      "metadata": {
        "id": "ZLNu8H8Hj4tc",
        "colab_type": "code",
        "colab": {
          "base_uri": "https://localhost:8080/",
          "height": 399
        },
        "outputId": "aa8fa214-68f1-4e08-8479-8d94b2b12e88"
      },
      "source": [
        "first"
      ],
      "execution_count": 23,
      "outputs": [
        {
          "output_type": "execute_result",
          "data": {
            "text/plain": [
              "{'bonus': 600000,\n",
              " 'deferral_payments': 'NaN',\n",
              " 'deferred_income': 'NaN',\n",
              " 'director_fees': 'NaN',\n",
              " 'email_address': 'mark.metts@enron.com',\n",
              " 'exercised_stock_options': 'NaN',\n",
              " 'expenses': 94299,\n",
              " 'from_messages': 29,\n",
              " 'from_poi_to_this_person': 38,\n",
              " 'from_this_person_to_poi': 1,\n",
              " 'loan_advances': 'NaN',\n",
              " 'long_term_incentive': 'NaN',\n",
              " 'other': 1740,\n",
              " 'poi': False,\n",
              " 'restricted_stock': 585062,\n",
              " 'restricted_stock_deferred': 'NaN',\n",
              " 'salary': 365788,\n",
              " 'shared_receipt_with_poi': 702,\n",
              " 'to_messages': 807,\n",
              " 'total_payments': 1061827,\n",
              " 'total_stock_value': 585062}"
            ]
          },
          "metadata": {
            "tags": []
          },
          "execution_count": 23
        }
      ]
    },
    {
      "cell_type": "code",
      "metadata": {
        "id": "whX6UFpsjxUZ",
        "colab_type": "code",
        "colab": {
          "base_uri": "https://localhost:8080/",
          "height": 345
        },
        "outputId": "ef12a1d1-796f-4921-d4ce-f8ff6d3a0e6c"
      },
      "source": [
        "[name for (name, features) in enron_data.iteritems() if features.get('poi')]"
      ],
      "execution_count": 35,
      "outputs": [
        {
          "output_type": "execute_result",
          "data": {
            "text/plain": [
              "['HANNON KEVIN P',\n",
              " 'COLWELL WESLEY',\n",
              " 'RIEKER PAULA H',\n",
              " 'KOPPER MICHAEL J',\n",
              " 'SHELBY REX',\n",
              " 'DELAINEY DAVID W',\n",
              " 'LAY KENNETH L',\n",
              " 'BOWEN JR RAYMOND M',\n",
              " 'BELDEN TIMOTHY N',\n",
              " 'FASTOW ANDREW S',\n",
              " 'CALGER CHRISTOPHER F',\n",
              " 'RICE KENNETH D',\n",
              " 'SKILLING JEFFREY K',\n",
              " 'YEAGER F SCOTT',\n",
              " 'HIRKO JOSEPH',\n",
              " 'KOENIG MARK E',\n",
              " 'CAUSEY RICHARD A',\n",
              " 'GLISAN JR BEN F']"
            ]
          },
          "metadata": {
            "tags": []
          },
          "execution_count": 35
        }
      ]
    },
    {
      "cell_type": "code",
      "metadata": {
        "id": "LAxIBo1zmLlH",
        "colab_type": "code",
        "colab": {
          "base_uri": "https://localhost:8080/",
          "height": 35
        },
        "outputId": "ae52c286-818c-43ff-aec5-111181cf7e8d"
      },
      "source": [
        "len([name for (name, features) in enron_data.iteritems() if features.get('poi')])"
      ],
      "execution_count": 36,
      "outputs": [
        {
          "output_type": "execute_result",
          "data": {
            "text/plain": [
              "18"
            ]
          },
          "metadata": {
            "tags": []
          },
          "execution_count": 36
        }
      ]
    },
    {
      "cell_type": "code",
      "metadata": {
        "id": "oqxXkfjnl6Ra",
        "colab_type": "code",
        "colab": {
          "base_uri": "https://localhost:8080/",
          "height": 345
        },
        "outputId": "1c9eca48-bb9f-4569-ee68-5bf1b80b5f5a"
      },
      "source": [
        "[name for (name, features) in enron_data.iteritems() if enron_data[name]['poi']]"
      ],
      "execution_count": 37,
      "outputs": [
        {
          "output_type": "execute_result",
          "data": {
            "text/plain": [
              "['HANNON KEVIN P',\n",
              " 'COLWELL WESLEY',\n",
              " 'RIEKER PAULA H',\n",
              " 'KOPPER MICHAEL J',\n",
              " 'SHELBY REX',\n",
              " 'DELAINEY DAVID W',\n",
              " 'LAY KENNETH L',\n",
              " 'BOWEN JR RAYMOND M',\n",
              " 'BELDEN TIMOTHY N',\n",
              " 'FASTOW ANDREW S',\n",
              " 'CALGER CHRISTOPHER F',\n",
              " 'RICE KENNETH D',\n",
              " 'SKILLING JEFFREY K',\n",
              " 'YEAGER F SCOTT',\n",
              " 'HIRKO JOSEPH',\n",
              " 'KOENIG MARK E',\n",
              " 'CAUSEY RICHARD A',\n",
              " 'GLISAN JR BEN F']"
            ]
          },
          "metadata": {
            "tags": []
          },
          "execution_count": 37
        }
      ]
    },
    {
      "cell_type": "code",
      "metadata": {
        "id": "f8_reXVGmQCg",
        "colab_type": "code",
        "colab": {
          "base_uri": "https://localhost:8080/",
          "height": 35
        },
        "outputId": "57cc9562-35c4-48df-a4e8-1776e59cb75b"
      },
      "source": [
        "len([name for (name, features) in enron_data.iteritems() if enron_data[name]['poi']])"
      ],
      "execution_count": 38,
      "outputs": [
        {
          "output_type": "execute_result",
          "data": {
            "text/plain": [
              "18"
            ]
          },
          "metadata": {
            "tags": []
          },
          "execution_count": 38
        }
      ]
    }
  ]
}