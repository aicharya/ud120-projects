{
  "nbformat": 4,
  "nbformat_minor": 0,
  "metadata": {
    "colab": {
      "name": "explore_enron_data.ipynb",
      "provenance": [],
      "include_colab_link": true
    },
    "kernelspec": {
      "name": "python2",
      "display_name": "Python 2"
    }
  },
  "cells": [
    {
      "cell_type": "markdown",
      "metadata": {
        "id": "view-in-github",
        "colab_type": "text"
      },
      "source": [
        "<a href=\"https://colab.research.google.com/github/aicharya/ud120-projects/blob/master/datasets_questions/explore_enron_data.ipynb\" target=\"_parent\"><img src=\"https://colab.research.google.com/assets/colab-badge.svg\" alt=\"Open In Colab\"/></a>"
      ]
    },
    {
      "cell_type": "code",
      "metadata": {
        "id": "f0a0VorxemwA",
        "colab_type": "code",
        "outputId": "d25d88be-43be-4a10-977c-6cdf19566817",
        "colab": {
          "base_uri": "https://localhost:8080/",
          "height": 145
        }
      },
      "source": [
        "!git clone https://github.com/aicharya/ud120-projects.git"
      ],
      "execution_count": 17,
      "outputs": [
        {
          "output_type": "stream",
          "text": [
            "Cloning into 'ud120-projects'...\n",
            "remote: Enumerating objects: 127, done.\u001b[K\n",
            "remote: Counting objects:   0% (1/127)\u001b[K\rremote: Counting objects:   1% (2/127)\u001b[K\rremote: Counting objects:   2% (3/127)\u001b[K\rremote: Counting objects:   3% (4/127)\u001b[K\rremote: Counting objects:   4% (6/127)\u001b[K\rremote: Counting objects:   5% (7/127)\u001b[K\rremote: Counting objects:   6% (8/127)\u001b[K\rremote: Counting objects:   7% (9/127)\u001b[K\rremote: Counting objects:   8% (11/127)\u001b[K\rremote: Counting objects:   9% (12/127)\u001b[K\rremote: Counting objects:  10% (13/127)\u001b[K\rremote: Counting objects:  11% (14/127)\u001b[K\rremote: Counting objects:  12% (16/127)\u001b[K\rremote: Counting objects:  13% (17/127)\u001b[K\rremote: Counting objects:  14% (18/127)\u001b[K\rremote: Counting objects:  15% (20/127)\u001b[K\rremote: Counting objects:  16% (21/127)\u001b[K\rremote: Counting objects:  17% (22/127)\u001b[K\rremote: Counting objects:  18% (23/127)\u001b[K\rremote: Counting objects:  19% (25/127)\u001b[K\rremote: Counting objects:  20% (26/127)\u001b[K\rremote: Counting objects:  21% (27/127)\u001b[K\rremote: Counting objects:  22% (28/127)\u001b[K\rremote: Counting objects:  23% (30/127)\u001b[K\rremote: Counting objects:  24% (31/127)\u001b[K\rremote: Counting objects:  25% (32/127)\u001b[K\rremote: Counting objects:  26% (34/127)\u001b[K\rremote: Counting objects:  27% (35/127)\u001b[K\rremote: Counting objects:  28% (36/127)\u001b[K\rremote: Counting objects:  29% (37/127)\u001b[K\rremote: Counting objects:  30% (39/127)\u001b[K\rremote: Counting objects:  31% (40/127)\u001b[K\rremote: Counting objects:  32% (41/127)\u001b[K\rremote: Counting objects:  33% (42/127)\u001b[K\rremote: Counting objects:  34% (44/127)\u001b[K\rremote: Counting objects:  35% (45/127)\u001b[K\rremote: Counting objects:  36% (46/127)\u001b[K\rremote: Counting objects:  37% (47/127)\u001b[K\rremote: Counting objects:  38% (49/127)\u001b[K\rremote: Counting objects:  39% (50/127)\u001b[K\rremote: Counting objects:  40% (51/127)\u001b[K\rremote: Counting objects:  41% (53/127)\u001b[K\rremote: Counting objects:  42% (54/127)\u001b[K\rremote: Counting objects:  43% (55/127)\u001b[K\rremote: Counting objects:  44% (56/127)\u001b[K\rremote: Counting objects:  45% (58/127)\u001b[K\rremote: Counting objects:  46% (59/127)\u001b[K\rremote: Counting objects:  47% (60/127)\u001b[K\rremote: Counting objects:  48% (61/127)\u001b[K\rremote: Counting objects:  49% (63/127)\u001b[K\rremote: Counting objects:  50% (64/127)\u001b[K\rremote: Counting objects:  51% (65/127)\u001b[K\rremote: Counting objects:  52% (67/127)\u001b[K\rremote: Counting objects:  53% (68/127)\u001b[K\rremote: Counting objects:  54% (69/127)\u001b[K\rremote: Counting objects:  55% (70/127)\u001b[K\rremote: Counting objects:  56% (72/127)\u001b[K\rremote: Counting objects:  57% (73/127)\u001b[K\rremote: Counting objects:  58% (74/127)\u001b[K\rremote: Counting objects:  59% (75/127)\u001b[K\rremote: Counting objects:  60% (77/127)\u001b[K\rremote: Counting objects:  61% (78/127)\u001b[K\rremote: Counting objects:  62% (79/127)\u001b[K\rremote: Counting objects:  63% (81/127)\u001b[K\rremote: Counting objects:  64% (82/127)\u001b[K\rremote: Counting objects:  65% (83/127)\u001b[K\rremote: Counting objects:  66% (84/127)\u001b[K\rremote: Counting objects:  67% (86/127)\u001b[K\rremote: Counting objects:  68% (87/127)\u001b[K\rremote: Counting objects:  69% (88/127)\u001b[K\rremote: Counting objects:  70% (89/127)\u001b[K\rremote: Counting objects:  71% (91/127)\u001b[K\rremote: Counting objects:  72% (92/127)\u001b[K\rremote: Counting objects:  73% (93/127)\u001b[K\rremote: Counting objects:  74% (94/127)\u001b[K\rremote: Counting objects:  75% (96/127)\u001b[K\rremote: Counting objects:  76% (97/127)\u001b[K\rremote: Counting objects:  77% (98/127)\u001b[K\rremote: Counting objects:  78% (100/127)\u001b[K\rremote: Counting objects:  79% (101/127)\u001b[K\rremote: Counting objects:  80% (102/127)\u001b[K\rremote: Counting objects:  81% (103/127)\u001b[K\rremote: Counting objects:  82% (105/127)\u001b[K\rremote: Counting objects:  83% (106/127)\u001b[K\rremote: Counting objects:  84% (107/127)\u001b[K\rremote: Counting objects:  85% (108/127)\u001b[K\rremote: Counting objects:  86% (110/127)\u001b[K\rremote: Counting objects:  87% (111/127)\u001b[K\rremote: Counting objects:  88% (112/127)\u001b[K\rremote: Counting objects:  89% (114/127)\u001b[K\rremote: Counting objects:  90% (115/127)\u001b[K\rremote: Counting objects:  91% (116/127)\u001b[K\rremote: Counting objects:  92% (117/127)\u001b[K\rremote: Counting objects:  93% (119/127)\u001b[K\rremote: Counting objects:  94% (120/127)\u001b[K\rremote: Counting objects:  95% (121/127)\u001b[K\rremote: Counting objects:  96% (122/127)\u001b[K\rremote: Counting objects:  97% (124/127)\u001b[K\rremote: Counting objects:  98% (125/127)\u001b[K\rremote: Counting objects:  99% (126/127)\u001b[K\rremote: Counting objects: 100% (127/127)\u001b[K\rremote: Counting objects: 100% (127/127), done.\u001b[K\n",
            "remote: Compressing objects: 100% (127/127), done.\u001b[K\n",
            "remote: Total 5173 (delta 72), reused 0 (delta 0), pack-reused 5046\u001b[K\n",
            "Receiving objects: 100% (5173/5173), 19.73 MiB | 20.03 MiB/s, done.\n",
            "Resolving deltas: 100% (4444/4444), done.\n"
          ],
          "name": "stdout"
        }
      ]
    },
    {
      "cell_type": "code",
      "metadata": {
        "id": "mHQ0EmZCeu68",
        "colab_type": "code",
        "outputId": "447300e3-8d8b-4c6b-88c7-1bf775b692e6",
        "colab": {
          "base_uri": "https://localhost:8080/",
          "height": 35
        }
      },
      "source": [
        "import os\n",
        "os.chdir('ud120-projects/datasets_questions')\n",
        "os.listdir(os.getcwd())"
      ],
      "execution_count": 18,
      "outputs": [
        {
          "output_type": "execute_result",
          "data": {
            "text/plain": [
              "['explore_enron_data.ipynb', 'explore_enron_data.py']"
            ]
          },
          "metadata": {
            "tags": []
          },
          "execution_count": 18
        }
      ]
    },
    {
      "cell_type": "markdown",
      "metadata": {
        "id": "BqnVqDdxegWU",
        "colab_type": "text"
      },
      "source": [
        "The email + finance (E+F) data dictionary is stored as a pickle file"
      ]
    },
    {
      "cell_type": "code",
      "metadata": {
        "id": "TCwki6FTdZUK",
        "colab_type": "code",
        "colab": {}
      },
      "source": [
        "import pickle\n",
        "\n",
        "enron_data = pickle.load(open(\"../final_project/final_project_dataset.pkl\", \"rb\"))"
      ],
      "execution_count": 0,
      "outputs": []
    },
    {
      "cell_type": "markdown",
      "metadata": {
        "id": "N58F3oNzm6pt",
        "colab_type": "text"
      },
      "source": [
        "how many data items?"
      ]
    },
    {
      "cell_type": "code",
      "metadata": {
        "id": "XXaQMSExfM3P",
        "colab_type": "code",
        "outputId": "e5ca3d75-ea80-4c65-c6e5-dde79bea5ca1",
        "colab": {
          "base_uri": "https://localhost:8080/",
          "height": 35
        }
      },
      "source": [
        "len(enron_data)"
      ],
      "execution_count": 20,
      "outputs": [
        {
          "output_type": "execute_result",
          "data": {
            "text/plain": [
              "146"
            ]
          },
          "metadata": {
            "tags": []
          },
          "execution_count": 20
        }
      ]
    },
    {
      "cell_type": "markdown",
      "metadata": {
        "id": "_RBzyp63m9-V",
        "colab_type": "text"
      },
      "source": [
        "how many featuers?"
      ]
    },
    {
      "cell_type": "code",
      "metadata": {
        "id": "rx5Wf72ffbgo",
        "colab_type": "code",
        "outputId": "0e48efaf-1d9a-43b4-8893-1f6fabe04f90",
        "colab": {
          "base_uri": "https://localhost:8080/",
          "height": 35
        }
      },
      "source": [
        "first = enron_data.values()[0]\n",
        "len(first)"
      ],
      "execution_count": 31,
      "outputs": [
        {
          "output_type": "execute_result",
          "data": {
            "text/plain": [
              "21"
            ]
          },
          "metadata": {
            "tags": []
          },
          "execution_count": 31
        }
      ]
    },
    {
      "cell_type": "code",
      "metadata": {
        "id": "ZLNu8H8Hj4tc",
        "colab_type": "code",
        "outputId": "35157004-1d75-4909-b6c8-63cd16470883",
        "colab": {
          "base_uri": "https://localhost:8080/",
          "height": 399
        }
      },
      "source": [
        "first"
      ],
      "execution_count": 22,
      "outputs": [
        {
          "output_type": "execute_result",
          "data": {
            "text/plain": [
              "{'bonus': 600000,\n",
              " 'deferral_payments': 'NaN',\n",
              " 'deferred_income': 'NaN',\n",
              " 'director_fees': 'NaN',\n",
              " 'email_address': 'mark.metts@enron.com',\n",
              " 'exercised_stock_options': 'NaN',\n",
              " 'expenses': 94299,\n",
              " 'from_messages': 29,\n",
              " 'from_poi_to_this_person': 38,\n",
              " 'from_this_person_to_poi': 1,\n",
              " 'loan_advances': 'NaN',\n",
              " 'long_term_incentive': 'NaN',\n",
              " 'other': 1740,\n",
              " 'poi': False,\n",
              " 'restricted_stock': 585062,\n",
              " 'restricted_stock_deferred': 'NaN',\n",
              " 'salary': 365788,\n",
              " 'shared_receipt_with_poi': 702,\n",
              " 'to_messages': 807,\n",
              " 'total_payments': 1061827,\n",
              " 'total_stock_value': 585062}"
            ]
          },
          "metadata": {
            "tags": []
          },
          "execution_count": 22
        }
      ]
    },
    {
      "cell_type": "markdown",
      "metadata": {
        "id": "IR7dPdwvnAqm",
        "colab_type": "text"
      },
      "source": [
        "How many POIs we have data for?\n"
      ]
    },
    {
      "cell_type": "code",
      "metadata": {
        "id": "whX6UFpsjxUZ",
        "colab_type": "code",
        "outputId": "d05c5633-c5c1-455d-cb3e-76824ff94c23",
        "colab": {
          "base_uri": "https://localhost:8080/",
          "height": 345
        }
      },
      "source": [
        "[name for (name, features) in enron_data.iteritems() if features.get('poi')]"
      ],
      "execution_count": 23,
      "outputs": [
        {
          "output_type": "execute_result",
          "data": {
            "text/plain": [
              "['HANNON KEVIN P',\n",
              " 'COLWELL WESLEY',\n",
              " 'RIEKER PAULA H',\n",
              " 'KOPPER MICHAEL J',\n",
              " 'SHELBY REX',\n",
              " 'DELAINEY DAVID W',\n",
              " 'LAY KENNETH L',\n",
              " 'BOWEN JR RAYMOND M',\n",
              " 'BELDEN TIMOTHY N',\n",
              " 'FASTOW ANDREW S',\n",
              " 'CALGER CHRISTOPHER F',\n",
              " 'RICE KENNETH D',\n",
              " 'SKILLING JEFFREY K',\n",
              " 'YEAGER F SCOTT',\n",
              " 'HIRKO JOSEPH',\n",
              " 'KOENIG MARK E',\n",
              " 'CAUSEY RICHARD A',\n",
              " 'GLISAN JR BEN F']"
            ]
          },
          "metadata": {
            "tags": []
          },
          "execution_count": 23
        }
      ]
    },
    {
      "cell_type": "code",
      "metadata": {
        "id": "LAxIBo1zmLlH",
        "colab_type": "code",
        "outputId": "3019382b-5d4b-4083-ee37-1485490b3a3b",
        "colab": {
          "base_uri": "https://localhost:8080/",
          "height": 35
        }
      },
      "source": [
        "len([name for (name, features) in enron_data.iteritems() if features.get('poi')])"
      ],
      "execution_count": 24,
      "outputs": [
        {
          "output_type": "execute_result",
          "data": {
            "text/plain": [
              "18"
            ]
          },
          "metadata": {
            "tags": []
          },
          "execution_count": 24
        }
      ]
    },
    {
      "cell_type": "code",
      "metadata": {
        "id": "oqxXkfjnl6Ra",
        "colab_type": "code",
        "outputId": "f744c59b-3780-43b4-e174-4680574d6d81",
        "colab": {
          "base_uri": "https://localhost:8080/",
          "height": 345
        }
      },
      "source": [
        "[name for (name, features) in enron_data.iteritems() if enron_data[name]['poi']]"
      ],
      "execution_count": 25,
      "outputs": [
        {
          "output_type": "execute_result",
          "data": {
            "text/plain": [
              "['HANNON KEVIN P',\n",
              " 'COLWELL WESLEY',\n",
              " 'RIEKER PAULA H',\n",
              " 'KOPPER MICHAEL J',\n",
              " 'SHELBY REX',\n",
              " 'DELAINEY DAVID W',\n",
              " 'LAY KENNETH L',\n",
              " 'BOWEN JR RAYMOND M',\n",
              " 'BELDEN TIMOTHY N',\n",
              " 'FASTOW ANDREW S',\n",
              " 'CALGER CHRISTOPHER F',\n",
              " 'RICE KENNETH D',\n",
              " 'SKILLING JEFFREY K',\n",
              " 'YEAGER F SCOTT',\n",
              " 'HIRKO JOSEPH',\n",
              " 'KOENIG MARK E',\n",
              " 'CAUSEY RICHARD A',\n",
              " 'GLISAN JR BEN F']"
            ]
          },
          "metadata": {
            "tags": []
          },
          "execution_count": 25
        }
      ]
    },
    {
      "cell_type": "code",
      "metadata": {
        "id": "f8_reXVGmQCg",
        "colab_type": "code",
        "outputId": "2917f00b-95f0-4698-811c-979379b763ac",
        "colab": {
          "base_uri": "https://localhost:8080/",
          "height": 35
        }
      },
      "source": [
        "len([name for (name, features) in enron_data.iteritems() if enron_data[name]['poi']])"
      ],
      "execution_count": 26,
      "outputs": [
        {
          "output_type": "execute_result",
          "data": {
            "text/plain": [
              "18"
            ]
          },
          "metadata": {
            "tags": []
          },
          "execution_count": 26
        }
      ]
    },
    {
      "cell_type": "markdown",
      "metadata": {
        "id": "eFUV-BMknHHM",
        "colab_type": "text"
      },
      "source": [
        "Total POIs we have to look at."
      ]
    },
    {
      "cell_type": "code",
      "metadata": {
        "id": "-1d-zLH6mzsy",
        "colab_type": "code",
        "outputId": "f5d438d8-7334-46e9-af31-3645018b73e6",
        "colab": {
          "base_uri": "https://localhost:8080/",
          "height": 690
        }
      },
      "source": [
        "!cat ../final_project/poi_names.txt "
      ],
      "execution_count": 27,
      "outputs": [
        {
          "output_type": "stream",
          "text": [
            "http://usatoday30.usatoday.com/money/industries/energy/2005-12-28-enron-participants_x.htm\n",
            "\n",
            "(y) Lay, Kenneth\n",
            "(y) Skilling, Jeffrey\n",
            "(n) Howard, Kevin\n",
            "(n) Krautz, Michael\n",
            "(n) Yeager, Scott\n",
            "(n) Hirko, Joseph\n",
            "(n) Shelby, Rex\n",
            "(n) Bermingham, David\n",
            "(n) Darby, Giles\n",
            "(n) Mulgrew, Gary\n",
            "(n) Bayley, Daniel\n",
            "(n) Brown, James\n",
            "(n) Furst, Robert\n",
            "(n) Fuhs, William\n",
            "(n) Causey, Richard\n",
            "(n) Calger, Christopher\n",
            "(n) DeSpain, Timothy\n",
            "(n) Hannon, Kevin\n",
            "(n) Koenig, Mark\n",
            "(y) Forney, John\n",
            "(n) Rice, Kenneth\n",
            "(n) Rieker, Paula\n",
            "(n) Fastow, Lea\n",
            "(n) Fastow, Andrew\n",
            "(y) Delainey, David\n",
            "(n) Glisan, Ben\n",
            "(n) Richter, Jeffrey\n",
            "(n) Lawyer, Larry\n",
            "(n) Belden, Timothy\n",
            "(n) Kopper, Michael\n",
            "(n) Duncan, David\n",
            "(n) Bowen, Raymond\n",
            "(n) Colwell, Wesley\n",
            "(n) Boyle, Dan\n",
            "(n) Loehr, Christopher\n"
          ],
          "name": "stdout"
        }
      ]
    },
    {
      "cell_type": "markdown",
      "metadata": {
        "id": "GxD6YlGPdxmL",
        "colab_type": "text"
      },
      "source": [
        "What is the total value of the stock belonging to James Prentice?"
      ]
    },
    {
      "cell_type": "code",
      "metadata": {
        "id": "pRSYhCzmoRyS",
        "colab_type": "code",
        "outputId": "f5189c2b-7e20-4914-9487-b90a4b22b56f",
        "colab": {
          "base_uri": "https://localhost:8080/",
          "height": 35
        }
      },
      "source": [
        "enron_data['PRENTICE JAMES']['total_stock_value']"
      ],
      "execution_count": 28,
      "outputs": [
        {
          "output_type": "execute_result",
          "data": {
            "text/plain": [
              "1095040"
            ]
          },
          "metadata": {
            "tags": []
          },
          "execution_count": 28
        }
      ]
    },
    {
      "cell_type": "markdown",
      "metadata": {
        "id": "fkMjHV5UeO07",
        "colab_type": "text"
      },
      "source": [
        "How many email messages do we have from Wesley Colwell to persons of interest?"
      ]
    },
    {
      "cell_type": "code",
      "metadata": {
        "id": "Dk2Jnyw8o7gm",
        "colab_type": "code",
        "outputId": "2d4bf41c-0914-48d2-bfdf-05201e24f61c",
        "colab": {
          "base_uri": "https://localhost:8080/",
          "height": 35
        }
      },
      "source": [
        "enron_data[\"COLWELL WESLEY\"]['from_this_person_to_poi']"
      ],
      "execution_count": 29,
      "outputs": [
        {
          "output_type": "execute_result",
          "data": {
            "text/plain": [
              "11"
            ]
          },
          "metadata": {
            "tags": []
          },
          "execution_count": 29
        }
      ]
    },
    {
      "cell_type": "markdown",
      "metadata": {
        "id": "G_MVa1gpebe2",
        "colab_type": "text"
      },
      "source": [
        "What’s the value of stock options exercised by Jeffrey K Skilling?"
      ]
    },
    {
      "cell_type": "code",
      "metadata": {
        "id": "oppkUyAopXbH",
        "colab_type": "code",
        "outputId": "81d518ca-5e74-4b52-f7cb-599746106e11",
        "colab": {
          "base_uri": "https://localhost:8080/",
          "height": 35
        }
      },
      "source": [
        " enron_data[\"SKILLING JEFFREY K\"]['exercised_stock_options']"
      ],
      "execution_count": 32,
      "outputs": [
        {
          "output_type": "execute_result",
          "data": {
            "text/plain": [
              "19250000"
            ]
          },
          "metadata": {
            "tags": []
          },
          "execution_count": 32
        }
      ]
    },
    {
      "cell_type": "markdown",
      "metadata": {
        "id": "33nZwyikyxtA",
        "colab_type": "text"
      },
      "source": [
        "Of these three individuals (Lay, Skilling and Fastow), who took home the most money (largest value of “total_payments” feature)?"
      ]
    },
    {
      "cell_type": "code",
      "metadata": {
        "id": "ZVIfiHG6v_Sv",
        "colab_type": "code",
        "colab": {}
      },
      "source": [
        "import math"
      ],
      "execution_count": 0,
      "outputs": []
    },
    {
      "cell_type": "code",
      "metadata": {
        "id": "Puhbqz9xittP",
        "colab_type": "code",
        "colab": {
          "base_uri": "https://localhost:8080/",
          "height": 1000
        },
        "outputId": "b713187f-8e15-4957-f5ac-c05d9ab786c1"
      },
      "source": [
        "total_payments = [(name, features['total_payments']) for (name, features) in enron_data.iteritems() if isinstance(features['total_payments'], int)  ]\n",
        "sorted(total_payments, key = lambda x : x[1], reverse=True)"
      ],
      "execution_count": 55,
      "outputs": [
        {
          "output_type": "execute_result",
          "data": {
            "text/plain": [
              "[('TOTAL', 309886585),\n",
              " ('LAY KENNETH L', 103559793),\n",
              " ('FREVERT MARK A', 17252530),\n",
              " ('BHATNAGAR SANJAY', 15456290),\n",
              " ('LAVORATO JOHN J', 10425757),\n",
              " ('SKILLING JEFFREY K', 8682716),\n",
              " ('MARTIN AMANDA K', 8407016),\n",
              " ('BAXTER JOHN C', 5634343),\n",
              " ('BELDEN TIMOTHY N', 5501630),\n",
              " ('DELAINEY DAVID W', 4747979),\n",
              " ('WHALLEY LAWRENCE G', 4677574),\n",
              " ('ALLEN PHILLIP K', 4484442),\n",
              " ('SHERRIFF JOHN R', 4335388),\n",
              " ('MCMAHON JEFFREY', 4099771),\n",
              " ('HAEDICKE MARK E', 3859065),\n",
              " ('FALLON JAMES B', 3676340),\n",
              " ('KITCHEN LOUISE', 3471141),\n",
              " ('MULLER MARK S', 3202070),\n",
              " ('HORTON STANLEY C', 3131860),\n",
              " ('PAI LOU L', 3123383),\n",
              " ('HUMPHREY GENE E', 3100224),\n",
              " ('SHANKMAN JEFFREY A', 3038702),\n",
              " ('ECHOLS JOHN B', 2692324),\n",
              " ('BOWEN JR RAYMOND M', 2669589),\n",
              " ('LEFF DANIEL P', 2664228),\n",
              " ('KOPPER MICHAEL J', 2652612),\n",
              " ('FASTOW ANDREW S', 2424083),\n",
              " ('DIMICHELE RICHARD G', 2368151),\n",
              " ('BUY RICHARD B', 2355702),\n",
              " ('GOLD JOSEPH', 2146973),\n",
              " ('MCCONNELL MICHAEL S', 2101364),\n",
              " ('DURAN WILLIAM D', 2093263),\n",
              " ('HICKERSON GARY J', 2081796),\n",
              " ('BIBI PHILIPPE A', 2047593),\n",
              " ('BLACHMAN JEREMY M', 2014835),\n",
              " ('SHELBY REX', 2003885),\n",
              " ('IZZO LAWRENCE L', 1979596),\n",
              " ('WHITE JR THOMAS E', 1934359),\n",
              " ('CAUSEY RICHARD A', 1868758),\n",
              " ('MEYER ROCKFORD G', 1848227),\n",
              " ('WALLS JR ROBERT H', 1798780),\n",
              " ('KEAN STEVEN J', 1747522),\n",
              " ('PIPER GREGORY F', 1737629),\n",
              " ('CALGER CHRISTOPHER F', 1639297),\n",
              " ('KOENIG MARK E', 1587421),\n",
              " ('SHARP VICTORIA T', 1576511),\n",
              " ('GARLAND C KEVIN', 1566469),\n",
              " ('SUNDE MARTIN', 1545059),\n",
              " ('COLWELL WESLEY', 1490344),\n",
              " ('FITZGERALD JAY L', 1414857),\n",
              " ('DIETRICH JANET R', 1410464),\n",
              " ('PICKERING MARK R', 1386690),\n",
              " ('OLSON CINDY K', 1321557),\n",
              " ('MCCLELLAN GEORGE', 1318763),\n",
              " ('HERMANN ROBERT J', 1297461),\n",
              " ('GLISAN JR BEN F', 1272284),\n",
              " ('BUTTS ROBERT H', 1271582),\n",
              " ('DEFFNER JOSEPH M', 1208649),\n",
              " ('DETMERING TIMOTHY J', 1204583),\n",
              " ('GRAY RODNEY', 1146658),\n",
              " ('UMANOFF ADAM S', 1130461),\n",
              " ('STABLER FRANK', 1112087),\n",
              " ('COX DAVID', 1101393),\n",
              " ('RIEKER PAULA H', 1099100),\n",
              " ('TAYLOR MITCHELL S', 1092663),\n",
              " ('KAMINSKI WINCENTY J', 1086821),\n",
              " ('METTS MARK', 1061827),\n",
              " ('SHAPIRO RICHARD S', 1057548),\n",
              " ('BUCHANAN HAROLD G', 1054637),\n",
              " ('WASAFF GEORGE', 1034395),\n",
              " ('SULLIVAN-SHAKLOVITZ COLLEEN', 999356),\n",
              " ('BECK SALLY W', 969068),\n",
              " ('GIBBS DANA R', 966522),\n",
              " ('BANNANTINE JAMES M', 916197),\n",
              " ('THORN TERENCE H', 911453),\n",
              " ('GAHN ROBERT S', 900585),\n",
              " ('LINDHOLM TOD A', 875889),\n",
              " ('DONAHUE JR JEFFREY M', 875760),\n",
              " ('BAZELIDES PHILIP J', 860136),\n",
              " ('BAY FRANKLIN R', 827696),\n",
              " ('MURRAY JULIA H', 812194),\n",
              " ('CUMBERLAND MICHAEL S', 807956),\n",
              " ('NOLES JAMES L', 774401),\n",
              " ('WESTFAHL RICHARD K', 762135),\n",
              " ('KISHKILL JOSEPH G', 704896),\n",
              " ('MORDAUNT KRISTINA M', 628522),\n",
              " ('BERGSIEKER RICHARD P', 618850),\n",
              " ('PRENTICE JAMES', 564348),\n",
              " ('JACKSON CHARLENE R', 551174),\n",
              " ('DERRICK JR. JAMES V', 550981),\n",
              " ('RICE KENNETH D', 505050),\n",
              " ('CARTER REBECCA C', 477557),\n",
              " ('TILNEY ELIZABETH A', 399393),\n",
              " ('REYNOLDS LAWRENCE', 394475),\n",
              " ('THE TRAVEL AGENCY IN THE PARK', 362096),\n",
              " ('YEAGER F SCOTT', 360300),\n",
              " ('DODSON KEITH', 319941),\n",
              " ('HANNON KEVIN P', 288682),\n",
              " ('OVERDYKE JR JERE C', 249787),\n",
              " ('URQUHART JOHN A', 228656),\n",
              " ('BERBERIAN DAVID', 228474),\n",
              " ('WAKEHAM JOHN', 213071),\n",
              " ('ELLIOTT STEVEN', 211725),\n",
              " ('WODRASKA JOHN', 189583),\n",
              " ('BADUM JAMES P', 182466),\n",
              " ('FOY JOE', 181755),\n",
              " ('GRAMM WENDY L', 119292),\n",
              " ('REDMOND BRIAN L', 111529),\n",
              " ('BELFER ROBERT', 102500),\n",
              " ('HIRKO JOSEPH', 91093),\n",
              " ('LEMAISTRE CHARLES', 87492),\n",
              " ('WALTERS GARETH W', 87410),\n",
              " ('WINOKUR JR. HERBERT S', 84992),\n",
              " ('JAEDICKE ROBERT', 83750),\n",
              " ('DUNCAN JOHN H', 77492),\n",
              " ('YEAP SOON', 55097),\n",
              " ('FUGH JOHN L', 50591),\n",
              " ('BROWN MICHAEL', 49288),\n",
              " ('PEREIRA PAULO V. FERRAZ', 27942),\n",
              " ('HAYES ROBERT E', 7961),\n",
              " ('SAVAGE FRANK', 3750),\n",
              " ('MEYER JEROME J', 2151),\n",
              " ('BLAKE JR. NORMAN P', 1279),\n",
              " ('HAUG DAVID L', 475),\n",
              " ('MENDELSOHN JOHN', 148)]"
            ]
          },
          "metadata": {
            "tags": []
          },
          "execution_count": 55
        }
      ]
    },
    {
      "cell_type": "markdown",
      "metadata": {
        "id": "cdhtiFYl2y3S",
        "colab_type": "text"
      },
      "source": [
        "How many folks in this dataset have a quantified salary?"
      ]
    },
    {
      "cell_type": "code",
      "metadata": {
        "id": "MN8Oudq52x9N",
        "colab_type": "code",
        "colab": {
          "base_uri": "https://localhost:8080/",
          "height": 35
        },
        "outputId": "50614def-f603-4990-8c93-418632d6460e"
      },
      "source": [
        "with_salary = [(name, features['salary']) for (name, features) in enron_data.iteritems() if isinstance(features['salary'], int)  ]\n",
        "len(with_salary)"
      ],
      "execution_count": 57,
      "outputs": [
        {
          "output_type": "execute_result",
          "data": {
            "text/plain": [
              "95"
            ]
          },
          "metadata": {
            "tags": []
          },
          "execution_count": 57
        }
      ]
    },
    {
      "cell_type": "markdown",
      "metadata": {
        "id": "YRm0jSYx23X5",
        "colab_type": "text"
      },
      "source": [
        "How many folks in this dataset have a known email address?"
      ]
    },
    {
      "cell_type": "code",
      "metadata": {
        "id": "M40kHqmL3AWM",
        "colab_type": "code",
        "colab": {
          "base_uri": "https://localhost:8080/",
          "height": 35
        },
        "outputId": "3224aee7-3419-4caa-8332-090c2b2f1e1a"
      },
      "source": [
        "with_email = [(name, features['email_address']) for (name, features) in enron_data.iteritems() if features['email_address'] not in ['NaN'] ]\n",
        "len(with_email )"
      ],
      "execution_count": 67,
      "outputs": [
        {
          "output_type": "execute_result",
          "data": {
            "text/plain": [
              "111"
            ]
          },
          "metadata": {
            "tags": []
          },
          "execution_count": 67
        }
      ]
    },
    {
      "cell_type": "markdown",
      "metadata": {
        "id": "zFkr9CIA-A0i",
        "colab_type": "text"
      },
      "source": [
        "How many people in the E+F dataset (as it currently exists) have “NaN” for their total payments? What percentage of people in the dataset as a whole is this?"
      ]
    },
    {
      "cell_type": "code",
      "metadata": {
        "id": "CsFR8tEa9_lH",
        "colab_type": "code",
        "colab": {
          "base_uri": "https://localhost:8080/",
          "height": 35
        },
        "outputId": "9cb788dc-1520-4cc4-da18-bb3d7576eb84"
      },
      "source": [
        "without_totalpayments = [(name, features['total_payments']) for (name, features) in enron_data.iteritems() if not isinstance(features['total_payments'], int)  ]\n",
        "len(without_totalpayments)"
      ],
      "execution_count": 76,
      "outputs": [
        {
          "output_type": "execute_result",
          "data": {
            "text/plain": [
              "21"
            ]
          },
          "metadata": {
            "tags": []
          },
          "execution_count": 76
        }
      ]
    },
    {
      "cell_type": "code",
      "metadata": {
        "id": "Qn9tEPKD-X6-",
        "colab_type": "code",
        "colab": {
          "base_uri": "https://localhost:8080/",
          "height": 35
        },
        "outputId": "364ba916-d5aa-446e-f5bc-b45b508c6f95"
      },
      "source": [
        "len(enron_data)"
      ],
      "execution_count": 69,
      "outputs": [
        {
          "output_type": "execute_result",
          "data": {
            "text/plain": [
              "146"
            ]
          },
          "metadata": {
            "tags": []
          },
          "execution_count": 69
        }
      ]
    },
    {
      "cell_type": "code",
      "metadata": {
        "id": "DO_WLVY_-b1v",
        "colab_type": "code",
        "colab": {
          "base_uri": "https://localhost:8080/",
          "height": 35
        },
        "outputId": "61bf496f-31d1-4386-aa2c-fd304d20d478"
      },
      "source": [
        "2100.0/146"
      ],
      "execution_count": 70,
      "outputs": [
        {
          "output_type": "execute_result",
          "data": {
            "text/plain": [
              "14.383561643835616"
            ]
          },
          "metadata": {
            "tags": []
          },
          "execution_count": 70
        }
      ]
    },
    {
      "cell_type": "markdown",
      "metadata": {
        "id": "Q2YVbMG1_BoH",
        "colab_type": "text"
      },
      "source": [
        "How many POIs in the E+F dataset have “NaN” for their total payments? What percentage of POI’s as a whole is this?"
      ]
    },
    {
      "cell_type": "code",
      "metadata": {
        "id": "JdY2EYxz_LZC",
        "colab_type": "code",
        "colab": {
          "base_uri": "https://localhost:8080/",
          "height": 35
        },
        "outputId": "392cce83-e9d0-4109-a95e-b3e5992a7507"
      },
      "source": [
        "poi_without_totalpayments = [(name, features['total_payments']) for (name, features) in enron_data.iteritems() if features.get('poi') ]\n",
        "#poi_without_totalpayments \n",
        "len(poi_without_totalpayments)"
      ],
      "execution_count": 77,
      "outputs": [
        {
          "output_type": "execute_result",
          "data": {
            "text/plain": [
              "18"
            ]
          },
          "metadata": {
            "tags": []
          },
          "execution_count": 77
        }
      ]
    },
    {
      "cell_type": "code",
      "metadata": {
        "id": "shcRuKNz_1TZ",
        "colab_type": "code",
        "colab": {
          "base_uri": "https://localhost:8080/",
          "height": 1000
        },
        "outputId": "5c4caf4c-863b-4b8d-f13e-2fe4e8e7a95f"
      },
      "source": [
        "#poi_without_totalpayments = [(name, features['total_payments']) for (name, features) in enron_data.iteritems() if not features.get('poi') ]\n",
        "#poi_without_totalpayments "
      ],
      "execution_count": 75,
      "outputs": [
        {
          "output_type": "execute_result",
          "data": {
            "text/plain": [
              "[('METTS MARK', 1061827),\n",
              " ('BAXTER JOHN C', 5634343),\n",
              " ('ELLIOTT STEVEN', 211725),\n",
              " ('CORDES WILLIAM R', 'NaN'),\n",
              " ('MORDAUNT KRISTINA M', 628522),\n",
              " ('MEYER ROCKFORD G', 1848227),\n",
              " ('MCMAHON JEFFREY', 4099771),\n",
              " ('HORTON STANLEY C', 3131860),\n",
              " ('PIPER GREGORY F', 1737629),\n",
              " ('HUMPHREY GENE E', 3100224),\n",
              " ('UMANOFF ADAM S', 1130461),\n",
              " ('BLACHMAN JEREMY M', 2014835),\n",
              " ('SUNDE MARTIN', 1545059),\n",
              " ('GIBBS DANA R', 966522),\n",
              " ('LOWRY CHARLES P', 'NaN'),\n",
              " ('MULLER MARK S', 3202070),\n",
              " ('JACKSON CHARLENE R', 551174),\n",
              " ('WESTFAHL RICHARD K', 762135),\n",
              " ('WALTERS GARETH W', 87410),\n",
              " ('WALLS JR ROBERT H', 1798780),\n",
              " ('KITCHEN LOUISE', 3471141),\n",
              " ('CHAN RONNIE', 'NaN'),\n",
              " ('BELFER ROBERT', 102500),\n",
              " ('SHANKMAN JEFFREY A', 3038702),\n",
              " ('WODRASKA JOHN', 189583),\n",
              " ('BERGSIEKER RICHARD P', 618850),\n",
              " ('URQUHART JOHN A', 228656),\n",
              " ('BIBI PHILIPPE A', 2047593),\n",
              " ('WHALEY DAVID A', 'NaN'),\n",
              " ('BECK SALLY W', 969068),\n",
              " ('HAUG DAVID L', 475),\n",
              " ('ECHOLS JOHN B', 2692324),\n",
              " ('MENDELSOHN JOHN', 148),\n",
              " ('HICKERSON GARY J', 2081796),\n",
              " ('CLINE KENNETH W', 'NaN'),\n",
              " ('LEWIS RICHARD', 'NaN'),\n",
              " ('HAYES ROBERT E', 7961),\n",
              " ('MCCARTY DANNY J', 'NaN'),\n",
              " ('LEFF DANIEL P', 2664228),\n",
              " ('LAVORATO JOHN J', 10425757),\n",
              " ('BERBERIAN DAVID', 228474),\n",
              " ('DETMERING TIMOTHY J', 1204583),\n",
              " ('WAKEHAM JOHN', 213071),\n",
              " ('POWERS WILLIAM', 'NaN'),\n",
              " ('GOLD JOSEPH', 2146973),\n",
              " ('BANNANTINE JAMES M', 916197),\n",
              " ('DUNCAN JOHN H', 77492),\n",
              " ('SHAPIRO RICHARD S', 1057548),\n",
              " ('SHERRIFF JOHN R', 4335388),\n",
              " ('LEMAISTRE CHARLES', 87492),\n",
              " ('DEFFNER JOSEPH M', 1208649),\n",
              " ('KISHKILL JOSEPH G', 704896),\n",
              " ('WHALLEY LAWRENCE G', 4677574),\n",
              " ('MCCONNELL MICHAEL S', 2101364),\n",
              " ('PIRO JIM', 'NaN'),\n",
              " ('SULLIVAN-SHAKLOVITZ COLLEEN', 999356),\n",
              " ('WROBEL BRUCE', 'NaN'),\n",
              " ('LINDHOLM TOD A', 875889),\n",
              " ('MEYER JEROME J', 2151),\n",
              " ('BUTTS ROBERT H', 1271582),\n",
              " ('OLSON CINDY K', 1321557),\n",
              " ('MCDONALD REBECCA', 'NaN'),\n",
              " ('CUMBERLAND MICHAEL S', 807956),\n",
              " ('GAHN ROBERT S', 900585),\n",
              " ('MCCLELLAN GEORGE', 1318763),\n",
              " ('HERMANN ROBERT J', 1297461),\n",
              " ('SCRIMSHAW MATTHEW', 'NaN'),\n",
              " ('GATHMANN WILLIAM D', 'NaN'),\n",
              " ('HAEDICKE MARK E', 3859065),\n",
              " ('GILLIS JOHN', 'NaN'),\n",
              " ('FITZGERALD JAY L', 1414857),\n",
              " ('MORAN MICHAEL P', 'NaN'),\n",
              " ('REDMOND BRIAN L', 111529),\n",
              " ('BAZELIDES PHILIP J', 860136),\n",
              " ('DURAN WILLIAM D', 2093263),\n",
              " ('THORN TERENCE H', 911453),\n",
              " ('FOY JOE', 181755),\n",
              " ('KAMINSKI WINCENTY J', 1086821),\n",
              " ('LOCKHART EUGENE E', 'NaN'),\n",
              " ('COX DAVID', 1101393),\n",
              " ('OVERDYKE JR JERE C', 249787),\n",
              " ('PEREIRA PAULO V. FERRAZ', 27942),\n",
              " ('STABLER FRANK', 1112087),\n",
              " ('BLAKE JR. NORMAN P', 1279),\n",
              " ('SHERRICK JEFFREY B', 'NaN'),\n",
              " ('PRENTICE JAMES', 564348),\n",
              " ('GRAY RODNEY', 1146658),\n",
              " ('PICKERING MARK R', 1386690),\n",
              " ('THE TRAVEL AGENCY IN THE PARK', 362096),\n",
              " ('NOLES JAMES L', 774401),\n",
              " ('KEAN STEVEN J', 1747522),\n",
              " ('TOTAL', 309886585),\n",
              " ('FOWLER PEGGY', 'NaN'),\n",
              " ('WASAFF GEORGE', 1034395),\n",
              " ('WHITE JR THOMAS E', 1934359),\n",
              " ('CHRISTODOULOU DIOMEDES', 'NaN'),\n",
              " ('ALLEN PHILLIP K', 4484442),\n",
              " ('SHARP VICTORIA T', 1576511),\n",
              " ('JAEDICKE ROBERT', 83750),\n",
              " ('WINOKUR JR. HERBERT S', 84992),\n",
              " ('BROWN MICHAEL', 49288),\n",
              " ('BADUM JAMES P', 182466),\n",
              " ('HUGHES JAMES A', 'NaN'),\n",
              " ('REYNOLDS LAWRENCE', 394475),\n",
              " ('DIMICHELE RICHARD G', 2368151),\n",
              " ('BHATNAGAR SANJAY', 15456290),\n",
              " ('CARTER REBECCA C', 477557),\n",
              " ('BUCHANAN HAROLD G', 1054637),\n",
              " ('YEAP SOON', 55097),\n",
              " ('MURRAY JULIA H', 812194),\n",
              " ('GARLAND C KEVIN', 1566469),\n",
              " ('DODSON KEITH', 319941),\n",
              " ('DIETRICH JANET R', 1410464),\n",
              " ('DERRICK JR. JAMES V', 550981),\n",
              " ('FREVERT MARK A', 17252530),\n",
              " ('PAI LOU L', 3123383),\n",
              " ('BAY FRANKLIN R', 827696),\n",
              " ('HAYSLETT RODERICK J', 'NaN'),\n",
              " ('FUGH JOHN L', 50591),\n",
              " ('FALLON JAMES B', 3676340),\n",
              " ('SAVAGE FRANK', 3750),\n",
              " ('IZZO LAWRENCE L', 1979596),\n",
              " ('TILNEY ELIZABETH A', 399393),\n",
              " ('MARTIN AMANDA K', 8407016),\n",
              " ('BUY RICHARD B', 2355702),\n",
              " ('GRAMM WENDY L', 119292),\n",
              " ('TAYLOR MITCHELL S', 1092663),\n",
              " ('DONAHUE JR JEFFREY M', 875760)]"
            ]
          },
          "metadata": {
            "tags": []
          },
          "execution_count": 75
        }
      ]
    }
  ]
}