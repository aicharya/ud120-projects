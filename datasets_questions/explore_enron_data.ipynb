{
  "nbformat": 4,
  "nbformat_minor": 0,
  "metadata": {
    "colab": {
      "name": "explore_enron_data.ipynb",
      "provenance": [],
      "include_colab_link": true
    },
    "kernelspec": {
      "name": "python2",
      "display_name": "Python 2"
    }
  },
  "cells": [
    {
      "cell_type": "markdown",
      "metadata": {
        "id": "view-in-github",
        "colab_type": "text"
      },
      "source": [
        "<a href=\"https://colab.research.google.com/github/aicharya/ud120-projects/blob/master/datasets_questions/explore_enron_data.ipynb\" target=\"_parent\"><img src=\"https://colab.research.google.com/assets/colab-badge.svg\" alt=\"Open In Colab\"/></a>"
      ]
    },
    {
      "cell_type": "code",
      "metadata": {
        "id": "f0a0VorxemwA",
        "colab_type": "code",
        "outputId": "58a6c832-44b8-4faf-9c27-87e045f8fe2a",
        "colab": {
          "base_uri": "https://localhost:8080/",
          "height": 145
        }
      },
      "source": [
        "!git clone https://github.com/aicharya/ud120-projects.git"
      ],
      "execution_count": 1,
      "outputs": [
        {
          "output_type": "stream",
          "text": [
            "Cloning into 'ud120-projects'...\n",
            "remote: Enumerating objects: 123, done.\u001b[K\n",
            "remote: Counting objects:   0% (1/123)\u001b[K\rremote: Counting objects:   1% (2/123)\u001b[K\rremote: Counting objects:   2% (3/123)\u001b[K\rremote: Counting objects:   3% (4/123)\u001b[K\rremote: Counting objects:   4% (5/123)\u001b[K\rremote: Counting objects:   5% (7/123)\u001b[K\rremote: Counting objects:   6% (8/123)\u001b[K\rremote: Counting objects:   7% (9/123)\u001b[K\rremote: Counting objects:   8% (10/123)\u001b[K\rremote: Counting objects:   9% (12/123)\u001b[K\rremote: Counting objects:  10% (13/123)\u001b[K\rremote: Counting objects:  11% (14/123)\u001b[K\rremote: Counting objects:  12% (15/123)\u001b[K\rremote: Counting objects:  13% (16/123)\u001b[K\rremote: Counting objects:  14% (18/123)\u001b[K\rremote: Counting objects:  15% (19/123)\u001b[K\rremote: Counting objects:  16% (20/123)\u001b[K\rremote: Counting objects:  17% (21/123)\u001b[K\rremote: Counting objects:  18% (23/123)\u001b[K\rremote: Counting objects:  19% (24/123)\u001b[K\rremote: Counting objects:  20% (25/123)\u001b[K\rremote: Counting objects:  21% (26/123)\u001b[K\rremote: Counting objects:  22% (28/123)\u001b[K\rremote: Counting objects:  23% (29/123)\u001b[K\rremote: Counting objects:  24% (30/123)\u001b[K\rremote: Counting objects:  25% (31/123)\u001b[K\rremote: Counting objects:  26% (32/123)\u001b[K\rremote: Counting objects:  27% (34/123)\u001b[K\rremote: Counting objects:  28% (35/123)\u001b[K\rremote: Counting objects:  29% (36/123)\u001b[K\rremote: Counting objects:  30% (37/123)\u001b[K\rremote: Counting objects:  31% (39/123)\u001b[K\rremote: Counting objects:  32% (40/123)\u001b[K\rremote: Counting objects:  33% (41/123)\u001b[K\rremote: Counting objects:  34% (42/123)\u001b[K\rremote: Counting objects:  35% (44/123)\u001b[K\rremote: Counting objects:  36% (45/123)\u001b[K\rremote: Counting objects:  37% (46/123)\u001b[K\rremote: Counting objects:  38% (47/123)\u001b[K\rremote: Counting objects:  39% (48/123)\u001b[K\rremote: Counting objects:  40% (50/123)\u001b[K\rremote: Counting objects:  41% (51/123)\u001b[K\rremote: Counting objects:  42% (52/123)\u001b[K\rremote: Counting objects:  43% (53/123)\u001b[K\rremote: Counting objects:  44% (55/123)\u001b[K\rremote: Counting objects:  45% (56/123)\u001b[K\rremote: Counting objects:  46% (57/123)\u001b[K\rremote: Counting objects:  47% (58/123)\u001b[K\rremote: Counting objects:  48% (60/123)\u001b[K\rremote: Counting objects:  49% (61/123)\u001b[K\rremote: Counting objects:  50% (62/123)\u001b[K\rremote: Counting objects:  51% (63/123)\u001b[K\rremote: Counting objects:  52% (64/123)\u001b[K\rremote: Counting objects:  53% (66/123)\u001b[K\rremote: Counting objects:  54% (67/123)\u001b[K\rremote: Counting objects:  55% (68/123)\u001b[K\rremote: Counting objects:  56% (69/123)\u001b[K\rremote: Counting objects:  57% (71/123)\u001b[K\rremote: Counting objects:  58% (72/123)\u001b[K\rremote: Counting objects:  59% (73/123)\u001b[K\rremote: Counting objects:  60% (74/123)\u001b[K\rremote: Counting objects:  61% (76/123)\u001b[K\rremote: Counting objects:  62% (77/123)\u001b[K\rremote: Counting objects:  63% (78/123)\u001b[K\rremote: Counting objects:  64% (79/123)\u001b[K\rremote: Counting objects:  65% (80/123)\u001b[K\rremote: Counting objects:  66% (82/123)\u001b[K\rremote: Counting objects:  67% (83/123)\u001b[K\rremote: Counting objects:  68% (84/123)\u001b[K\rremote: Counting objects:  69% (85/123)\u001b[K\rremote: Counting objects:  70% (87/123)\u001b[K\rremote: Counting objects:  71% (88/123)\u001b[K\rremote: Counting objects:  72% (89/123)\u001b[K\rremote: Counting objects:  73% (90/123)\u001b[K\rremote: Counting objects:  74% (92/123)\u001b[K\rremote: Counting objects:  75% (93/123)\u001b[K\rremote: Counting objects:  76% (94/123)\u001b[K\rremote: Counting objects:  77% (95/123)\u001b[K\rremote: Counting objects:  78% (96/123)\u001b[K\rremote: Counting objects:  79% (98/123)\u001b[K\rremote: Counting objects:  80% (99/123)\u001b[K\rremote: Counting objects:  81% (100/123)\u001b[K\rremote: Counting objects:  82% (101/123)\u001b[K\rremote: Counting objects:  83% (103/123)\u001b[K\rremote: Counting objects:  84% (104/123)\u001b[K\rremote: Counting objects:  85% (105/123)\u001b[K\rremote: Counting objects:  86% (106/123)\u001b[K\rremote: Counting objects:  87% (108/123)\u001b[K\rremote: Counting objects:  88% (109/123)\u001b[K\rremote: Counting objects:  89% (110/123)\u001b[K\rremote: Counting objects:  90% (111/123)\u001b[K\rremote: Counting objects:  91% (112/123)\u001b[K\rremote: Counting objects:  92% (114/123)\u001b[K\rremote: Counting objects:  93% (115/123)\u001b[K\rremote: Counting objects:  94% (116/123)\u001b[K\rremote: Counting objects:  95% (117/123)\u001b[K\rremote: Counting objects:  96% (119/123)\u001b[K\rremote: Counting objects:  97% (120/123)\u001b[K\rremote: Counting objects:  98% (121/123)\u001b[K\rremote: Counting objects:  99% (122/123)\u001b[K\rremote: Counting objects: 100% (123/123)\u001b[K\rremote: Counting objects: 100% (123/123), done.\u001b[K\n",
            "remote: Compressing objects: 100% (123/123), done.\u001b[K\n",
            "remote: Total 5169 (delta 71), reused 0 (delta 0), pack-reused 5046\u001b[K\n",
            "Receiving objects: 100% (5169/5169), 19.73 MiB | 19.15 MiB/s, done.\n",
            "Resolving deltas: 100% (4443/4443), done.\n"
          ],
          "name": "stdout"
        }
      ]
    },
    {
      "cell_type": "code",
      "metadata": {
        "id": "mHQ0EmZCeu68",
        "colab_type": "code",
        "outputId": "87c4b8f4-a942-4c9d-8b0e-22d20480a379",
        "colab": {
          "base_uri": "https://localhost:8080/",
          "height": 35
        }
      },
      "source": [
        "import os\n",
        "os.chdir('ud120-projects/datasets_questions')\n",
        "os.listdir(os.getcwd())"
      ],
      "execution_count": 2,
      "outputs": [
        {
          "output_type": "execute_result",
          "data": {
            "text/plain": [
              "['explore_enron_data.ipynb', 'explore_enron_data.py']"
            ]
          },
          "metadata": {
            "tags": []
          },
          "execution_count": 2
        }
      ]
    },
    {
      "cell_type": "markdown",
      "metadata": {
        "id": "BqnVqDdxegWU",
        "colab_type": "text"
      },
      "source": [
        "The email + finance (E+F) data dictionary is stored as a pickle file"
      ]
    },
    {
      "cell_type": "code",
      "metadata": {
        "id": "TCwki6FTdZUK",
        "colab_type": "code",
        "colab": {}
      },
      "source": [
        "import pickle\n",
        "\n",
        "enron_data = pickle.load(open(\"../final_project/final_project_dataset.pkl\", \"rb\"))"
      ],
      "execution_count": 0,
      "outputs": []
    },
    {
      "cell_type": "markdown",
      "metadata": {
        "id": "N58F3oNzm6pt",
        "colab_type": "text"
      },
      "source": [
        "how many data items?"
      ]
    },
    {
      "cell_type": "code",
      "metadata": {
        "id": "XXaQMSExfM3P",
        "colab_type": "code",
        "outputId": "1f6a3285-bfeb-4163-92ae-7504f03f1622",
        "colab": {
          "base_uri": "https://localhost:8080/",
          "height": 35
        }
      },
      "source": [
        "len(enron_data)"
      ],
      "execution_count": 4,
      "outputs": [
        {
          "output_type": "execute_result",
          "data": {
            "text/plain": [
              "146"
            ]
          },
          "metadata": {
            "tags": []
          },
          "execution_count": 4
        }
      ]
    },
    {
      "cell_type": "markdown",
      "metadata": {
        "id": "_RBzyp63m9-V",
        "colab_type": "text"
      },
      "source": [
        "how many featuers?"
      ]
    },
    {
      "cell_type": "code",
      "metadata": {
        "id": "rx5Wf72ffbgo",
        "colab_type": "code",
        "outputId": "01e25502-812f-4997-d8b7-9e22255dcf70",
        "colab": {
          "base_uri": "https://localhost:8080/",
          "height": 35
        }
      },
      "source": [
        "first = enron_data.values()[0]\n",
        "len(first)"
      ],
      "execution_count": 5,
      "outputs": [
        {
          "output_type": "execute_result",
          "data": {
            "text/plain": [
              "21"
            ]
          },
          "metadata": {
            "tags": []
          },
          "execution_count": 5
        }
      ]
    },
    {
      "cell_type": "code",
      "metadata": {
        "id": "ZLNu8H8Hj4tc",
        "colab_type": "code",
        "outputId": "20cc240c-10ee-485d-d3a1-3bb8adaa87f1",
        "colab": {
          "base_uri": "https://localhost:8080/",
          "height": 399
        }
      },
      "source": [
        "first"
      ],
      "execution_count": 6,
      "outputs": [
        {
          "output_type": "execute_result",
          "data": {
            "text/plain": [
              "{'bonus': 600000,\n",
              " 'deferral_payments': 'NaN',\n",
              " 'deferred_income': 'NaN',\n",
              " 'director_fees': 'NaN',\n",
              " 'email_address': 'mark.metts@enron.com',\n",
              " 'exercised_stock_options': 'NaN',\n",
              " 'expenses': 94299,\n",
              " 'from_messages': 29,\n",
              " 'from_poi_to_this_person': 38,\n",
              " 'from_this_person_to_poi': 1,\n",
              " 'loan_advances': 'NaN',\n",
              " 'long_term_incentive': 'NaN',\n",
              " 'other': 1740,\n",
              " 'poi': False,\n",
              " 'restricted_stock': 585062,\n",
              " 'restricted_stock_deferred': 'NaN',\n",
              " 'salary': 365788,\n",
              " 'shared_receipt_with_poi': 702,\n",
              " 'to_messages': 807,\n",
              " 'total_payments': 1061827,\n",
              " 'total_stock_value': 585062}"
            ]
          },
          "metadata": {
            "tags": []
          },
          "execution_count": 6
        }
      ]
    },
    {
      "cell_type": "markdown",
      "metadata": {
        "id": "IR7dPdwvnAqm",
        "colab_type": "text"
      },
      "source": [
        "How many POIs we have data for?\n"
      ]
    },
    {
      "cell_type": "code",
      "metadata": {
        "id": "whX6UFpsjxUZ",
        "colab_type": "code",
        "outputId": "764fca46-8435-4052-a158-d7241cceef03",
        "colab": {
          "base_uri": "https://localhost:8080/",
          "height": 345
        }
      },
      "source": [
        "[name for (name, features) in enron_data.iteritems() if features.get('poi')]"
      ],
      "execution_count": 7,
      "outputs": [
        {
          "output_type": "execute_result",
          "data": {
            "text/plain": [
              "['HANNON KEVIN P',\n",
              " 'COLWELL WESLEY',\n",
              " 'RIEKER PAULA H',\n",
              " 'KOPPER MICHAEL J',\n",
              " 'SHELBY REX',\n",
              " 'DELAINEY DAVID W',\n",
              " 'LAY KENNETH L',\n",
              " 'BOWEN JR RAYMOND M',\n",
              " 'BELDEN TIMOTHY N',\n",
              " 'FASTOW ANDREW S',\n",
              " 'CALGER CHRISTOPHER F',\n",
              " 'RICE KENNETH D',\n",
              " 'SKILLING JEFFREY K',\n",
              " 'YEAGER F SCOTT',\n",
              " 'HIRKO JOSEPH',\n",
              " 'KOENIG MARK E',\n",
              " 'CAUSEY RICHARD A',\n",
              " 'GLISAN JR BEN F']"
            ]
          },
          "metadata": {
            "tags": []
          },
          "execution_count": 7
        }
      ]
    },
    {
      "cell_type": "code",
      "metadata": {
        "id": "LAxIBo1zmLlH",
        "colab_type": "code",
        "outputId": "55f683d7-ad16-4c45-9631-99cb504adcab",
        "colab": {
          "base_uri": "https://localhost:8080/",
          "height": 35
        }
      },
      "source": [
        "len([name for (name, features) in enron_data.iteritems() if features.get('poi')])"
      ],
      "execution_count": 8,
      "outputs": [
        {
          "output_type": "execute_result",
          "data": {
            "text/plain": [
              "18"
            ]
          },
          "metadata": {
            "tags": []
          },
          "execution_count": 8
        }
      ]
    },
    {
      "cell_type": "code",
      "metadata": {
        "id": "oqxXkfjnl6Ra",
        "colab_type": "code",
        "outputId": "72166115-1d6a-4c5d-840e-f9eed11eb2b1",
        "colab": {
          "base_uri": "https://localhost:8080/",
          "height": 345
        }
      },
      "source": [
        "[name for (name, features) in enron_data.iteritems() if enron_data[name]['poi']]"
      ],
      "execution_count": 9,
      "outputs": [
        {
          "output_type": "execute_result",
          "data": {
            "text/plain": [
              "['HANNON KEVIN P',\n",
              " 'COLWELL WESLEY',\n",
              " 'RIEKER PAULA H',\n",
              " 'KOPPER MICHAEL J',\n",
              " 'SHELBY REX',\n",
              " 'DELAINEY DAVID W',\n",
              " 'LAY KENNETH L',\n",
              " 'BOWEN JR RAYMOND M',\n",
              " 'BELDEN TIMOTHY N',\n",
              " 'FASTOW ANDREW S',\n",
              " 'CALGER CHRISTOPHER F',\n",
              " 'RICE KENNETH D',\n",
              " 'SKILLING JEFFREY K',\n",
              " 'YEAGER F SCOTT',\n",
              " 'HIRKO JOSEPH',\n",
              " 'KOENIG MARK E',\n",
              " 'CAUSEY RICHARD A',\n",
              " 'GLISAN JR BEN F']"
            ]
          },
          "metadata": {
            "tags": []
          },
          "execution_count": 9
        }
      ]
    },
    {
      "cell_type": "code",
      "metadata": {
        "id": "f8_reXVGmQCg",
        "colab_type": "code",
        "outputId": "98c8cde9-2107-4864-9e90-aae53a56ccd3",
        "colab": {
          "base_uri": "https://localhost:8080/",
          "height": 35
        }
      },
      "source": [
        "len([name for (name, features) in enron_data.iteritems() if enron_data[name]['poi']])"
      ],
      "execution_count": 10,
      "outputs": [
        {
          "output_type": "execute_result",
          "data": {
            "text/plain": [
              "18"
            ]
          },
          "metadata": {
            "tags": []
          },
          "execution_count": 10
        }
      ]
    },
    {
      "cell_type": "markdown",
      "metadata": {
        "id": "eFUV-BMknHHM",
        "colab_type": "text"
      },
      "source": [
        "Total POIs we have to look at."
      ]
    },
    {
      "cell_type": "code",
      "metadata": {
        "id": "-1d-zLH6mzsy",
        "colab_type": "code",
        "outputId": "d08ccfbb-24ad-4f42-cab3-12ff2e44b928",
        "colab": {
          "base_uri": "https://localhost:8080/",
          "height": 690
        }
      },
      "source": [
        "!cat ../final_project/poi_names.txt "
      ],
      "execution_count": 11,
      "outputs": [
        {
          "output_type": "stream",
          "text": [
            "http://usatoday30.usatoday.com/money/industries/energy/2005-12-28-enron-participants_x.htm\n",
            "\n",
            "(y) Lay, Kenneth\n",
            "(y) Skilling, Jeffrey\n",
            "(n) Howard, Kevin\n",
            "(n) Krautz, Michael\n",
            "(n) Yeager, Scott\n",
            "(n) Hirko, Joseph\n",
            "(n) Shelby, Rex\n",
            "(n) Bermingham, David\n",
            "(n) Darby, Giles\n",
            "(n) Mulgrew, Gary\n",
            "(n) Bayley, Daniel\n",
            "(n) Brown, James\n",
            "(n) Furst, Robert\n",
            "(n) Fuhs, William\n",
            "(n) Causey, Richard\n",
            "(n) Calger, Christopher\n",
            "(n) DeSpain, Timothy\n",
            "(n) Hannon, Kevin\n",
            "(n) Koenig, Mark\n",
            "(y) Forney, John\n",
            "(n) Rice, Kenneth\n",
            "(n) Rieker, Paula\n",
            "(n) Fastow, Lea\n",
            "(n) Fastow, Andrew\n",
            "(y) Delainey, David\n",
            "(n) Glisan, Ben\n",
            "(n) Richter, Jeffrey\n",
            "(n) Lawyer, Larry\n",
            "(n) Belden, Timothy\n",
            "(n) Kopper, Michael\n",
            "(n) Duncan, David\n",
            "(n) Bowen, Raymond\n",
            "(n) Colwell, Wesley\n",
            "(n) Boyle, Dan\n",
            "(n) Loehr, Christopher\n"
          ],
          "name": "stdout"
        }
      ]
    },
    {
      "cell_type": "markdown",
      "metadata": {
        "id": "GxD6YlGPdxmL",
        "colab_type": "text"
      },
      "source": [
        "What is the total value of the stock belonging to James Prentice?"
      ]
    },
    {
      "cell_type": "code",
      "metadata": {
        "id": "pRSYhCzmoRyS",
        "colab_type": "code",
        "outputId": "96fcf641-87b8-469b-9f73-48419f902b78",
        "colab": {
          "base_uri": "https://localhost:8080/",
          "height": 35
        }
      },
      "source": [
        "enron_data['PRENTICE JAMES']['total_stock_value']"
      ],
      "execution_count": 12,
      "outputs": [
        {
          "output_type": "execute_result",
          "data": {
            "text/plain": [
              "1095040"
            ]
          },
          "metadata": {
            "tags": []
          },
          "execution_count": 12
        }
      ]
    },
    {
      "cell_type": "markdown",
      "metadata": {
        "id": "fkMjHV5UeO07",
        "colab_type": "text"
      },
      "source": [
        "How many email messages do we have from Wesley Colwell to persons of interest?"
      ]
    },
    {
      "cell_type": "code",
      "metadata": {
        "id": "Dk2Jnyw8o7gm",
        "colab_type": "code",
        "outputId": "aed0ea0d-2b5f-4bfa-c747-77069701065f",
        "colab": {
          "base_uri": "https://localhost:8080/",
          "height": 35
        }
      },
      "source": [
        "enron_data[\"COLWELL WESLEY\"]['from_this_person_to_poi']"
      ],
      "execution_count": 15,
      "outputs": [
        {
          "output_type": "execute_result",
          "data": {
            "text/plain": [
              "11"
            ]
          },
          "metadata": {
            "tags": []
          },
          "execution_count": 15
        }
      ]
    },
    {
      "cell_type": "markdown",
      "metadata": {
        "id": "G_MVa1gpebe2",
        "colab_type": "text"
      },
      "source": [
        "What’s the value of stock options exercised by Jeffrey K Skilling?"
      ]
    },
    {
      "cell_type": "code",
      "metadata": {
        "id": "oppkUyAopXbH",
        "colab_type": "code",
        "outputId": "5d96651a-7213-44dc-fb76-125d3891aba1",
        "colab": {
          "base_uri": "https://localhost:8080/",
          "height": 35
        }
      },
      "source": [
        " enron_data[\"SKILLING JEFFREY K\"]['exercised_stock_options']"
      ],
      "execution_count": 16,
      "outputs": [
        {
          "output_type": "execute_result",
          "data": {
            "text/plain": [
              "19250000"
            ]
          },
          "metadata": {
            "tags": []
          },
          "execution_count": 16
        }
      ]
    }
  ]
}