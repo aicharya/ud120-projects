{
  "nbformat": 4,
  "nbformat_minor": 0,
  "metadata": {
    "colab": {
      "name": "decision_tree.ipynb",
      "version": "0.3.2",
      "provenance": [],
      "include_colab_link": true
    },
    "kernelspec": {
      "name": "python2",
      "display_name": "Python 2"
    }
  },
  "cells": [
    {
      "cell_type": "markdown",
      "metadata": {
        "id": "view-in-github",
        "colab_type": "text"
      },
      "source": [
        "<a href=\"https://colab.research.google.com/github/aicharya/ud120-projects/blob/master/decision_tree/decision_tree.ipynb\" target=\"_parent\"><img src=\"https://colab.research.google.com/assets/colab-badge.svg\" alt=\"Open In Colab\"/></a>"
      ]
    },
    {
      "cell_type": "markdown",
      "metadata": {
        "id": "xrTlObFtAZLR",
        "colab_type": "text"
      },
      "source": [
        "Entropy of parent"
      ]
    },
    {
      "cell_type": "code",
      "metadata": {
        "id": "K8UYJjJblX8c",
        "colab_type": "code",
        "colab": {
          "base_uri": "https://localhost:8080/",
          "height": 35
        },
        "outputId": "c8dd4830-6989-4509-fbb6-f1dc5c048234"
      },
      "source": [
        "import math\n",
        "0.5 * math.log(0.5, 2) + 0.5 * math.log(0.5, 2)"
      ],
      "execution_count": 7,
      "outputs": [
        {
          "output_type": "execute_result",
          "data": {
            "text/plain": [
              "-1.0"
            ]
          },
          "metadata": {
            "tags": []
          },
          "execution_count": 7
        }
      ]
    },
    {
      "cell_type": "code",
      "metadata": {
        "id": "EDI8KcVDqO3q",
        "colab_type": "code",
        "colab": {
          "base_uri": "https://localhost:8080/",
          "height": 35
        },
        "outputId": "fce8c941-f6bf-4cb4-f748-a3faf7f2336e"
      },
      "source": [
        "-1 * math.log(1, 2)"
      ],
      "execution_count": 3,
      "outputs": [
        {
          "output_type": "execute_result",
          "data": {
            "text/plain": [
              "-0.0"
            ]
          },
          "metadata": {
            "tags": []
          },
          "execution_count": 3
        }
      ]
    },
    {
      "cell_type": "markdown",
      "metadata": {
        "id": "i3XvHomYAdzc",
        "colab_type": "text"
      },
      "source": [
        "Entropy of child"
      ]
    },
    {
      "cell_type": "code",
      "metadata": {
        "id": "UAy_RTBiqdnX",
        "colab_type": "code",
        "colab": {
          "base_uri": "https://localhost:8080/",
          "height": 35
        },
        "outputId": "59da2932-0a4c-44a7-970e-5ae394b32a42"
      },
      "source": [
        "\n",
        "-(2.0/3) * (math.log(2, 2) - math.log(3, 2)) - (1.0/3) * (math.log(1, 2) - math.log(3, 2))"
      ],
      "execution_count": 10,
      "outputs": [
        {
          "output_type": "execute_result",
          "data": {
            "text/plain": [
              "0.9182958340544896"
            ]
          },
          "metadata": {
            "tags": []
          },
          "execution_count": 10
        }
      ]
    },
    {
      "cell_type": "code",
      "metadata": {
        "id": "aqSxhtpf6H-9",
        "colab_type": "code",
        "colab": {
          "base_uri": "https://localhost:8080/",
          "height": 35
        },
        "outputId": "2549ad28-da5e-45e8-d69b-aa03bcf525e6"
      },
      "source": [
        "math.log(3, 2)"
      ],
      "execution_count": 9,
      "outputs": [
        {
          "output_type": "execute_result",
          "data": {
            "text/plain": [
              "1.5849625007211563"
            ]
          },
          "metadata": {
            "tags": []
          },
          "execution_count": 9
        }
      ]
    },
    {
      "cell_type": "markdown",
      "metadata": {
        "id": "SeSgO2e_Af7q",
        "colab_type": "text"
      },
      "source": [
        "Information gain"
      ]
    },
    {
      "cell_type": "code",
      "metadata": {
        "id": "TuKoruYr8OEI",
        "colab_type": "code",
        "colab": {
          "base_uri": "https://localhost:8080/",
          "height": 35
        },
        "outputId": "0c24c03f-07f6-4605-d5cb-4c3541857b76"
      },
      "source": [
        "1-(0.9183*3.0/4)"
      ],
      "execution_count": 21,
      "outputs": [
        {
          "output_type": "execute_result",
          "data": {
            "text/plain": [
              "0.31127499999999997"
            ]
          },
          "metadata": {
            "tags": []
          },
          "execution_count": 21
        }
      ]
    },
    {
      "cell_type": "markdown",
      "metadata": {
        "id": "b0mRzWzlBIih",
        "colab_type": "text"
      },
      "source": [
        "Entropy(bumpy)"
      ]
    },
    {
      "cell_type": "code",
      "metadata": {
        "id": "5TVyzc77BLkD",
        "colab_type": "code",
        "colab": {
          "base_uri": "https://localhost:8080/",
          "height": 35
        },
        "outputId": "b2002cb4-f2a4-4b84-cbbf-cdc1e9ba2520"
      },
      "source": [
        "-1 * math.log(1,2)"
      ],
      "execution_count": 19,
      "outputs": [
        {
          "output_type": "execute_result",
          "data": {
            "text/plain": [
              "-0.0"
            ]
          },
          "metadata": {
            "tags": []
          },
          "execution_count": 19
        }
      ]
    },
    {
      "cell_type": "markdown",
      "metadata": {
        "id": "RXE_VHQHIg1U",
        "colab_type": "text"
      },
      "source": [
        "\n",
        "\n",
        "```\n",
        "# Data\n",
        "# +--------+-----------+-------------+--------+\n",
        "# | GRADE  | BUMPINESS | SPEED LIMIT | SPEED  |\n",
        "# +--------+-----------+-------------+--------+\n",
        "# | STEEP  |  BUMPY    |     YES     | SLOW   |\n",
        "# | STEEP  |  SMOOTH   |     YES     | SLOW   |\n",
        "# | FLAT   |  BUMPY    |     NO      | FAST   |\n",
        "# | STEEP  |  SMOOTH   |     NO      | FAST   |\n",
        "# +--------+-----------+-------------+--------+\n",
        "\n",
        "A. GRADE\n",
        "=========\n",
        "\n",
        "GRADE(STEEP) => SLOW,SLOW,FAST\n",
        "P(SLOW) = 2/3\n",
        "P(FAST) = 1/3\n",
        "ENTROPY(STEEP) = [-(2/3) * log(2/3,2)] + [-(1/3) * log(1/2, 2)]\n",
        "\n",
        "GRADE(FLAT) => FAST\n",
        "P(SLOW) = 0\n",
        "P(FAST) = 1\n",
        "ENTROPY(FLAT) = [0] + [-1 * log(1,2)]\n",
        "\n",
        "ENTROPY(GRADE) = (3/4) * ENTROPY(STEEP) + (1/4) * ENTROPY(FLAT) = 0.688725\n",
        "INFORMATION_GAIN = 0.311275\n",
        "\n",
        "Note: WEIGHTED\n",
        "\n",
        "B. BUMPINESS\n",
        "=============\n",
        "\n",
        "BUMPINESS(BUMPY) => SLOW, FAST\n",
        "P(SLOW) = 1/2\n",
        "P(FAST) = 1/2\n",
        "ENTROPY(BUMPY) = [-(1/2) * log(1/2, 2)] + [-(1/2) * log(1/2, 2)] = 1.0\n",
        "\n",
        "BUMPINESS(SMOTH) => SLOW, FAST\n",
        "P(SLOW) = 1/2\n",
        "P(FAST) = 1/2\n",
        "ENTROPY(SMOOTH) = [-(1/2) * log(1/2, 2)] + [-(1/2) * log(1/2, 2)] = 1.0\n",
        "\n",
        "ENTROPY(BUMPINESS) = (1/2) * ENTROPY(BUMPY) + (1/2) * ENTROPY(SMOOTH) = 1\n",
        "INFORMATION_GAIN = 0.0\n",
        "\n",
        "C. SPEED\n",
        "=========\n",
        "\n",
        "SPEED_LIMIT(YES) => SLOW\n",
        "P(SLOW) = 1\n",
        "P(FAST) = 0\n",
        "ENTROPY(YES) = [-1 * log(1,2)] + [0] = 0.0\n",
        "\n",
        "SPEED_LIMIT(NO) => FAST\n",
        "P(SLOW) = 0\n",
        "P(FAST) = 1\n",
        "ENTROPY(NO) = [0] + [-1 * log(1,2)] = 0.0\n",
        "\n",
        "ENTROPY(SPEED_LIMIT) = (1/2) * ENTROPY(YES) + (1/2) * ENTROPY(NO) = 0.0\n",
        "INFORMATION_GAIN =  1.0\n",
        "\n",
        "```\n",
        "\n",
        "\n"
      ]
    }
  ]
}