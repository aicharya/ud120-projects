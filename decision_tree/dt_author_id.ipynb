{
  "nbformat": 4,
  "nbformat_minor": 0,
  "metadata": {
    "colab": {
      "name": "dt_author_id.ipynb",
      "version": "0.3.2",
      "provenance": [],
      "include_colab_link": true
    },
    "kernelspec": {
      "name": "python2",
      "display_name": "Python 2"
    }
  },
  "cells": [
    {
      "cell_type": "markdown",
      "metadata": {
        "id": "view-in-github",
        "colab_type": "text"
      },
      "source": [
        "<a href=\"https://colab.research.google.com/github/aicharya/ud120-projects/blob/master/decision_tree/dt_author_id.ipynb\" target=\"_parent\"><img src=\"https://colab.research.google.com/assets/colab-badge.svg\" alt=\"Open In Colab\"/></a>"
      ]
    },
    {
      "cell_type": "code",
      "metadata": {
        "id": "yrLg4KQlYKqW",
        "colab_type": "code",
        "colab": {
          "base_uri": "https://localhost:8080/",
          "height": 145
        },
        "outputId": "a8dc7d0e-b232-492d-c18e-a99b60d6248f"
      },
      "source": [
        "!git clone https://github.com/aicharya/ud120-projects.git"
      ],
      "execution_count": 1,
      "outputs": [
        {
          "output_type": "stream",
          "text": [
            "Cloning into 'ud120-projects'...\n",
            "remote: Enumerating objects: 71, done.\u001b[K\n",
            "remote: Counting objects: 100% (71/71), done.\u001b[K\n",
            "remote: Compressing objects: 100% (71/71), done.\u001b[K\n",
            "remote: Total 5117 (delta 35), reused 0 (delta 0), pack-reused 5046\u001b[K\n",
            "Receiving objects: 100% (5117/5117), 19.66 MiB | 25.68 MiB/s, done.\n",
            "Resolving deltas: 100% (4407/4407), done.\n"
          ],
          "name": "stdout"
        }
      ]
    },
    {
      "cell_type": "code",
      "metadata": {
        "id": "QREgYNIKaSfu",
        "colab_type": "code",
        "colab": {
          "base_uri": "https://localhost:8080/",
          "height": 35
        },
        "outputId": "840735cf-f7b2-48a6-808c-17d02b67bdc6"
      },
      "source": [
        "import os\n",
        "\n",
        "os.listdir(os.getcwd())"
      ],
      "execution_count": 2,
      "outputs": [
        {
          "output_type": "execute_result",
          "data": {
            "text/plain": [
              "['.config', 'ud120-projects', 'sample_data']"
            ]
          },
          "metadata": {
            "tags": []
          },
          "execution_count": 2
        }
      ]
    },
    {
      "cell_type": "code",
      "metadata": {
        "id": "aE6x5CR1aVte",
        "colab_type": "code",
        "colab": {}
      },
      "source": [
        "os.chdir('ud120-projects')"
      ],
      "execution_count": 0,
      "outputs": []
    },
    {
      "cell_type": "code",
      "metadata": {
        "id": "0OEdodBwaZKU",
        "colab_type": "code",
        "colab": {
          "base_uri": "https://localhost:8080/",
          "height": 35
        },
        "outputId": "4e245029-50fc-4a4f-8171-03d8508db908"
      },
      "source": [
        "os.getcwd()"
      ],
      "execution_count": 4,
      "outputs": [
        {
          "output_type": "execute_result",
          "data": {
            "text/plain": [
              "'/content/ud120-projects'"
            ]
          },
          "metadata": {
            "tags": []
          },
          "execution_count": 4
        }
      ]
    },
    {
      "cell_type": "code",
      "metadata": {
        "id": "WVqfjviqacpu",
        "colab_type": "code",
        "colab": {
          "base_uri": "https://localhost:8080/",
          "height": 363
        },
        "outputId": "c45e2ca1-7037-481a-d7fb-a23e70b4d27a"
      },
      "source": [
        "os.listdir(os.getcwd())"
      ],
      "execution_count": 5,
      "outputs": [
        {
          "output_type": "execute_result",
          "data": {
            "text/plain": [
              "['choose_your_own',\n",
              " 'pca',\n",
              " 'naive_bayes',\n",
              " 'svm',\n",
              " 'requirements.txt',\n",
              " 'validation',\n",
              " 'decision_tree',\n",
              " 'k_means',\n",
              " 'feature_selection',\n",
              " 'outliers',\n",
              " 'tools',\n",
              " 'datasets_questions',\n",
              " '.git',\n",
              " 'evaluation',\n",
              " 'text_learning',\n",
              " '.gitignore',\n",
              " 'final_project',\n",
              " 'README.md',\n",
              " 'regression']"
            ]
          },
          "metadata": {
            "tags": []
          },
          "execution_count": 5
        }
      ]
    },
    {
      "cell_type": "code",
      "metadata": {
        "id": "kBi6IExKagZ7",
        "colab_type": "code",
        "colab": {}
      },
      "source": [
        "os.chdir('decision_tree')"
      ],
      "execution_count": 0,
      "outputs": []
    },
    {
      "cell_type": "code",
      "metadata": {
        "id": "kMi322PBamfJ",
        "colab_type": "code",
        "colab": {
          "base_uri": "https://localhost:8080/",
          "height": 35
        },
        "outputId": "9de19f94-0582-4d9c-f5e5-d82ec2dab2c5"
      },
      "source": [
        "os.listdir(os.getcwd())"
      ],
      "execution_count": 7,
      "outputs": [
        {
          "output_type": "execute_result",
          "data": {
            "text/plain": [
              "['dt_author_id.py', 'decision_tree.ipynb', 'dt_author_id.ipynb']"
            ]
          },
          "metadata": {
            "tags": []
          },
          "execution_count": 7
        }
      ]
    },
    {
      "cell_type": "code",
      "metadata": {
        "id": "ixd8-cwqaqwZ",
        "colab_type": "code",
        "colab": {}
      },
      "source": [
        "import sys\n",
        "sys.path.append('../tools')"
      ],
      "execution_count": 0,
      "outputs": []
    },
    {
      "cell_type": "code",
      "metadata": {
        "id": "T12jzIWObDek",
        "colab_type": "code",
        "colab": {
          "base_uri": "https://localhost:8080/",
          "height": 72
        },
        "outputId": "11645fc9-6fe8-40e9-b238-ceef7846ec6e"
      },
      "source": [
        "from time import time\n",
        "from email_preprocess import preprocess\n",
        "\n",
        "features_train, features_test, labels_train, labels_test = preprocess()\n",
        "\n",
        "len(features_train[0])"
      ],
      "execution_count": 9,
      "outputs": [
        {
          "output_type": "stream",
          "text": [
            "no. of Chris training emails: 7936\n",
            "no. of Sara training emails: 7884\n"
          ],
          "name": "stdout"
        },
        {
          "output_type": "execute_result",
          "data": {
            "text/plain": [
              "379"
            ]
          },
          "metadata": {
            "tags": []
          },
          "execution_count": 9
        }
      ]
    },
    {
      "cell_type": "code",
      "metadata": {
        "id": "8_HbXYcjbOmN",
        "colab_type": "code",
        "colab": {}
      },
      "source": [
        "from sklearn import tree\n",
        "from sklearn.metrics import accuracy_score\n",
        "\n",
        "clf = tree.DecisionTreeClassifier(min_samples_split=40)\n",
        "\n",
        "t0 = time()\n",
        "clf = clf.fit(features_train, labels_train)\n",
        "t1 = time()\n",
        "labels_pred = clf.predict(features_test)\n",
        "t2 = time()\n",
        "\n",
        "score = accuracy_score(labels_test, labels_pred, normalize=True)"
      ],
      "execution_count": 0,
      "outputs": []
    },
    {
      "cell_type": "code",
      "metadata": {
        "id": "VuwDAOfRbPIw",
        "colab_type": "code",
        "colab": {
          "base_uri": "https://localhost:8080/",
          "height": 72
        },
        "outputId": "add39120-835e-4727-c759-681b34516c6f"
      },
      "source": [
        "print \"training time:\", round(t1-t0, 3), \"s\"\n",
        "print \"testing time:\", round(t2-t1, 3), \"s\"\n",
        "print \"score: {}\".format(score)"
      ],
      "execution_count": 11,
      "outputs": [
        {
          "output_type": "stream",
          "text": [
            "training time: 4.584 s\n",
            "testing time: 0.004 s\n",
            "score: 0.967007963595\n"
          ],
          "name": "stdout"
        }
      ]
    }
  ]
}