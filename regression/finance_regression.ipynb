{
  "nbformat": 4,
  "nbformat_minor": 0,
  "metadata": {
    "colab": {
      "name": "finance_regression.ipynb",
      "provenance": [],
      "include_colab_link": true
    },
    "kernelspec": {
      "name": "python2",
      "display_name": "Python 2"
    }
  },
  "cells": [
    {
      "cell_type": "markdown",
      "metadata": {
        "id": "view-in-github",
        "colab_type": "text"
      },
      "source": [
        "<a href=\"https://colab.research.google.com/github/aicharya/ud120-projects/blob/master/regression/finance_regression.ipynb\" target=\"_parent\"><img src=\"https://colab.research.google.com/assets/colab-badge.svg\" alt=\"Open In Colab\"/></a>"
      ]
    },
    {
      "cell_type": "code",
      "metadata": {
        "id": "hmrYeaR1KnhA",
        "colab_type": "code",
        "outputId": "1f29ee77-95e9-4551-c644-b849aada5d9a",
        "colab": {
          "base_uri": "https://localhost:8080/",
          "height": 145
        }
      },
      "source": [
        "!git clone https://github.com/aicharya/ud120-projects.git"
      ],
      "execution_count": 2,
      "outputs": [
        {
          "output_type": "stream",
          "text": [
            "Cloning into 'ud120-projects'...\n",
            "remote: Enumerating objects: 4, done.\u001b[K\n",
            "remote: Counting objects:  25% (1/4)\u001b[K\rremote: Counting objects:  50% (2/4)\u001b[K\rremote: Counting objects:  75% (3/4)\u001b[K\rremote: Counting objects: 100% (4/4)\u001b[K\rremote: Counting objects: 100% (4/4), done.\u001b[K\n",
            "remote: Compressing objects: 100% (4/4), done.\u001b[K\n",
            "remote: Total 5189 (delta 0), reused 0 (delta 0), pack-reused 5185\u001b[K\n",
            "Receiving objects: 100% (5189/5189), 19.77 MiB | 24.43 MiB/s, done.\n",
            "Resolving deltas: 100% (4451/4451), done.\n"
          ],
          "name": "stdout"
        }
      ]
    },
    {
      "cell_type": "code",
      "metadata": {
        "id": "xgRR6ytsK2FC",
        "colab_type": "code",
        "outputId": "a8e6270d-2c9b-4913-96dd-916a169e9422",
        "colab": {
          "base_uri": "https://localhost:8080/",
          "height": 35
        }
      },
      "source": [
        "import os\n",
        "os.chdir('ud120-projects/regression')\n",
        "os.listdir(os.getcwd())"
      ],
      "execution_count": 3,
      "outputs": [
        {
          "output_type": "execute_result",
          "data": {
            "text/plain": [
              "['finance_regression.ipynb', 'finance_regression.py']"
            ]
          },
          "metadata": {
            "tags": []
          },
          "execution_count": 3
        }
      ]
    },
    {
      "cell_type": "code",
      "metadata": {
        "id": "2UR6IyIMLHHY",
        "colab_type": "code",
        "colab": {}
      },
      "source": [
        "import sys\n",
        "import pickle\n",
        "sys.path.append(\"../tools/\")"
      ],
      "execution_count": 0,
      "outputs": []
    },
    {
      "cell_type": "code",
      "metadata": {
        "id": "zD17UfRELQ3Y",
        "colab_type": "code",
        "colab": {}
      },
      "source": [
        "from feature_format import featureFormat, targetFeatureSplit\n",
        "dictionary = pickle.load( open(\"../final_project/final_project_dataset_modified.pkl\", \"r\") )"
      ],
      "execution_count": 0,
      "outputs": []
    },
    {
      "cell_type": "markdown",
      "metadata": {
        "id": "iCRlZdwoLXz2",
        "colab_type": "text"
      },
      "source": [
        "### list the features you want to look at--first item in the \n",
        "### list will be the \"target\" feature"
      ]
    },
    {
      "cell_type": "code",
      "metadata": {
        "id": "gIA3wdpFLayt",
        "colab_type": "code",
        "colab": {}
      },
      "source": [
        "features_list = [\"bonus\", \"salary\"]\n",
        "data = featureFormat( dictionary, features_list, remove_any_zeroes=True)\n",
        "target, features = targetFeatureSplit( data )"
      ],
      "execution_count": 0,
      "outputs": []
    },
    {
      "cell_type": "markdown",
      "metadata": {
        "id": "MzEQSMSmLeuW",
        "colab_type": "text"
      },
      "source": [
        "### training-testing split needed in regression, just like classification"
      ]
    },
    {
      "cell_type": "code",
      "metadata": {
        "id": "7HRE_wiTLg_5",
        "colab_type": "code",
        "colab": {}
      },
      "source": [
        "from sklearn.model_selection import train_test_split\n",
        "feature_train, feature_test, target_train, target_test = train_test_split(features, target, test_size=0.5, random_state=42)\n",
        "train_color = \"b\"\n",
        "test_color = \"r\""
      ],
      "execution_count": 0,
      "outputs": []
    },
    {
      "cell_type": "markdown",
      "metadata": {
        "id": "-6arYXZaLzMt",
        "colab_type": "text"
      },
      "source": [
        "### Your regression goes here!\n",
        "### Please name it reg, so that the plotting code below picks it up and \n",
        "### plots it correctly. Don't forget to change the test_color above from \"b\" to\n",
        "### \"r\" to differentiate training points from test points."
      ]
    },
    {
      "cell_type": "code",
      "metadata": {
        "id": "ALne68teL16n",
        "colab_type": "code",
        "colab": {}
      },
      "source": [
        "from sklearn import linear_model\n",
        "reg = linear_model.LinearRegression()\n",
        "reg = reg.fit(feature_train, target_train)\n"
      ],
      "execution_count": 0,
      "outputs": []
    },
    {
      "cell_type": "markdown",
      "metadata": {
        "id": "Fm7rIu5KL_BO",
        "colab_type": "text"
      },
      "source": [
        "### draw the scatterplot, with color-coded training and testing points"
      ]
    },
    {
      "cell_type": "code",
      "metadata": {
        "id": "6L1mxfEzL_9x",
        "colab_type": "code",
        "outputId": "b7f2e1fe-e2be-4271-fd1c-d6ddd26efa9f",
        "colab": {
          "base_uri": "https://localhost:8080/",
          "height": 283
        }
      },
      "source": [
        "import matplotlib.pyplot as plt\n",
        "for feature, target in zip(feature_test, target_test):\n",
        "    plt.scatter( feature, target, color=test_color ) \n",
        "for feature, target in zip(feature_train, target_train):\n",
        "    plt.scatter( feature, target, color=train_color ) \n",
        "\n",
        "### labels for the legend\n",
        "plt.scatter(feature_test[0], target_test[0], color=test_color, label=\"test\")\n",
        "plt.scatter(feature_test[0], target_test[0], color=train_color, label=\"train\")\n",
        "\n",
        "### draw the regression line, once it's coded\n",
        "try:\n",
        "    plt.plot( feature_test, reg.predict(feature_test) )\n",
        "except NameError:\n",
        "    pass\n",
        "plt.xlabel(features_list[1])\n",
        "plt.ylabel(features_list[0])\n",
        "plt.legend()\n",
        "plt.show()"
      ],
      "execution_count": 9,
      "outputs": [
        {
          "output_type": "display_data",
          "data": {
            "image/png": "[encoded data removed]",
            "text/plain": [
              "<Figure size 432x288 with 1 Axes>"
            ]
          },
          "metadata": {
            "tags": []
          }
        }
      ]
    },
    {
      "cell_type": "markdown",
      "metadata": {
        "id": "jwUhSZbNiVlU",
        "colab_type": "text"
      },
      "source": [
        "Extract the slope (stored in the reg.coef_ attribute) and the intercept. What are the slope and intercept?"
      ]
    },
    {
      "cell_type": "code",
      "metadata": {
        "id": "F7Kk4BNVhJyb",
        "colab_type": "code",
        "colab": {
          "base_uri": "https://localhost:8080/",
          "height": 35
        },
        "outputId": "b8bd5295-174a-4ab3-8b65-65a7e1750ffd"
      },
      "source": [
        "reg.coef_"
      ],
      "execution_count": 10,
      "outputs": [
        {
          "output_type": "execute_result",
          "data": {
            "text/plain": [
              "array([5.44814029])"
            ]
          },
          "metadata": {
            "tags": []
          },
          "execution_count": 10
        }
      ]
    },
    {
      "cell_type": "code",
      "metadata": {
        "id": "t0Zv0NS4hnYc",
        "colab_type": "code",
        "colab": {
          "base_uri": "https://localhost:8080/",
          "height": 35
        },
        "outputId": "c0fef35a-f71a-4d1e-873a-1fa19d262110"
      },
      "source": [
        "reg.intercept_"
      ],
      "execution_count": 11,
      "outputs": [
        {
          "output_type": "execute_result",
          "data": {
            "text/plain": [
              "-102360.54329387983"
            ]
          },
          "metadata": {
            "tags": []
          },
          "execution_count": 11
        }
      ]
    },
    {
      "cell_type": "markdown",
      "metadata": {
        "id": "7yHNvHy8iX2H",
        "colab_type": "text"
      },
      "source": [
        "Imagine you were a less savvy machine learner, and didn’t know to test on a holdout test set. Instead, you tested on the same data that you used to train, by comparing the regression predictions to the target values (i.e. bonuses) in the training data. What score do you find?"
      ]
    },
    {
      "cell_type": "code",
      "metadata": {
        "id": "tNLHTzNQiRmO",
        "colab_type": "code",
        "colab": {
          "base_uri": "https://localhost:8080/",
          "height": 35
        },
        "outputId": "19978201-1440-4d19-b2f9-705da97b13a7"
      },
      "source": [
        "reg.score(feature_train, target_train)"
      ],
      "execution_count": 12,
      "outputs": [
        {
          "output_type": "execute_result",
          "data": {
            "text/plain": [
              "0.04550919269952436"
            ]
          },
          "metadata": {
            "tags": []
          },
          "execution_count": 12
        }
      ]
    },
    {
      "cell_type": "markdown",
      "metadata": {
        "id": "tpr4ErhIi-tV",
        "colab_type": "text"
      },
      "source": [
        "What’s that score on the testing data? "
      ]
    },
    {
      "cell_type": "code",
      "metadata": {
        "id": "z-8CuKebiwuZ",
        "colab_type": "code",
        "colab": {
          "base_uri": "https://localhost:8080/",
          "height": 35
        },
        "outputId": "35e34ce1-2c23-45f7-daf4-ba3a96485818"
      },
      "source": [
        "reg.score(feature_test, target_test)"
      ],
      "execution_count": 14,
      "outputs": [
        {
          "output_type": "execute_result",
          "data": {
            "text/plain": [
              "-1.48499241736851"
            ]
          },
          "metadata": {
            "tags": []
          },
          "execution_count": 14
        }
      ]
    }
  ]
}