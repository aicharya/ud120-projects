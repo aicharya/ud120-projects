{
  "nbformat": 4,
  "nbformat_minor": 0,
  "metadata": {
    "colab": {
      "name": "finance_regression.ipynb",
      "provenance": [],
      "include_colab_link": true
    },
    "kernelspec": {
      "name": "python2",
      "display_name": "Python 2"
    }
  },
  "cells": [
    {
      "cell_type": "markdown",
      "metadata": {
        "id": "view-in-github",
        "colab_type": "text"
      },
      "source": [
        "<a href=\"https://colab.research.google.com/github/aicharya/ud120-projects/blob/master/regression/finance_regression.ipynb\" target=\"_parent\"><img src=\"https://colab.research.google.com/assets/colab-badge.svg\" alt=\"Open In Colab\"/></a>"
      ]
    },
    {
      "cell_type": "code",
      "metadata": {
        "id": "hmrYeaR1KnhA",
        "colab_type": "code",
        "outputId": "7f4de1a0-b01b-4487-f079-8778fe39793b",
        "colab": {
          "base_uri": "https://localhost:8080/",
          "height": 145
        }
      },
      "source": [
        "!git clone https://github.com/aicharya/ud120-projects.git"
      ],
      "execution_count": 0,
      "outputs": [
        {
          "output_type": "stream",
          "text": [
            "Cloning into 'ud120-projects'...\n",
            "remote: Enumerating objects: 12, done.\u001b[K\n",
            "remote: Counting objects:   8% (1/12)\u001b[K\rremote: Counting objects:  16% (2/12)\u001b[K\rremote: Counting objects:  25% (3/12)\u001b[K\rremote: Counting objects:  33% (4/12)\u001b[K\rremote: Counting objects:  41% (5/12)\u001b[K\rremote: Counting objects:  50% (6/12)\u001b[K\rremote: Counting objects:  58% (7/12)\u001b[K\rremote: Counting objects:  66% (8/12)\u001b[K\rremote: Counting objects:  75% (9/12)\u001b[K\rremote: Counting objects:  83% (10/12)\u001b[K\rremote: Counting objects:  91% (11/12)\u001b[K\rremote: Counting objects: 100% (12/12)\u001b[K\rremote: Counting objects: 100% (12/12), done.\u001b[K\n",
            "remote: Compressing objects: 100% (12/12), done.\u001b[K\n",
            "remote: Total 5197 (delta 6), reused 0 (delta 0), pack-reused 5185\u001b[K\n",
            "Receiving objects: 100% (5197/5197), 19.78 MiB | 22.53 MiB/s, done.\n",
            "Resolving deltas: 100% (4457/4457), done.\n"
          ],
          "name": "stdout"
        }
      ]
    },
    {
      "cell_type": "code",
      "metadata": {
        "id": "xgRR6ytsK2FC",
        "colab_type": "code",
        "outputId": "19a13648-147a-4f8a-df46-b029a09896f2",
        "colab": {
          "base_uri": "https://localhost:8080/",
          "height": 72
        }
      },
      "source": [
        "import os\n",
        "os.chdir('ud120-projects/regression')\n",
        "os.listdir(os.getcwd())"
      ],
      "execution_count": 0,
      "outputs": [
        {
          "output_type": "execute_result",
          "data": {
            "text/plain": [
              "['finance_regression.ipynb',\n",
              " 'finance_regression.py',\n",
              " 'finance_regression_v2.ipynb']"
            ]
          },
          "metadata": {
            "tags": []
          },
          "execution_count": 16
        }
      ]
    },
    {
      "cell_type": "code",
      "metadata": {
        "id": "2UR6IyIMLHHY",
        "colab_type": "code",
        "colab": {}
      },
      "source": [
        "import sys\n",
        "import pickle\n",
        "sys.path.append(\"../tools/\")"
      ],
      "execution_count": 0,
      "outputs": []
    },
    {
      "cell_type": "code",
      "metadata": {
        "id": "zD17UfRELQ3Y",
        "colab_type": "code",
        "colab": {}
      },
      "source": [
        "from feature_format import featureFormat, targetFeatureSplit\n",
        "dictionary = pickle.load( open(\"../final_project/final_project_dataset_modified.pkl\", \"r\") )"
      ],
      "execution_count": 0,
      "outputs": []
    },
    {
      "cell_type": "markdown",
      "metadata": {
        "id": "iCRlZdwoLXz2",
        "colab_type": "text"
      },
      "source": [
        "### list the features you want to look at--first item in the \n",
        "### list will be the \"target\" feature"
      ]
    },
    {
      "cell_type": "code",
      "metadata": {
        "id": "gIA3wdpFLayt",
        "colab_type": "code",
        "colab": {}
      },
      "source": [
        "features_list = [\"bonus\", \"salary\"]\n",
        "data = featureFormat( dictionary, features_list, remove_any_zeroes=True)\n",
        "target, features = targetFeatureSplit( data )"
      ],
      "execution_count": 0,
      "outputs": []
    },
    {
      "cell_type": "markdown",
      "metadata": {
        "id": "MzEQSMSmLeuW",
        "colab_type": "text"
      },
      "source": [
        "### training-testing split needed in regression, just like classification"
      ]
    },
    {
      "cell_type": "code",
      "metadata": {
        "id": "7HRE_wiTLg_5",
        "colab_type": "code",
        "colab": {}
      },
      "source": [
        "from sklearn.model_selection import train_test_split\n",
        "feature_train, feature_test, target_train, target_test = train_test_split(features, target, test_size=0.5, random_state=42)\n",
        "train_color = \"b\"\n",
        "test_color = \"r\""
      ],
      "execution_count": 0,
      "outputs": []
    },
    {
      "cell_type": "markdown",
      "metadata": {
        "id": "-6arYXZaLzMt",
        "colab_type": "text"
      },
      "source": [
        "### Your regression goes here!\n",
        "### Please name it reg, so that the plotting code below picks it up and \n",
        "### plots it correctly. Don't forget to change the test_color above from \"b\" to\n",
        "### \"r\" to differentiate training points from test points."
      ]
    },
    {
      "cell_type": "code",
      "metadata": {
        "id": "ALne68teL16n",
        "colab_type": "code",
        "colab": {}
      },
      "source": [
        "from sklearn import linear_model\n",
        "reg = linear_model.LinearRegression()\n",
        "reg = reg.fit(feature_train, target_train)\n"
      ],
      "execution_count": 0,
      "outputs": []
    },
    {
      "cell_type": "markdown",
      "metadata": {
        "id": "Fm7rIu5KL_BO",
        "colab_type": "text"
      },
      "source": [
        "### draw the scatterplot, with color-coded training and testing points"
      ]
    },
    {
      "cell_type": "code",
      "metadata": {
        "id": "6L1mxfEzL_9x",
        "colab_type": "code",
        "outputId": "166a597e-8889-41df-f248-7da8ab1f6e04",
        "colab": {
          "base_uri": "https://localhost:8080/",
          "height": 283
        }
      },
      "source": [
        "import matplotlib.pyplot as plt\n",
        "for feature, target in zip(feature_test, target_test):\n",
        "    plt.scatter( feature, target, color=test_color ) \n",
        "for feature, target in zip(feature_train, target_train):\n",
        "    plt.scatter( feature, target, color=train_color ) \n",
        "\n",
        "### labels for the legend\n",
        "plt.scatter(feature_test[0], target_test[0], color=test_color, label=\"test\")\n",
        "plt.scatter(feature_test[0], target_test[0], color=train_color, label=\"train\")\n",
        "\n",
        "### draw the regression line, once it's coded\n",
        "try:\n",
        "    plt.plot( feature_test, reg.predict(feature_test) )\n",
        "except NameError:\n",
        "    pass\n",
        "\n",
        "#reg.fit(feature_test, target_test)\n",
        "#plt.plot(feature_train, reg.predict(feature_train), color=\"g\")\n",
        "\n",
        "plt.xlabel(features_list[1])\n",
        "plt.ylabel(features_list[0])\n",
        "plt.legend()\n",
        "plt.show()"
      ],
      "execution_count": 0,
      "outputs": [
        {
          "output_type": "display_data",
          "data": {
            "image/png": "[encoded data removed]",
            "text/plain": [
              "<Figure size 432x288 with 1 Axes>"
            ]
          },
          "metadata": {
            "tags": []
          }
        }
      ]
    },
    {
      "cell_type": "markdown",
      "metadata": {
        "id": "jwUhSZbNiVlU",
        "colab_type": "text"
      },
      "source": [
        "Extract the slope (stored in the reg.coef_ attribute) and the intercept. What are the slope and intercept?"
      ]
    },
    {
      "cell_type": "code",
      "metadata": {
        "id": "F7Kk4BNVhJyb",
        "colab_type": "code",
        "outputId": "c34e7f39-cbe6-4511-83e6-abbfa79d3934",
        "colab": {
          "base_uri": "https://localhost:8080/",
          "height": 35
        }
      },
      "source": [
        "reg.coef_"
      ],
      "execution_count": 0,
      "outputs": [
        {
          "output_type": "execute_result",
          "data": {
            "text/plain": [
              "array([2.27410114])"
            ]
          },
          "metadata": {
            "tags": []
          },
          "execution_count": 30
        }
      ]
    },
    {
      "cell_type": "code",
      "metadata": {
        "id": "t0Zv0NS4hnYc",
        "colab_type": "code",
        "outputId": "f02ea3e5-d2cb-47e1-fd7f-7bb3f464a3c1",
        "colab": {
          "base_uri": "https://localhost:8080/",
          "height": 35
        }
      },
      "source": [
        "reg.intercept_"
      ],
      "execution_count": 0,
      "outputs": [
        {
          "output_type": "execute_result",
          "data": {
            "text/plain": [
              "124444.38886605436"
            ]
          },
          "metadata": {
            "tags": []
          },
          "execution_count": 31
        }
      ]
    },
    {
      "cell_type": "markdown",
      "metadata": {
        "id": "7yHNvHy8iX2H",
        "colab_type": "text"
      },
      "source": [
        "Imagine you were a less savvy machine learner, and didn’t know to test on a holdout test set. Instead, you tested on the same data that you used to train, by comparing the regression predictions to the target values (i.e. bonuses) in the training data. What score do you find?"
      ]
    },
    {
      "cell_type": "code",
      "metadata": {
        "id": "tNLHTzNQiRmO",
        "colab_type": "code",
        "outputId": "242b0fa3-d1de-4246-a3c3-aeb8503acd50",
        "colab": {
          "base_uri": "https://localhost:8080/",
          "height": 35
        }
      },
      "source": [
        "reg.score(feature_train, target_train)"
      ],
      "execution_count": 0,
      "outputs": [
        {
          "output_type": "execute_result",
          "data": {
            "text/plain": [
              "-0.12359798540343814"
            ]
          },
          "metadata": {
            "tags": []
          },
          "execution_count": 25
        }
      ]
    },
    {
      "cell_type": "markdown",
      "metadata": {
        "id": "tpr4ErhIi-tV",
        "colab_type": "text"
      },
      "source": [
        "What’s that score on the testing data? "
      ]
    },
    {
      "cell_type": "code",
      "metadata": {
        "id": "z-8CuKebiwuZ",
        "colab_type": "code",
        "outputId": "2ff7ef9a-c6ec-4653-d8e7-832d1c72299d",
        "colab": {
          "base_uri": "https://localhost:8080/",
          "height": 35
        }
      },
      "source": [
        "\n",
        "reg.score(feature_test, target_test)"
      ],
      "execution_count": 0,
      "outputs": [
        {
          "output_type": "execute_result",
          "data": {
            "text/plain": [
              "0.251488150398397"
            ]
          },
          "metadata": {
            "tags": []
          },
          "execution_count": 26
        }
      ]
    },
    {
      "cell_type": "markdown",
      "metadata": {
        "id": "tFZpBagnrCt2",
        "colab_type": "text"
      },
      "source": [
        "\n",
        "```\n",
        "This is a sneak peek of the next lesson, on outlier identification and removal. Go back to a setup where you are using the salary to predict the bonus, and rerun the code to remind yourself of what the data look like. You might notice a few data points that fall outside the main trend, someone who gets a high salary (over a million dollars!) but a relatively small bonus. This is an example of an outlier, and we’ll spend lots of time on them in the next lesson.\n",
        "\n",
        "A point like this can have a big effect on a regression: if it falls in the training set, it can have a significant effect on the slope/intercept if it falls in the test set, it can make the score much lower than it would otherwise be As things stand right now, this point falls into the test set (and probably hurting the score on our test data as a result). Let’s add a little hack to see what happens if it falls in the training set instead. Add these two lines near the bottom of finance_regression.py, right before plt.xlabel(features_list[1]):\n",
        "\n",
        "reg.fit(feature_test, target_test)\n",
        "plt.plot(feature_train, reg.predict(feature_train), color=\"b\")\n",
        "```"
      ]
    },
    {
      "cell_type": "code",
      "metadata": {
        "id": "EAIZ295ZqntU",
        "colab_type": "code",
        "outputId": "7473f542-545a-4a24-bec9-6c5df22691b4",
        "colab": {
          "base_uri": "https://localhost:8080/",
          "height": 283
        }
      },
      "source": [
        "from sklearn import linear_model\n",
        "reg = linear_model.LinearRegression()\n",
        "reg = reg.fit(feature_train, target_train)\n",
        "\n",
        "import matplotlib.pyplot as plt\n",
        "for feature, target in zip(feature_test, target_test):\n",
        "    plt.scatter( feature, target, color=test_color ) \n",
        "for feature, target in zip(feature_train, target_train):\n",
        "    plt.scatter( feature, target, color=train_color ) \n",
        "\n",
        "### labels for the legend\n",
        "plt.scatter(feature_test[0], target_test[0], color=test_color, label=\"test\")\n",
        "plt.scatter(feature_test[0], target_test[0], color=train_color, label=\"train\")\n",
        "\n",
        "### draw the regression line, once it's coded\n",
        "try:\n",
        "    plt.plot( feature_test, reg.predict(feature_test) )\n",
        "except NameError:\n",
        "    pass\n",
        "\n",
        "reg.fit(feature_test, target_test)\n",
        "plt.plot(feature_train, reg.predict(feature_train), color=\"g\")\n",
        "\n",
        "plt.xlabel(features_list[1])\n",
        "plt.ylabel(features_list[0])\n",
        "plt.legend()\n",
        "plt.show()"
      ],
      "execution_count": 0,
      "outputs": [
        {
          "output_type": "display_data",
          "data": {
            "image/png": "[encoded data removed]",
            "text/plain": [
              "<Figure size 432x288 with 1 Axes>"
            ]
          },
          "metadata": {
            "tags": []
          }
        }
      ]
    }
  ]
}