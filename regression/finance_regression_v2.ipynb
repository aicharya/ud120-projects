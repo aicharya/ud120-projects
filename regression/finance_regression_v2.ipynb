{
  "nbformat": 4,
  "nbformat_minor": 0,
  "metadata": {
    "colab": {
      "name": "finance_regression_v2.ipynb",
      "provenance": [],
      "include_colab_link": true
    },
    "kernelspec": {
      "name": "python2",
      "display_name": "Python 2"
    }
  },
  "cells": [
    {
      "cell_type": "markdown",
      "metadata": {
        "id": "view-in-github",
        "colab_type": "text"
      },
      "source": [
        "<a href=\"https://colab.research.google.com/github/aicharya/ud120-projects/blob/master/regression/finance_regression_v2.ipynb\" target=\"_parent\"><img src=\"https://colab.research.google.com/assets/colab-badge.svg\" alt=\"Open In Colab\"/></a>"
      ]
    },
    {
      "cell_type": "code",
      "metadata": {
        "id": "7rGhR3PKlidy",
        "colab_type": "code",
        "colab": {
          "base_uri": "https://localhost:8080/",
          "height": 145
        },
        "outputId": "2485e8b4-2c94-4603-e26f-7f785f086790"
      },
      "source": [
        "!git clone https://github.com/aicharya/ud120-projects.git"
      ],
      "execution_count": 2,
      "outputs": [
        {
          "output_type": "stream",
          "text": [
            "Cloning into 'ud120-projects'...\n",
            "remote: Enumerating objects: 12, done.\u001b[K\n",
            "remote: Counting objects:   8% (1/12)\u001b[K\rremote: Counting objects:  16% (2/12)\u001b[K\rremote: Counting objects:  25% (3/12)\u001b[K\rremote: Counting objects:  33% (4/12)\u001b[K\rremote: Counting objects:  41% (5/12)\u001b[K\rremote: Counting objects:  50% (6/12)\u001b[K\rremote: Counting objects:  58% (7/12)\u001b[K\rremote: Counting objects:  66% (8/12)\u001b[K\rremote: Counting objects:  75% (9/12)\u001b[K\rremote: Counting objects:  83% (10/12)\u001b[K\rremote: Counting objects:  91% (11/12)\u001b[K\rremote: Counting objects: 100% (12/12)\u001b[K\rremote: Counting objects: 100% (12/12), done.\u001b[K\n",
            "remote: Compressing objects: 100% (12/12), done.\u001b[K\n",
            "remote: Total 5197 (delta 6), reused 0 (delta 0), pack-reused 5185\u001b[K\n",
            "Receiving objects: 100% (5197/5197), 19.78 MiB | 24.58 MiB/s, done.\n",
            "Resolving deltas: 100% (4457/4457), done.\n"
          ],
          "name": "stdout"
        }
      ]
    },
    {
      "cell_type": "code",
      "metadata": {
        "id": "xgRR6ytsK2FC",
        "colab_type": "code",
        "colab": {}
      },
      "source": [
        "import os\n",
        "os.chdir('ud120-projects/regression')"
      ],
      "execution_count": 0,
      "outputs": []
    },
    {
      "cell_type": "code",
      "metadata": {
        "id": "LjFUXMWPnDVg",
        "colab_type": "code",
        "colab": {
          "base_uri": "https://localhost:8080/",
          "height": 72
        },
        "outputId": "74900e81-0f22-453d-f693-7e8983ace133"
      },
      "source": [
        "os.listdir(os.getcwd())"
      ],
      "execution_count": 4,
      "outputs": [
        {
          "output_type": "execute_result",
          "data": {
            "text/plain": [
              "['finance_regression.ipynb',\n",
              " 'finance_regression.py',\n",
              " 'finance_regression_v2.ipynb']"
            ]
          },
          "metadata": {
            "tags": []
          },
          "execution_count": 4
        }
      ]
    },
    {
      "cell_type": "code",
      "metadata": {
        "id": "Eb3bFXcZnNd1",
        "colab_type": "code",
        "colab": {}
      },
      "source": [
        "import sys\n",
        "import pickle\n",
        "sys.path.append(\"../tools/\")"
      ],
      "execution_count": 0,
      "outputs": []
    },
    {
      "cell_type": "code",
      "metadata": {
        "id": "59Ix-bHxnREZ",
        "colab_type": "code",
        "colab": {}
      },
      "source": [
        "from feature_format import featureFormat, targetFeatureSplit\n",
        "dictionary = pickle.load( open(\"../final_project/final_project_dataset_modified.pkl\", \"r\") )"
      ],
      "execution_count": 0,
      "outputs": []
    },
    {
      "cell_type": "markdown",
      "metadata": {
        "id": "uSHZfwkUnVs8",
        "colab_type": "text"
      },
      "source": [
        "### list the features you want to look at--first item in the \n",
        "### list will be the \"target\" feature"
      ]
    },
    {
      "cell_type": "code",
      "metadata": {
        "id": "kHLs4sngnWeZ",
        "colab_type": "code",
        "colab": {}
      },
      "source": [
        "features_list = [\"bonus\", \"long_term_incentive\"]\n",
        "data = featureFormat( dictionary, features_list, remove_any_zeroes=True)\n",
        "target, features = targetFeatureSplit( data )"
      ],
      "execution_count": 0,
      "outputs": []
    },
    {
      "cell_type": "markdown",
      "metadata": {
        "id": "1LN5-BrYncX6",
        "colab_type": "text"
      },
      "source": [
        "### training-testing split needed in regression, just like classification"
      ]
    },
    {
      "cell_type": "code",
      "metadata": {
        "id": "EKQoLUX8nbfV",
        "colab_type": "code",
        "colab": {}
      },
      "source": [
        "from sklearn.model_selection import train_test_split\n",
        "feature_train, feature_test, target_train, target_test = train_test_split(features, target, test_size=0.5, random_state=42)\n",
        "train_color = \"b\"\n",
        "test_color = \"r\""
      ],
      "execution_count": 0,
      "outputs": []
    },
    {
      "cell_type": "markdown",
      "metadata": {
        "id": "U-7vV9rRnz5S",
        "colab_type": "text"
      },
      "source": [
        "### Your regression goes here!\n",
        "### Please name it reg, so that the plotting code below picks it up and \n",
        "### plots it correctly. Don't forget to change the test_color above from \"b\" to\n",
        "### \"r\" to differentiate training points from test points."
      ]
    },
    {
      "cell_type": "code",
      "metadata": {
        "id": "AnU-kFtNn3DQ",
        "colab_type": "code",
        "colab": {}
      },
      "source": [
        "from sklearn import linear_model\n",
        "reg = linear_model.LinearRegression()\n",
        "reg = reg.fit(feature_train, target_train)"
      ],
      "execution_count": 0,
      "outputs": []
    },
    {
      "cell_type": "markdown",
      "metadata": {
        "id": "qHDuPR0tn7Mh",
        "colab_type": "text"
      },
      "source": [
        "### draw the scatterplot, with color-coded training and testing points"
      ]
    },
    {
      "cell_type": "code",
      "metadata": {
        "id": "4_NvtYBNn6ZS",
        "colab_type": "code",
        "colab": {
          "base_uri": "https://localhost:8080/",
          "height": 284
        },
        "outputId": "79dcfce1-7f69-4dda-87bb-46575a6a3059"
      },
      "source": [
        "import matplotlib.pyplot as plt\n",
        "for feature, target in zip(feature_test, target_test):\n",
        "    plt.scatter( feature, target, color=test_color ) \n",
        "for feature, target in zip(feature_train, target_train):\n",
        "    plt.scatter( feature, target, color=train_color ) \n",
        "\n",
        "### labels for the legend\n",
        "plt.scatter(feature_test[0], target_test[0], color=test_color, label=\"test\")\n",
        "plt.scatter(feature_test[0], target_test[0], color=train_color, label=\"train\")\n",
        "\n",
        "### draw the regression line, once it's coded\n",
        "try:\n",
        "    plt.plot( feature_test, reg.predict(feature_test) )\n",
        "except NameError:\n",
        "    pass\n",
        "plt.xlabel(features_list[1])\n",
        "plt.ylabel(features_list[0])\n",
        "plt.legend()\n",
        "plt.show()"
      ],
      "execution_count": 11,
      "outputs": [
        {
          "output_type": "display_data",
          "data": {
            "image/png": "[encoded data removed]",
            "text/plain": [
              "<Figure size 432x288 with 1 Axes>"
            ]
          },
          "metadata": {
            "tags": []
          }
        }
      ]
    },
    {
      "cell_type": "markdown",
      "metadata": {
        "id": "acot9F62oHO2",
        "colab_type": "text"
      },
      "source": [
        "Extract the slope (stored in the reg.coef_ attribute) and the intercept. What are the slope and intercept?"
      ]
    },
    {
      "cell_type": "code",
      "metadata": {
        "id": "x5uyvWKIoIDr",
        "colab_type": "code",
        "colab": {
          "base_uri": "https://localhost:8080/",
          "height": 35
        },
        "outputId": "67f95af5-c43d-4d94-fc64-91d5b4e2793e"
      },
      "source": [
        "reg.coef_"
      ],
      "execution_count": 12,
      "outputs": [
        {
          "output_type": "execute_result",
          "data": {
            "text/plain": [
              "array([1.19214699])"
            ]
          },
          "metadata": {
            "tags": []
          },
          "execution_count": 12
        }
      ]
    },
    {
      "cell_type": "code",
      "metadata": {
        "id": "esHkna9FoNon",
        "colab_type": "code",
        "colab": {
          "base_uri": "https://localhost:8080/",
          "height": 35
        },
        "outputId": "03dccdf6-941e-424b-9883-7ac74ede2ed0"
      },
      "source": [
        "reg.intercept_"
      ],
      "execution_count": 13,
      "outputs": [
        {
          "output_type": "execute_result",
          "data": {
            "text/plain": [
              "554478.7562150093"
            ]
          },
          "metadata": {
            "tags": []
          },
          "execution_count": 13
        }
      ]
    },
    {
      "cell_type": "markdown",
      "metadata": {
        "id": "Dd6E_X-poU6U",
        "colab_type": "text"
      },
      "source": [
        "Imagine you were a less savvy machine learner, and didn’t know to test on a holdout test set. Instead, you tested on the same data that you used to train, by comparing the regression predictions to the target values (i.e. bonuses) in the training data. What score do you find?"
      ]
    },
    {
      "cell_type": "code",
      "metadata": {
        "id": "xYks_A8boWqj",
        "colab_type": "code",
        "colab": {
          "base_uri": "https://localhost:8080/",
          "height": 35
        },
        "outputId": "470cdeb4-dbf4-4f6f-de36-08f9b9cd751d"
      },
      "source": [
        "reg.score(feature_train, target_train)"
      ],
      "execution_count": 14,
      "outputs": [
        {
          "output_type": "execute_result",
          "data": {
            "text/plain": [
              "0.21708597125777662"
            ]
          },
          "metadata": {
            "tags": []
          },
          "execution_count": 14
        }
      ]
    },
    {
      "cell_type": "markdown",
      "metadata": {
        "id": "Jad8D-JQob2B",
        "colab_type": "text"
      },
      "source": [
        "What’s that score on the testing data? "
      ]
    },
    {
      "cell_type": "code",
      "metadata": {
        "id": "EeuDWr_noa9L",
        "colab_type": "code",
        "colab": {
          "base_uri": "https://localhost:8080/",
          "height": 35
        },
        "outputId": "a832a285-21bc-4908-8b25-baa7e2731ad3"
      },
      "source": [
        "reg.score(feature_test, target_test)"
      ],
      "execution_count": 15,
      "outputs": [
        {
          "output_type": "execute_result",
          "data": {
            "text/plain": [
              "-0.5927128999498639"
            ]
          },
          "metadata": {
            "tags": []
          },
          "execution_count": 15
        }
      ]
    }
  ]
}