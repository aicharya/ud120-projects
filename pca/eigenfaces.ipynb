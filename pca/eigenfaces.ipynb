{
  "nbformat": 4,
  "nbformat_minor": 0,
  "metadata": {
    "colab": {
      "name": "eigenfaces.ipynb",
      "provenance": [],
      "include_colab_link": true
    },
    "kernelspec": {
      "name": "python2",
      "display_name": "Python 2"
    }
  },
  "cells": [
    {
      "cell_type": "markdown",
      "metadata": {
        "id": "view-in-github",
        "colab_type": "text"
      },
      "source": [
        "<a href=\"https://colab.research.google.com/github/aicharya/ud120-projects/blob/master/pca/eigenfaces.ipynb\" target=\"_parent\"><img src=\"https://colab.research.google.com/assets/colab-badge.svg\" alt=\"Open In Colab\"/></a>"
      ]
    },
    {
      "cell_type": "markdown",
      "metadata": {
        "id": "CG0VvdiAWbF4",
        "colab_type": "text"
      },
      "source": [
        "\n",
        "\n",
        "```\n",
        "===================================================\n",
        "Faces recognition example using eigenfaces and SVMs\n",
        "===================================================\n",
        "The dataset used in this example is a preprocessed excerpt of the\n",
        "\"Labeled Faces in the Wild\", aka LFW_:\n",
        "  http://vis-www.cs.umass.edu/lfw/lfw-funneled.tgz (233MB)\n",
        "  .. _LFW: http://vis-www.cs.umass.edu/lfw/\n",
        "  original source: http://scikit-learn.org/stable/auto_examples/applications/face_recognition.html\n",
        "```\n",
        "\n"
      ]
    },
    {
      "cell_type": "code",
      "metadata": {
        "id": "nYqZJEGtUUIT",
        "colab_type": "code",
        "colab": {
          "base_uri": "https://localhost:8080/",
          "height": 163
        },
        "outputId": "ff549405-4908-4cad-971d-dc084a837f24"
      },
      "source": [
        "!git clone https://github.com/aicharya/ud120-projects.git"
      ],
      "execution_count": 1,
      "outputs": [
        {
          "output_type": "stream",
          "text": [
            "Cloning into 'ud120-projects'...\n",
            "remote: Enumerating objects: 50, done.\u001b[K\n",
            "remote: Counting objects: 100% (50/50), done.\u001b[K\n",
            "remote: Compressing objects: 100% (50/50), done.\u001b[K\n",
            "remote: Total 5371 (delta 30), reused 0 (delta 0), pack-reused 5321\u001b[K\n",
            "Receiving objects: 100% (5371/5371), 20.01 MiB | 25.84 MiB/s, done.\n",
            "Resolving deltas: 100% (4572/4572), done.\n",
            "Checking out files: 100% (4727/4727), done.\n"
          ],
          "name": "stdout"
        }
      ]
    },
    {
      "cell_type": "code",
      "metadata": {
        "id": "GxByuRe_Wt0x",
        "colab_type": "code",
        "colab": {
          "base_uri": "https://localhost:8080/",
          "height": 35
        },
        "outputId": "85b9627a-f0ef-4e00-82e3-7b1bb6dc3ceb"
      },
      "source": [
        "import os\n",
        "os.chdir('ud120-projects/pca')\n",
        "os.listdir(os.getcwd())"
      ],
      "execution_count": 2,
      "outputs": [
        {
          "output_type": "execute_result",
          "data": {
            "text/plain": [
              "['eigenfaces.py']"
            ]
          },
          "metadata": {
            "tags": []
          },
          "execution_count": 2
        }
      ]
    },
    {
      "cell_type": "code",
      "metadata": {
        "id": "TylNO4fuW-5n",
        "colab_type": "code",
        "colab": {}
      },
      "source": [
        "from time import time\n",
        "import logging\n",
        "import pylab as pl\n",
        "import numpy as np\n",
        "\n",
        "from sklearn.model_selection import train_test_split\n",
        "from sklearn.model_selection import GridSearchCV\n",
        "\n",
        "from sklearn.datasets import fetch_lfw_people\n",
        "\n",
        "from sklearn.metrics import classification_report\n",
        "from sklearn.metrics import confusion_matrix\n",
        "\n",
        "#from sklearn.decomposition import RandomizedPCA\n",
        "from sklearn.decomposition import PCA as RandomizedPCA\n",
        "from sklearn.svm import SVC"
      ],
      "execution_count": 0,
      "outputs": []
    },
    {
      "cell_type": "markdown",
      "metadata": {
        "id": "I6CghgrwZOwc",
        "colab_type": "text"
      },
      "source": [
        "#### Display progress logs on stdout"
      ]
    },
    {
      "cell_type": "code",
      "metadata": {
        "id": "xOtMxTArZQdF",
        "colab_type": "code",
        "colab": {}
      },
      "source": [
        "logging.basicConfig(level=logging.INFO, format='%(asctime)s %(message)s')"
      ],
      "execution_count": 0,
      "outputs": []
    },
    {
      "cell_type": "markdown",
      "metadata": {
        "id": "SclhxnvUZT7A",
        "colab_type": "text"
      },
      "source": [
        "#### Download the data, if not already on disk and load it as numpy arrays"
      ]
    },
    {
      "cell_type": "code",
      "metadata": {
        "id": "YIWlZNgAZZBg",
        "colab_type": "code",
        "colab": {
          "base_uri": "https://localhost:8080/",
          "height": 163
        },
        "outputId": "6b57172a-3e20-4a09-c2c9-7aae00d5c161"
      },
      "source": [
        "lfw_people = fetch_lfw_people(min_faces_per_person=70, resize=0.4)"
      ],
      "execution_count": 9,
      "outputs": [
        {
          "output_type": "stream",
          "text": [
            "Downloading LFW metadata: https://ndownloader.figshare.com/files/5976012\n",
            "2019-09-29 05:02:10,054 Downloading LFW metadata: https://ndownloader.figshare.com/files/5976012\n",
            "Downloading LFW metadata: https://ndownloader.figshare.com/files/5976009\n",
            "2019-09-29 05:02:11,067 Downloading LFW metadata: https://ndownloader.figshare.com/files/5976009\n",
            "Downloading LFW metadata: https://ndownloader.figshare.com/files/5976006\n",
            "2019-09-29 05:02:11,994 Downloading LFW metadata: https://ndownloader.figshare.com/files/5976006\n",
            "Downloading LFW data (~200MB): https://ndownloader.figshare.com/files/5976015\n",
            "2019-09-29 05:02:13,126 Downloading LFW data (~200MB): https://ndownloader.figshare.com/files/5976015\n"
          ],
          "name": "stderr"
        }
      ]
    },
    {
      "cell_type": "markdown",
      "metadata": {
        "id": "tmZhz3Dyaqzo",
        "colab_type": "text"
      },
      "source": [
        "#### introspect the images arrays to find the shapes (for plotting)"
      ]
    },
    {
      "cell_type": "code",
      "metadata": {
        "id": "sn29m21jas57",
        "colab_type": "code",
        "colab": {}
      },
      "source": [
        "n_samples, h, w = lfw_people.images.shape\n",
        "np.random.seed(42)"
      ],
      "execution_count": 0,
      "outputs": []
    },
    {
      "cell_type": "markdown",
      "metadata": {
        "id": "TnO_-D5kayh7",
        "colab_type": "text"
      },
      "source": [
        "\n",
        "\n",
        "```\n",
        "# for machine learning we use the data directly (as relative pixel\n",
        "# position info is ignored by this model)\n",
        "```\n",
        "\n"
      ]
    },
    {
      "cell_type": "code",
      "metadata": {
        "id": "HR66IkI5axvD",
        "colab_type": "code",
        "colab": {}
      },
      "source": [
        "X = lfw_people.data\n",
        "n_features = X.shape[1]"
      ],
      "execution_count": 0,
      "outputs": []
    },
    {
      "cell_type": "markdown",
      "metadata": {
        "id": "VEbFG5o0a6A2",
        "colab_type": "text"
      },
      "source": [
        "\n",
        "\n",
        "```\n",
        "# the label to predict is the id of the person\n",
        "```\n",
        "\n"
      ]
    },
    {
      "cell_type": "code",
      "metadata": {
        "id": "uBjZ4blga7zl",
        "colab_type": "code",
        "colab": {}
      },
      "source": [
        "y = lfw_people.target\n",
        "target_names = lfw_people.target_names\n",
        "n_classes = target_names.shape[0]"
      ],
      "execution_count": 0,
      "outputs": []
    },
    {
      "cell_type": "code",
      "metadata": {
        "id": "BJxMeAHBbCMO",
        "colab_type": "code",
        "colab": {
          "base_uri": "https://localhost:8080/",
          "height": 90
        },
        "outputId": "7b4d3505-2176-4ea6-bfd7-34353ed12b3c"
      },
      "source": [
        "print \"Total dataset size:\"\n",
        "print \"n_samples: %d\" % n_samples\n",
        "print \"n_features: %d\" % n_features\n",
        "print \"n_classes: %d\" % n_classes"
      ],
      "execution_count": 13,
      "outputs": [
        {
          "output_type": "stream",
          "text": [
            "Total dataset size:\n",
            "n_samples: 1288\n",
            "n_features: 1850\n",
            "n_classes: 7\n"
          ],
          "name": "stdout"
        }
      ]
    }
  ]
}