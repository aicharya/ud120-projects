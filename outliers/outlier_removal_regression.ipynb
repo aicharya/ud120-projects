{
  "nbformat": 4,
  "nbformat_minor": 0,
  "metadata": {
    "colab": {
      "name": "outlier_removal_regression.ipynb",
      "provenance": [],
      "include_colab_link": true
    },
    "kernelspec": {
      "name": "python2",
      "display_name": "Python 2"
    }
  },
  "cells": [
    {
      "cell_type": "markdown",
      "metadata": {
        "id": "view-in-github",
        "colab_type": "text"
      },
      "source": [
        "<a href=\"https://colab.research.google.com/github/aicharya/ud120-projects/blob/master/outliers/outlier_removal_regression.ipynb\" target=\"_parent\"><img src=\"https://colab.research.google.com/assets/colab-badge.svg\" alt=\"Open In Colab\"/></a>"
      ]
    },
    {
      "cell_type": "code",
      "metadata": {
        "id": "eRQ_L2Va1Y_d",
        "colab_type": "code",
        "colab": {
          "base_uri": "https://localhost:8080/",
          "height": 145
        },
        "outputId": "ed841c30-c470-4a46-ce9b-49e88b7734f3"
      },
      "source": [
        "!git clone https://github.com/aicharya/ud120-projects.git"
      ],
      "execution_count": 1,
      "outputs": [
        {
          "output_type": "stream",
          "text": [
            "Cloning into 'ud120-projects'...\n",
            "remote: Enumerating objects: 45, done.\u001b[K\n",
            "remote: Counting objects: 100% (45/45), done.\u001b[K\n",
            "remote: Compressing objects: 100% (45/45), done.\u001b[K\n",
            "remote: Total 5230 (delta 28), reused 0 (delta 0), pack-reused 5185\u001b[K\n",
            "Receiving objects: 100% (5230/5230), 19.82 MiB | 24.28 MiB/s, done.\n",
            "Resolving deltas: 100% (4479/4479), done.\n"
          ],
          "name": "stdout"
        }
      ]
    },
    {
      "cell_type": "code",
      "metadata": {
        "id": "uVUcaLbSPdt8",
        "colab_type": "code",
        "colab": {
          "base_uri": "https://localhost:8080/",
          "height": 35
        },
        "outputId": "4618e3d2-574c-4701-caca-9d32ed677d60"
      },
      "source": [
        "os.getcwd()"
      ],
      "execution_count": 12,
      "outputs": [
        {
          "output_type": "execute_result",
          "data": {
            "text/plain": [
              "'/content/ud120-projects/outliers'"
            ]
          },
          "metadata": {
            "tags": []
          },
          "execution_count": 12
        }
      ]
    },
    {
      "cell_type": "code",
      "metadata": {
        "id": "UM_A7dzr_s50",
        "colab_type": "code",
        "colab": {
          "base_uri": "https://localhost:8080/",
          "height": 207
        },
        "outputId": "915f3516-d0d9-4cff-b7cb-524c2e33f0ea"
      },
      "source": [
        "import os\n",
        "os.chdir('ud120-projects/outliers')\n",
        "os.listdir(os.getcwd())"
      ],
      "execution_count": 3,
      "outputs": [
        {
          "output_type": "error",
          "ename": "OSError",
          "evalue": "ignored",
          "traceback": [
            "\u001b[0;31m\u001b[0m",
            "\u001b[0;31mOSError\u001b[0mTraceback (most recent call last)",
            "\u001b[0;32m<ipython-input-3-d4fb4fc28971>\u001b[0m in \u001b[0;36m<module>\u001b[0;34m()\u001b[0m\n\u001b[1;32m      1\u001b[0m \u001b[0;32mimport\u001b[0m \u001b[0mos\u001b[0m\u001b[0;34m\u001b[0m\u001b[0;34m\u001b[0m\u001b[0m\n\u001b[0;32m----> 2\u001b[0;31m \u001b[0mos\u001b[0m\u001b[0;34m.\u001b[0m\u001b[0mchdir\u001b[0m\u001b[0;34m(\u001b[0m\u001b[0;34m'ud120-projects/outliers'\u001b[0m\u001b[0;34m)\u001b[0m\u001b[0;34m\u001b[0m\u001b[0;34m\u001b[0m\u001b[0m\n\u001b[0m\u001b[1;32m      3\u001b[0m \u001b[0mos\u001b[0m\u001b[0;34m.\u001b[0m\u001b[0mlistdir\u001b[0m\u001b[0;34m(\u001b[0m\u001b[0mos\u001b[0m\u001b[0;34m.\u001b[0m\u001b[0mgetcwd\u001b[0m\u001b[0;34m(\u001b[0m\u001b[0;34m)\u001b[0m\u001b[0;34m)\u001b[0m\u001b[0;34m\u001b[0m\u001b[0;34m\u001b[0m\u001b[0m\n",
            "\u001b[0;31mOSError\u001b[0m: [Errno 2] No such file or directory: 'ud120-projects/outliers'"
          ]
        }
      ]
    },
    {
      "cell_type": "code",
      "metadata": {
        "id": "Tg3tNxfm_6eC",
        "colab_type": "code",
        "colab": {}
      },
      "source": [
        "import random\n",
        "import numpy\n",
        "import matplotlib.pyplot as plt\n",
        "import pickle"
      ],
      "execution_count": 0,
      "outputs": []
    },
    {
      "cell_type": "code",
      "metadata": {
        "id": "eEaN-Nto_-ti",
        "colab_type": "code",
        "colab": {}
      },
      "source": [
        "def squaredError(prediction, age, net_worth):\n",
        "  \"\"\"\n",
        "      Return the squared error\n",
        "  \"\"\"\n",
        "  error = (net_worth-prediction)**2\n",
        "  return (age, net_worth, error)\n",
        "\n",
        "\n",
        "\n",
        "def outlierCleaner(predictions, ages, net_worths):\n",
        "    \"\"\"\n",
        "        Clean away the 10% of points that have the largest\n",
        "        residual errors (difference between the prediction\n",
        "        and the actual net worth).\n",
        "        Return a list of tuples named cleaned_data where \n",
        "        each tuple is of the form (age, net_worth, error).\n",
        "    \"\"\"\n",
        "    #cleaned_data = []\n",
        "    ### your code goes here\n",
        "    cutoff = len(ages) * 90 / 100\n",
        "    cleaned_data_i = map(squaredError, predictions, ages, net_worths)\n",
        "    cleaned_data   = sorted(cleaned_data_i,  key=lambda item: item[2])[:cutoff]\n",
        "    #print len(cleaned_data)\n",
        "    return cleaned_data"
      ],
      "execution_count": 0,
      "outputs": []
    },
    {
      "cell_type": "markdown",
      "metadata": {
        "id": "6kG0ntPhA2HD",
        "colab_type": "text"
      },
      "source": [
        "### load up some practice data with outliers in it"
      ]
    },
    {
      "cell_type": "code",
      "metadata": {
        "id": "2a7cC8pm__Ka",
        "colab_type": "code",
        "colab": {}
      },
      "source": [
        "ages = pickle.load( open(\"practice_outliers_ages.pkl\", \"r\") )\n",
        "net_worths = pickle.load( open(\"practice_outliers_net_worths.pkl\", \"r\") )"
      ],
      "execution_count": 0,
      "outputs": []
    },
    {
      "cell_type": "markdown",
      "metadata": {
        "id": "frhdcjsgA_cW",
        "colab_type": "text"
      },
      "source": [
        "### ages and net_worths need to be reshaped into 2D numpy arrays\n",
        "### second argument of reshape command is a tuple of integers: (n_rows, n_columns)\n",
        "### by convention, n_rows is the number of data points\n",
        "### and n_columns is the number of features"
      ]
    },
    {
      "cell_type": "code",
      "metadata": {
        "id": "mWHbt3ijBAvk",
        "colab_type": "code",
        "colab": {}
      },
      "source": [
        "ages       = numpy.reshape( numpy.array(ages), (len(ages), 1))\n",
        "net_worths = numpy.reshape( numpy.array(net_worths), (len(net_worths), 1))\n",
        "\n",
        "from sklearn.model_selection import train_test_split\n",
        "\n",
        "ages_train, ages_test, net_worths_train, net_worths_test = train_test_split(ages, net_worths, test_size=0.1, random_state=42)"
      ],
      "execution_count": 0,
      "outputs": []
    },
    {
      "cell_type": "markdown",
      "metadata": {
        "id": "cJ57gXywBOUo",
        "colab_type": "text"
      },
      "source": [
        "### fill in a regression here!  Name the regression object reg so that\n",
        "### the plotting code below works, and you can see what your regression looks like"
      ]
    },
    {
      "cell_type": "code",
      "metadata": {
        "id": "LqwETm8EBPM3",
        "colab_type": "code",
        "colab": {}
      },
      "source": [
        "from sklearn import linear_model\n",
        "reg = linear_model.LinearRegression()\n",
        "reg = reg.fit(ages_train, net_worths_train)"
      ],
      "execution_count": 0,
      "outputs": []
    },
    {
      "cell_type": "code",
      "metadata": {
        "id": "c4Zs0HZWBSiI",
        "colab_type": "code",
        "colab": {
          "base_uri": "https://localhost:8080/",
          "height": 269
        },
        "outputId": "e77c1c3a-efd0-4cda-db14-fe6420100a18"
      },
      "source": [
        "try:\n",
        "    plt.plot(ages, reg.predict(ages), color=\"blue\")\n",
        "except NameError:\n",
        "    pass\n",
        "plt.scatter(ages, net_worths)\n",
        "plt.show()"
      ],
      "execution_count": 77,
      "outputs": [
        {
          "output_type": "display_data",
          "data": {
            "image/png": "[encoded data removed]",
            "text/plain": [
              "<Figure size 432x288 with 1 Axes>"
            ]
          },
          "metadata": {
            "tags": []
          }
        }
      ]
    },
    {
      "cell_type": "code",
      "metadata": {
        "id": "PwvFa_uvY70t",
        "colab_type": "code",
        "colab": {
          "base_uri": "https://localhost:8080/",
          "height": 35
        },
        "outputId": "df930044-e8df-494f-fcf1-53a697dddffd"
      },
      "source": [
        "reg.coef_"
      ],
      "execution_count": 78,
      "outputs": [
        {
          "output_type": "execute_result",
          "data": {
            "text/plain": [
              "array([[5.07793064]])"
            ]
          },
          "metadata": {
            "tags": []
          },
          "execution_count": 78
        }
      ]
    },
    {
      "cell_type": "code",
      "metadata": {
        "id": "OZV9P3hJY_RP",
        "colab_type": "code",
        "colab": {
          "base_uri": "https://localhost:8080/",
          "height": 35
        },
        "outputId": "7b3ca618-bafb-4489-b182-ab378d141acc"
      },
      "source": [
        "reg.intercept_"
      ],
      "execution_count": 79,
      "outputs": [
        {
          "output_type": "execute_result",
          "data": {
            "text/plain": [
              "array([25.21002155])"
            ]
          },
          "metadata": {
            "tags": []
          },
          "execution_count": 79
        }
      ]
    },
    {
      "cell_type": "code",
      "metadata": {
        "id": "zj6Q3n0aZcD-",
        "colab_type": "code",
        "colab": {
          "base_uri": "https://localhost:8080/",
          "height": 35
        },
        "outputId": "a5ea5c54-3316-4169-f3b8-314e520f4344"
      },
      "source": [
        "reg.score(ages_train, net_worths_train)"
      ],
      "execution_count": 80,
      "outputs": [
        {
          "output_type": "execute_result",
          "data": {
            "text/plain": [
              "0.4898725961751499"
            ]
          },
          "metadata": {
            "tags": []
          },
          "execution_count": 80
        }
      ]
    },
    {
      "cell_type": "code",
      "metadata": {
        "id": "Q-lkiXJOZdFx",
        "colab_type": "code",
        "colab": {
          "base_uri": "https://localhost:8080/",
          "height": 35
        },
        "outputId": "af78f4ec-fba2-41f7-9f72-0a3b27f50fbb"
      },
      "source": [
        "reg.score(ages_test, net_worths_test)"
      ],
      "execution_count": 81,
      "outputs": [
        {
          "output_type": "execute_result",
          "data": {
            "text/plain": [
              "0.8782624703664671"
            ]
          },
          "metadata": {
            "tags": []
          },
          "execution_count": 81
        }
      ]
    },
    {
      "cell_type": "markdown",
      "metadata": {
        "id": "8x3paPbKBPnw",
        "colab_type": "text"
      },
      "source": [
        "### identify and remove the most outlier-y points"
      ]
    },
    {
      "cell_type": "code",
      "metadata": {
        "id": "6Y1ADxX1BYG8",
        "colab_type": "code",
        "colab": {}
      },
      "source": [
        "cleaned_data = []\n",
        "try:\n",
        "    predictions = reg.predict(ages_train)\n",
        "    cleaned_data = outlierCleaner( predictions, ages_train, net_worths_train )\n",
        "except NameError:\n",
        "    print \"your regression object doesn't exist, or isn't name reg\"\n",
        "    print \"can't make predictions to use in identifying outliers\""
      ],
      "execution_count": 0,
      "outputs": []
    },
    {
      "cell_type": "markdown",
      "metadata": {
        "id": "NhKYbEMfBdRj",
        "colab_type": "text"
      },
      "source": [
        "### only run this code if cleaned_data is returning data"
      ]
    },
    {
      "cell_type": "code",
      "metadata": {
        "id": "evafWJbyBeDi",
        "colab_type": "code",
        "colab": {
          "base_uri": "https://localhost:8080/",
          "height": 283
        },
        "outputId": "26506727-9943-4269-f76b-28be4f7d54e2"
      },
      "source": [
        "if len(cleaned_data) > 0:\n",
        "    ages, net_worths, errors = zip(*cleaned_data)\n",
        "    ages       = numpy.reshape( numpy.array(ages), (len(ages), 1))\n",
        "    net_worths = numpy.reshape( numpy.array(net_worths), (len(net_worths), 1))\n",
        "\n",
        "    ### refit your cleaned data!\n",
        "    try:\n",
        "        reg.fit(ages, net_worths)\n",
        "        plt.plot(ages, reg.predict(ages), color=\"blue\")\n",
        "    except NameError:\n",
        "        print \"you don't seem to have regression imported/created,\"\n",
        "        print \"   or else your regression object isn't named reg\"\n",
        "        print \"   either way, only draw the scatter plot of the cleaned data\"\n",
        "    plt.scatter(ages, net_worths)\n",
        "    plt.xlabel(\"ages\")\n",
        "    plt.ylabel(\"net worths\")\n",
        "    plt.show()\n",
        "\n",
        "\n",
        "else:\n",
        "    print \"outlierCleaner() is returning an empty list, no refitting to be done\""
      ],
      "execution_count": 83,
      "outputs": [
        {
          "output_type": "display_data",
          "data": {
            "image/png": "[encoded data removed]",
            "text/plain": [
              "<Figure size 432x288 with 1 Axes>"
            ]
          },
          "metadata": {
            "tags": []
          }
        }
      ]
    },
    {
      "cell_type": "code",
      "metadata": {
        "id": "I1Kjs-6WZDpL",
        "colab_type": "code",
        "colab": {
          "base_uri": "https://localhost:8080/",
          "height": 35
        },
        "outputId": "99581f98-017a-4571-de49-3f937dc2b11d"
      },
      "source": [
        "reg.coef_"
      ],
      "execution_count": 84,
      "outputs": [
        {
          "output_type": "execute_result",
          "data": {
            "text/plain": [
              "array([[6.36859481]])"
            ]
          },
          "metadata": {
            "tags": []
          },
          "execution_count": 84
        }
      ]
    },
    {
      "cell_type": "code",
      "metadata": {
        "id": "5WqmY9JhZEbv",
        "colab_type": "code",
        "colab": {
          "base_uri": "https://localhost:8080/",
          "height": 35
        },
        "outputId": "7c3e2412-6050-4796-ff13-4b99390d3afd"
      },
      "source": [
        "reg.intercept_"
      ],
      "execution_count": 85,
      "outputs": [
        {
          "output_type": "execute_result",
          "data": {
            "text/plain": [
              "array([-6.91861069])"
            ]
          },
          "metadata": {
            "tags": []
          },
          "execution_count": 85
        }
      ]
    },
    {
      "cell_type": "code",
      "metadata": {
        "id": "nLvcHCOMZq8S",
        "colab_type": "code",
        "colab": {
          "base_uri": "https://localhost:8080/",
          "height": 35
        },
        "outputId": "7ad922aa-0aaf-4ff6-b4ed-1cb073df113b"
      },
      "source": [
        "reg.score(ages_train, net_worths_train)"
      ],
      "execution_count": 86,
      "outputs": [
        {
          "output_type": "execute_result",
          "data": {
            "text/plain": [
              "0.40932545447778534"
            ]
          },
          "metadata": {
            "tags": []
          },
          "execution_count": 86
        }
      ]
    },
    {
      "cell_type": "code",
      "metadata": {
        "id": "gCVfxnDeZtm6",
        "colab_type": "code",
        "colab": {
          "base_uri": "https://localhost:8080/",
          "height": 35
        },
        "outputId": "edfa82e4-d398-4b00-f0d3-984b143d707c"
      },
      "source": [
        "reg.score(ages_test, net_worths_test)"
      ],
      "execution_count": 87,
      "outputs": [
        {
          "output_type": "execute_result",
          "data": {
            "text/plain": [
              "0.9831894553955322"
            ]
          },
          "metadata": {
            "tags": []
          },
          "execution_count": 87
        }
      ]
    }
  ]
}