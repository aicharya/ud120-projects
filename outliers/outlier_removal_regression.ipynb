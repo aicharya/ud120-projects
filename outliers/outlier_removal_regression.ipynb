{
  "nbformat": 4,
  "nbformat_minor": 0,
  "metadata": {
    "colab": {
      "name": "outlier_removal_regression.ipynb",
      "provenance": [],
      "include_colab_link": true
    },
    "kernelspec": {
      "name": "python2",
      "display_name": "Python 2"
    }
  },
  "cells": [
    {
      "cell_type": "markdown",
      "metadata": {
        "id": "view-in-github",
        "colab_type": "text"
      },
      "source": [
        "<a href=\"https://colab.research.google.com/github/aicharya/ud120-projects/blob/master/outliers/outlier_removal_regression.ipynb\" target=\"_parent\"><img src=\"https://colab.research.google.com/assets/colab-badge.svg\" alt=\"Open In Colab\"/></a>"
      ]
    },
    {
      "cell_type": "code",
      "metadata": {
        "id": "eRQ_L2Va1Y_d",
        "colab_type": "code",
        "colab": {
          "base_uri": "https://localhost:8080/",
          "height": 145
        },
        "outputId": "f403e571-b037-4e46-f664-0ce70a143704"
      },
      "source": [
        "!git clone https://github.com/aicharya/ud120-projects.git"
      ],
      "execution_count": 1,
      "outputs": [
        {
          "output_type": "stream",
          "text": [
            "Cloning into 'ud120-projects'...\n",
            "remote: Enumerating objects: 29, done.\u001b[K\n",
            "remote: Counting objects: 100% (29/29), done.\u001b[K\n",
            "remote: Compressing objects: 100% (29/29), done.\u001b[K\n",
            "remote: Total 5214 (delta 17), reused 0 (delta 0), pack-reused 5185\u001b[K\n",
            "Receiving objects: 100% (5214/5214), 19.81 MiB | 24.44 MiB/s, done.\n",
            "Resolving deltas: 100% (4468/4468), done.\n"
          ],
          "name": "stdout"
        }
      ]
    },
    {
      "cell_type": "code",
      "metadata": {
        "id": "UM_A7dzr_s50",
        "colab_type": "code",
        "colab": {
          "base_uri": "https://localhost:8080/",
          "height": 126
        },
        "outputId": "54f927a7-835a-435c-cf1e-1e4bc9d3c617"
      },
      "source": [
        "import os\n",
        "os.chdir('ud120-projects/outliers')\n",
        "os.listdir(os.getcwd())"
      ],
      "execution_count": 2,
      "outputs": [
        {
          "output_type": "execute_result",
          "data": {
            "text/plain": [
              "['outlier_cleaner.py',\n",
              " 'outlier_removal_regression.ipynb',\n",
              " 'practice_outliers_ages.pkl',\n",
              " 'practice_outliers_net_worths.pkl',\n",
              " 'enron_outliers.py',\n",
              " 'outlier_removal_regression.py']"
            ]
          },
          "metadata": {
            "tags": []
          },
          "execution_count": 2
        }
      ]
    },
    {
      "cell_type": "code",
      "metadata": {
        "id": "Tg3tNxfm_6eC",
        "colab_type": "code",
        "colab": {}
      },
      "source": [
        "import random\n",
        "import numpy\n",
        "import matplotlib.pyplot as plt\n",
        "import pickle"
      ],
      "execution_count": 0,
      "outputs": []
    },
    {
      "cell_type": "code",
      "metadata": {
        "id": "eEaN-Nto_-ti",
        "colab_type": "code",
        "colab": {}
      },
      "source": [
        "def outlierCleaner(predictions, ages, net_worths):\n",
        "    \"\"\"\n",
        "        Clean away the 10% of points that have the largest\n",
        "        residual errors (difference between the prediction\n",
        "        and the actual net worth).\n",
        "        Return a list of tuples named cleaned_data where \n",
        "        each tuple is of the form (age, net_worth, error).\n",
        "    \"\"\"\n",
        "    \n",
        "    cleaned_data = []\n",
        "    ### your code goes here\n",
        "    \n",
        "    return cleaned_data"
      ],
      "execution_count": 0,
      "outputs": []
    },
    {
      "cell_type": "markdown",
      "metadata": {
        "id": "6kG0ntPhA2HD",
        "colab_type": "text"
      },
      "source": [
        "### load up some practice data with outliers in it"
      ]
    },
    {
      "cell_type": "code",
      "metadata": {
        "id": "2a7cC8pm__Ka",
        "colab_type": "code",
        "colab": {}
      },
      "source": [
        "ages = pickle.load( open(\"practice_outliers_ages.pkl\", \"r\") )\n",
        "net_worths = pickle.load( open(\"practice_outliers_net_worths.pkl\", \"r\") )"
      ],
      "execution_count": 0,
      "outputs": []
    },
    {
      "cell_type": "markdown",
      "metadata": {
        "id": "frhdcjsgA_cW",
        "colab_type": "text"
      },
      "source": [
        "### ages and net_worths need to be reshaped into 2D numpy arrays\n",
        "### second argument of reshape command is a tuple of integers: (n_rows, n_columns)\n",
        "### by convention, n_rows is the number of data points\n",
        "### and n_columns is the number of features"
      ]
    },
    {
      "cell_type": "code",
      "metadata": {
        "id": "mWHbt3ijBAvk",
        "colab_type": "code",
        "colab": {}
      },
      "source": [
        "ages       = numpy.reshape( numpy.array(ages), (len(ages), 1))\n",
        "net_worths = numpy.reshape( numpy.array(net_worths), (len(net_worths), 1))\n",
        "\n",
        "from sklearn.model_selection import train_test_split\n",
        "\n",
        "ages_train, ages_test, net_worths_train, net_worths_test = train_test_split(ages, net_worths, test_size=0.1, random_state=42)"
      ],
      "execution_count": 0,
      "outputs": []
    },
    {
      "cell_type": "markdown",
      "metadata": {
        "id": "cJ57gXywBOUo",
        "colab_type": "text"
      },
      "source": [
        "### fill in a regression here!  Name the regression object reg so that\n",
        "### the plotting code below works, and you can see what your regression looks like"
      ]
    },
    {
      "cell_type": "code",
      "metadata": {
        "id": "LqwETm8EBPM3",
        "colab_type": "code",
        "colab": {}
      },
      "source": [
        ""
      ],
      "execution_count": 0,
      "outputs": []
    },
    {
      "cell_type": "code",
      "metadata": {
        "id": "c4Zs0HZWBSiI",
        "colab_type": "code",
        "colab": {}
      },
      "source": [
        "try:\n",
        "    plt.plot(ages, reg.predict(ages), color=\"blue\")\n",
        "except NameError:\n",
        "    pass\n",
        "plt.scatter(ages, net_worths)\n",
        "plt.show()"
      ],
      "execution_count": 0,
      "outputs": []
    },
    {
      "cell_type": "markdown",
      "metadata": {
        "id": "8x3paPbKBPnw",
        "colab_type": "text"
      },
      "source": [
        "### identify and remove the most outlier-y points"
      ]
    },
    {
      "cell_type": "code",
      "metadata": {
        "id": "6Y1ADxX1BYG8",
        "colab_type": "code",
        "colab": {}
      },
      "source": [
        "cleaned_data = []\n",
        "try:\n",
        "    predictions = reg.predict(ages_train)\n",
        "    cleaned_data = outlierCleaner( predictions, ages_train, net_worths_train )\n",
        "except NameError:\n",
        "    print \"your regression object doesn't exist, or isn't name reg\"\n",
        "    print \"can't make predictions to use in identifying outliers\""
      ],
      "execution_count": 0,
      "outputs": []
    },
    {
      "cell_type": "markdown",
      "metadata": {
        "id": "NhKYbEMfBdRj",
        "colab_type": "text"
      },
      "source": [
        "### only run this code if cleaned_data is returning data"
      ]
    },
    {
      "cell_type": "code",
      "metadata": {
        "id": "evafWJbyBeDi",
        "colab_type": "code",
        "colab": {}
      },
      "source": [
        "if len(cleaned_data) > 0:\n",
        "    ages, net_worths, errors = zip(*cleaned_data)\n",
        "    ages       = numpy.reshape( numpy.array(ages), (len(ages), 1))\n",
        "    net_worths = numpy.reshape( numpy.array(net_worths), (len(net_worths), 1))\n",
        "\n",
        "    ### refit your cleaned data!\n",
        "    try:\n",
        "        reg.fit(ages, net_worths)\n",
        "        plt.plot(ages, reg.predict(ages), color=\"blue\")\n",
        "    except NameError:\n",
        "        print \"you don't seem to have regression imported/created,\"\n",
        "        print \"   or else your regression object isn't named reg\"\n",
        "        print \"   either way, only draw the scatter plot of the cleaned data\"\n",
        "    plt.scatter(ages, net_worths)\n",
        "    plt.xlabel(\"ages\")\n",
        "    plt.ylabel(\"net worths\")\n",
        "    plt.show()\n",
        "\n",
        "\n",
        "else:\n",
        "    print \"outlierCleaner() is returning an empty list, no refitting to be done\""
      ],
      "execution_count": 0,
      "outputs": []
    }
  ]
}