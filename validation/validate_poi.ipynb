{
  "nbformat": 4,
  "nbformat_minor": 0,
  "metadata": {
    "colab": {
      "name": "validate_poi.ipynb",
      "provenance": [],
      "include_colab_link": true
    },
    "kernelspec": {
      "name": "python2",
      "display_name": "Python 2"
    }
  },
  "cells": [
    {
      "cell_type": "markdown",
      "metadata": {
        "id": "view-in-github",
        "colab_type": "text"
      },
      "source": [
        "<a href=\"https://colab.research.google.com/github/aicharya/ud120-projects/blob/master/validation/validate_poi.ipynb\" target=\"_parent\"><img src=\"https://colab.research.google.com/assets/colab-badge.svg\" alt=\"Open In Colab\"/></a>"
      ]
    },
    {
      "cell_type": "code",
      "metadata": {
        "id": "2-n55oL7MyeU",
        "colab_type": "code",
        "colab": {
          "base_uri": "https://localhost:8080/",
          "height": 163
        },
        "outputId": "23736772-76b2-442d-b5c0-d660a1c7e560"
      },
      "source": [
        "!git clone https://github.com/aicharya/ud120-projects.git"
      ],
      "execution_count": 1,
      "outputs": [
        {
          "output_type": "stream",
          "text": [
            "Cloning into 'ud120-projects'...\n",
            "remote: Enumerating objects: 67, done.\u001b[K\n",
            "remote: Counting objects: 100% (67/67), done.\u001b[K\n",
            "remote: Compressing objects: 100% (67/67), done.\u001b[K\n",
            "remote: Total 5388 (delta 38), reused 0 (delta 0), pack-reused 5321\u001b[K\n",
            "Receiving objects: 100% (5388/5388), 20.11 MiB | 19.25 MiB/s, done.\n",
            "Resolving deltas: 100% (4580/4580), done.\n",
            "Checking out files: 100% (4728/4728), done.\n"
          ],
          "name": "stdout"
        }
      ]
    },
    {
      "cell_type": "markdown",
      "metadata": {
        "id": "GgCUytyZM9dx",
        "colab_type": "text"
      },
      "source": [
        "\n",
        "\n",
        "```\n",
        "    Starter code for the validation mini-project.\n",
        "    The first step toward building your POI identifier!\n",
        "    Start by loading/formatting the data\n",
        "    After that, it's not our code anymore--it's yours!\n",
        "```\n",
        "\n"
      ]
    },
    {
      "cell_type": "code",
      "metadata": {
        "id": "HRU3g_jRNy-s",
        "colab_type": "code",
        "colab": {
          "base_uri": "https://localhost:8080/",
          "height": 35
        },
        "outputId": "62965ea7-f26e-4b2d-ac1f-c399dd0be643"
      },
      "source": [
        "import os\n",
        "os.chdir('ud120-projects/validation')\n",
        "os.listdir(os.getcwd())"
      ],
      "execution_count": 2,
      "outputs": [
        {
          "output_type": "execute_result",
          "data": {
            "text/plain": [
              "['validate_poi.py']"
            ]
          },
          "metadata": {
            "tags": []
          },
          "execution_count": 2
        }
      ]
    },
    {
      "cell_type": "code",
      "metadata": {
        "id": "YpNpKKgOM-oS",
        "colab_type": "code",
        "colab": {}
      },
      "source": [
        "import pickle\n",
        "import sys\n",
        "sys.path.append(\"../tools/\")\n",
        "from feature_format import featureFormat, targetFeatureSplit\n",
        "\n",
        "data_dict = pickle.load(open(\"../final_project/final_project_dataset.pkl\", \"r\") )"
      ],
      "execution_count": 0,
      "outputs": []
    },
    {
      "cell_type": "markdown",
      "metadata": {
        "id": "6hC6CvKBOkRM",
        "colab_type": "text"
      },
      "source": [
        "\n",
        "\n",
        "```\n",
        "### first element is our labels, any added elements are predictor\n",
        "### features. Keep this the same for the mini-project, but you'll\n",
        "### have a different feature list when you do the final project.\n",
        "```\n",
        "\n"
      ]
    },
    {
      "cell_type": "code",
      "metadata": {
        "id": "pNhsfcTMOl1n",
        "colab_type": "code",
        "colab": {}
      },
      "source": [
        "features_list = [\"poi\", \"salary\"]\n",
        "\n",
        "data = featureFormat(data_dict, features_list)\n",
        "labels, features = targetFeatureSplit(data)\n"
      ],
      "execution_count": 0,
      "outputs": []
    },
    {
      "cell_type": "markdown",
      "metadata": {
        "id": "YQIdZJMGOqTR",
        "colab_type": "text"
      },
      "source": [
        "\n",
        "\n",
        "```\n",
        "### it's all yours from here forward!  \n",
        "```\n",
        "\n"
      ]
    },
    {
      "cell_type": "code",
      "metadata": {
        "id": "dVeywrbqREJE",
        "colab_type": "code",
        "colab": {
          "base_uri": "https://localhost:8080/",
          "height": 35
        },
        "outputId": "583ec678-36b1-49fe-fe07-2a76bdb2e740"
      },
      "source": [
        "from time import time\n",
        "from sklearn import tree\n",
        "from sklearn.metrics import accuracy_score\n",
        "\n",
        "clf = tree.DecisionTreeClassifier()\n",
        "\n",
        "t0 = time()\n",
        "clf = clf.fit(features, labels)\n",
        "t1 = time()\n",
        "labels_pred = clf.predict(features)\n",
        "t2 = time()\n",
        "\n",
        "score = accuracy_score(labels, labels_pred, normalize=True)\n",
        "score"
      ],
      "execution_count": 6,
      "outputs": [
        {
          "output_type": "execute_result",
          "data": {
            "text/plain": [
              "0.9894736842105263"
            ]
          },
          "metadata": {
            "tags": []
          },
          "execution_count": 6
        }
      ]
    },
    {
      "cell_type": "markdown",
      "metadata": {
        "id": "_aQIxcUHTADG",
        "colab_type": "text"
      },
      "source": [
        "\n",
        "\n",
        "```\n",
        "Use the train_test_split validation available in sklearn.cross_validation; hold out 30% of the data for testing and set the random_state parameter to 42\n",
        "```\n",
        "\n"
      ]
    },
    {
      "cell_type": "code",
      "metadata": {
        "id": "wS2HNM4FTA18",
        "colab_type": "code",
        "colab": {
          "base_uri": "https://localhost:8080/",
          "height": 35
        },
        "outputId": "415b164c-7e3a-4412-819a-3572c6521dc0"
      },
      "source": [
        "from sklearn.model_selection import train_test_split\n",
        "features_train, features_test, labels_train, labels_test = train_test_split(features, labels, test_size=0.3, random_state=42)\n",
        "\n",
        "from time import time\n",
        "from sklearn import tree\n",
        "from sklearn.metrics import accuracy_score\n",
        "\n",
        "clf = tree.DecisionTreeClassifier()\n",
        "\n",
        "t0 = time()\n",
        "clf = clf.fit(features_train, labels_train)\n",
        "t1 = time()\n",
        "labels_pred = clf.predict(features_test)\n",
        "t2 = time()\n",
        "\n",
        "score = accuracy_score(labels_test, labels_pred, normalize=True)\n",
        "score\n"
      ],
      "execution_count": 7,
      "outputs": [
        {
          "output_type": "execute_result",
          "data": {
            "text/plain": [
              "0.7241379310344828"
            ]
          },
          "metadata": {
            "tags": []
          },
          "execution_count": 7
        }
      ]
    }
  ]
}