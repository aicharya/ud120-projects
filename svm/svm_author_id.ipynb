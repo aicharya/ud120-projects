{
  "nbformat": 4,
  "nbformat_minor": 0,
  "metadata": {
    "colab": {
      "name": "svm_author_id.ipynb",
      "version": "0.3.2",
      "provenance": [],
      "include_colab_link": true
    },
    "kernelspec": {
      "name": "python2",
      "display_name": "Python 2"
    }
  },
  "cells": [
    {
      "cell_type": "markdown",
      "metadata": {
        "id": "view-in-github",
        "colab_type": "text"
      },
      "source": [
        "<a href=\"https://colab.research.google.com/github/aicharya/ud120-projects/blob/master/svm/svm_author_id.ipynb\" target=\"_parent\"><img src=\"https://colab.research.google.com/assets/colab-badge.svg\" alt=\"Open In Colab\"/></a>"
      ]
    },
    {
      "cell_type": "code",
      "metadata": {
        "id": "p3r2zCjfh6DM",
        "colab_type": "code",
        "outputId": "59cd0d25-c710-414b-90f9-40ac535e409a",
        "colab": {
          "base_uri": "https://localhost:8080/",
          "height": 145
        }
      },
      "source": [
        "!git clone https://github.com/aicharya/ud120-projects.git"
      ],
      "execution_count": 1,
      "outputs": [
        {
          "output_type": "stream",
          "text": [
            "Cloning into 'ud120-projects'...\n",
            "remote: Enumerating objects: 38, done.\u001b[K\n",
            "remote: Counting objects: 100% (38/38), done.\u001b[K\n",
            "remote: Compressing objects: 100% (38/38), done.\u001b[K\n",
            "remote: Total 5084 (delta 16), reused 0 (delta 0), pack-reused 5046\u001b[K\n",
            "Receiving objects: 100% (5084/5084), 19.65 MiB | 19.69 MiB/s, done.\n",
            "Resolving deltas: 100% (4388/4388), done.\n"
          ],
          "name": "stdout"
        }
      ]
    },
    {
      "cell_type": "code",
      "metadata": {
        "id": "PUuF4tq7inr6",
        "colab_type": "code",
        "outputId": "a9baf409-ed1f-4a62-9a45-00caf3f610e8",
        "colab": {
          "base_uri": "https://localhost:8080/",
          "height": 35
        }
      },
      "source": [
        "import os\n",
        "\n",
        "os.listdir(os.getcwd())"
      ],
      "execution_count": 2,
      "outputs": [
        {
          "output_type": "execute_result",
          "data": {
            "text/plain": [
              "['.config', 'ud120-projects', 'sample_data']"
            ]
          },
          "metadata": {
            "tags": []
          },
          "execution_count": 2
        }
      ]
    },
    {
      "cell_type": "code",
      "metadata": {
        "id": "tvSi0ak2irwf",
        "colab_type": "code",
        "colab": {}
      },
      "source": [
        "os.chdir('ud120-projects')"
      ],
      "execution_count": 0,
      "outputs": []
    },
    {
      "cell_type": "code",
      "metadata": {
        "id": "v3nl4eEAivc_",
        "colab_type": "code",
        "outputId": "4bdccdd9-0467-4937-b624-46a2226be04e",
        "colab": {
          "base_uri": "https://localhost:8080/",
          "height": 35
        }
      },
      "source": [
        "\n",
        "os.getcwd()"
      ],
      "execution_count": 4,
      "outputs": [
        {
          "output_type": "execute_result",
          "data": {
            "text/plain": [
              "'/content/ud120-projects'"
            ]
          },
          "metadata": {
            "tags": []
          },
          "execution_count": 4
        }
      ]
    },
    {
      "cell_type": "code",
      "metadata": {
        "id": "0t-IfmQCiyUu",
        "colab_type": "code",
        "outputId": "1d227e83-0277-462f-dd25-1dbb4266a3f8",
        "colab": {
          "base_uri": "https://localhost:8080/",
          "height": 363
        }
      },
      "source": [
        "os.listdir(os.getcwd())"
      ],
      "execution_count": 5,
      "outputs": [
        {
          "output_type": "execute_result",
          "data": {
            "text/plain": [
              "['choose_your_own',\n",
              " 'pca',\n",
              " 'naive_bayes',\n",
              " 'svm',\n",
              " 'requirements.txt',\n",
              " 'validation',\n",
              " 'decision_tree',\n",
              " 'k_means',\n",
              " 'feature_selection',\n",
              " 'outliers',\n",
              " 'tools',\n",
              " 'datasets_questions',\n",
              " '.git',\n",
              " 'evaluation',\n",
              " 'text_learning',\n",
              " '.gitignore',\n",
              " 'final_project',\n",
              " 'README.md',\n",
              " 'regression']"
            ]
          },
          "metadata": {
            "tags": []
          },
          "execution_count": 5
        }
      ]
    },
    {
      "cell_type": "code",
      "metadata": {
        "id": "V7Y4hv3Xi4AZ",
        "colab_type": "code",
        "colab": {}
      },
      "source": [
        "os.chdir('svm')"
      ],
      "execution_count": 0,
      "outputs": []
    },
    {
      "cell_type": "code",
      "metadata": {
        "id": "MCy90quXi8nh",
        "colab_type": "code",
        "outputId": "48f8c2a2-fc89-4a01-e172-0781789b8544",
        "colab": {
          "base_uri": "https://localhost:8080/",
          "height": 35
        }
      },
      "source": [
        "os.listdir(os.getcwd())"
      ],
      "execution_count": 7,
      "outputs": [
        {
          "output_type": "execute_result",
          "data": {
            "text/plain": [
              "['svm_author_id.py', 'svm_author_id.ipynb']"
            ]
          },
          "metadata": {
            "tags": []
          },
          "execution_count": 7
        }
      ]
    },
    {
      "cell_type": "code",
      "metadata": {
        "id": "UvbsZYTRjAlC",
        "colab_type": "code",
        "colab": {}
      },
      "source": [
        "import sys\n",
        "sys.path.append('../tools')"
      ],
      "execution_count": 0,
      "outputs": []
    },
    {
      "cell_type": "code",
      "metadata": {
        "id": "hxMS2xe0jDuV",
        "colab_type": "code",
        "colab": {}
      },
      "source": [
        "from time import time\n",
        "from email_preprocess import preprocess"
      ],
      "execution_count": 0,
      "outputs": []
    },
    {
      "cell_type": "markdown",
      "metadata": {
        "id": "90seaairjKYH",
        "colab_type": "text"
      },
      "source": [
        "### features_train and features_test are the features for the training\n",
        "### and testing datasets, respectively\n",
        "### labels_train and labels_test are the corresponding item labels\n"
      ]
    },
    {
      "cell_type": "code",
      "metadata": {
        "id": "GuimovsyjMlt",
        "colab_type": "code",
        "outputId": "244aca5a-b906-4d63-c13a-1cc59c8823b8",
        "colab": {
          "base_uri": "https://localhost:8080/",
          "height": 54
        }
      },
      "source": [
        "features_train, features_test, labels_train, labels_test = preprocess()"
      ],
      "execution_count": 10,
      "outputs": [
        {
          "output_type": "stream",
          "text": [
            "no. of Chris training emails: 7936\n",
            "no. of Sara training emails: 7884\n"
          ],
          "name": "stdout"
        }
      ]
    },
    {
      "cell_type": "markdown",
      "metadata": {
        "id": "CT06PkILt2eE",
        "colab_type": "text"
      },
      "source": [
        "#SVM with linear kernel"
      ]
    },
    {
      "cell_type": "code",
      "metadata": {
        "id": "p97SzuLXjrqq",
        "colab_type": "code",
        "colab": {}
      },
      "source": [
        "from sklearn.metrics import accuracy_score\n",
        "from sklearn.svm import SVC\n",
        "\n",
        "clf = SVC(kernel='linear', gamma='auto')\n",
        "\n",
        "t0 = time()\n",
        "model = clf.fit(features_train, labels_train)\n",
        "t1 = time()\n",
        "labels_pred = model.predict(features_test)\n",
        "t2 = time()\n",
        "score = accuracy_score(labels_test, labels_pred, normalize=True)\n"
      ],
      "execution_count": 0,
      "outputs": []
    },
    {
      "cell_type": "code",
      "metadata": {
        "id": "Owk83bcFjzXW",
        "colab_type": "code",
        "outputId": "d0b441a8-eeb1-4809-8556-46de27a2d023",
        "colab": {
          "base_uri": "https://localhost:8080/",
          "height": 72
        }
      },
      "source": [
        "print \"training time:\", round(t1-t0, 3), \"s\"\n",
        "print \"testing time:\", round(t2-t1, 3), \"s\"\n",
        "print \"score {}\".format(score)"
      ],
      "execution_count": 12,
      "outputs": [
        {
          "output_type": "stream",
          "text": [
            "training time: 191.114 s\n",
            "testing time: 20.321 s\n",
            "score 0.984072810011\n"
          ],
          "name": "stdout"
        }
      ]
    },
    {
      "cell_type": "markdown",
      "metadata": {
        "id": "7ho8IoGitLrt",
        "colab_type": "text"
      },
      "source": [
        "# Scaling the dataset down to 1%"
      ]
    },
    {
      "cell_type": "code",
      "metadata": {
        "id": "jFE_ZiD2todS",
        "colab_type": "code",
        "colab": {}
      },
      "source": [
        "features_train = features_train[:len(features_train)/100]\n",
        "labels_train = labels_train[:len(labels_train)/100]"
      ],
      "execution_count": 0,
      "outputs": []
    },
    {
      "cell_type": "code",
      "metadata": {
        "id": "62qCno7xtAfS",
        "colab_type": "code",
        "colab": {}
      },
      "source": [
        "t0 = time()\n",
        "model = clf.fit(features_train, labels_train)\n",
        "t1 = time()\n",
        "labels_pred = model.predict(features_test)\n",
        "t2 = time()\n",
        "score = accuracy_score(labels_test, labels_pred, normalize=True)\n"
      ],
      "execution_count": 0,
      "outputs": []
    },
    {
      "cell_type": "code",
      "metadata": {
        "id": "8vuc983EtInt",
        "colab_type": "code",
        "outputId": "38c66443-0394-4d57-bb4f-58b683e0069a",
        "colab": {
          "base_uri": "https://localhost:8080/",
          "height": 72
        }
      },
      "source": [
        "print \"training time:\", round(t1-t0, 3), \"s\"\n",
        "print \"testing time:\", round(t2-t1, 3), \"s\"\n",
        "print \"score {}\".format(score)"
      ],
      "execution_count": 0,
      "outputs": [
        {
          "output_type": "stream",
          "text": [
            "training time: 0.143 s\n",
            "testing time: 1.44 s\n",
            "score 0.884527872582\n"
          ],
          "name": "stdout"
        }
      ]
    },
    {
      "cell_type": "markdown",
      "metadata": {
        "id": "VcbRNiBTtvH2",
        "colab_type": "text"
      },
      "source": [
        "# SVM with rbf kernel"
      ]
    },
    {
      "cell_type": "code",
      "metadata": {
        "id": "ZVrLOSiXtybs",
        "colab_type": "code",
        "outputId": "c1b57642-5f63-4d0e-bb96-63ba3a1cd3ac",
        "colab": {
          "base_uri": "https://localhost:8080/",
          "height": 72
        }
      },
      "source": [
        "clf = SVC(kernel='rbf', gamma='auto')\n",
        "\n",
        "t0 = time()\n",
        "model = clf.fit(features_train, labels_train)\n",
        "t1 = time()\n",
        "labels_pred = model.predict(features_test)\n",
        "t2 = time()\n",
        "score = accuracy_score(labels_test, labels_pred, normalize=True)\n",
        "print \"training time:\", round(t1-t0, 3), \"s\"\n",
        "print \"testing time:\", round(t2-t1, 3), \"s\"\n",
        "print \"score {}\".format(score)"
      ],
      "execution_count": 0,
      "outputs": [
        {
          "output_type": "stream",
          "text": [
            "training time: 0.151 s\n",
            "testing time: 1.615 s\n",
            "score 0.616040955631\n"
          ],
          "name": "stdout"
        }
      ]
    },
    {
      "cell_type": "markdown",
      "metadata": {
        "id": "ffhDKO_6uc73",
        "colab_type": "text"
      },
      "source": [
        "# SVM with kernel='rbf'\n",
        "# C = 10, 100, 1000, 10000"
      ]
    },
    {
      "cell_type": "code",
      "metadata": {
        "id": "NlxhXOxCuGlX",
        "colab_type": "code",
        "outputId": "7db858ed-f81a-4692-856b-18cccae85b63",
        "colab": {
          "base_uri": "https://localhost:8080/",
          "height": 72
        }
      },
      "source": [
        "clf = SVC(kernel='rbf', C=10, gamma='auto')\n",
        "\n",
        "t0 = time()\n",
        "model = clf.fit(features_train, labels_train)\n",
        "t1 = time()\n",
        "labels_pred = model.predict(features_test)\n",
        "t2 = time()\n",
        "score = accuracy_score(labels_test, labels_pred, normalize=True)\n",
        "print \"training time:\", round(t1-t0, 3), \"s\"\n",
        "print \"testing time:\", round(t2-t1, 3), \"s\"\n",
        "print \"score {}\".format(score)"
      ],
      "execution_count": 0,
      "outputs": [
        {
          "output_type": "stream",
          "text": [
            "training time: 0.154 s\n",
            "testing time: 1.614 s\n",
            "score 0.616040955631\n"
          ],
          "name": "stdout"
        }
      ]
    },
    {
      "cell_type": "code",
      "metadata": {
        "id": "YA1ZtE3vu0LS",
        "colab_type": "code",
        "outputId": "6cf66455-8d0a-4156-93d2-62a22b939667",
        "colab": {
          "base_uri": "https://localhost:8080/",
          "height": 72
        }
      },
      "source": [
        "clf = SVC(kernel='rbf', C=100, gamma='auto')\n",
        "\n",
        "t0 = time()\n",
        "model = clf.fit(features_train, labels_train)\n",
        "t1 = time()\n",
        "labels_pred = model.predict(features_test)\n",
        "t2 = time()\n",
        "score = accuracy_score(labels_test, labels_pred, normalize=True)\n",
        "print \"training time:\", round(t1-t0, 3), \"s\"\n",
        "print \"testing time:\", round(t2-t1, 3), \"s\"\n",
        "print \"score {}\".format(score)"
      ],
      "execution_count": 0,
      "outputs": [
        {
          "output_type": "stream",
          "text": [
            "training time: 0.156 s\n",
            "testing time: 1.628 s\n",
            "score 0.616040955631\n"
          ],
          "name": "stdout"
        }
      ]
    },
    {
      "cell_type": "code",
      "metadata": {
        "id": "_uEgoAeUu_E6",
        "colab_type": "code",
        "outputId": "d7b82bf3-1c0e-49d8-c984-50ae24f051f7",
        "colab": {
          "base_uri": "https://localhost:8080/",
          "height": 72
        }
      },
      "source": [
        "clf = SVC(kernel='rbf', C=1000, gamma='auto')\n",
        "\n",
        "t0 = time()\n",
        "model = clf.fit(features_train, labels_train)\n",
        "t1 = time()\n",
        "labels_pred = model.predict(features_test)\n",
        "t2 = time()\n",
        "score = accuracy_score(labels_test, labels_pred, normalize=True)\n",
        "print \"training time:\", round(t1-t0, 3), \"s\"\n",
        "print \"testing time:\", round(t2-t1, 3), \"s\"\n",
        "print \"score {}\".format(score)"
      ],
      "execution_count": 0,
      "outputs": [
        {
          "output_type": "stream",
          "text": [
            "training time: 0.147 s\n",
            "testing time: 1.542 s\n",
            "score 0.821387940842\n"
          ],
          "name": "stdout"
        }
      ]
    },
    {
      "cell_type": "code",
      "metadata": {
        "id": "V6lUvTlDvFv9",
        "colab_type": "code",
        "outputId": "1fba145d-c589-44e2-d9c3-bd55fd8b9e75",
        "colab": {
          "base_uri": "https://localhost:8080/",
          "height": 72
        }
      },
      "source": [
        "clf = SVC(kernel='rbf', C=10000, gamma='auto')\n",
        "\n",
        "t0 = time()\n",
        "model = clf.fit(features_train, labels_train)\n",
        "t1 = time()\n",
        "labels_pred = model.predict(features_test)\n",
        "t2 = time()\n",
        "score = accuracy_score(labels_test, labels_pred, normalize=True)\n",
        "print \"training time:\", round(t1-t0, 3), \"s\"\n",
        "print \"testing time:\", round(t2-t1, 3), \"s\"\n",
        "print \"score {}\".format(score)"
      ],
      "execution_count": 0,
      "outputs": [
        {
          "output_type": "stream",
          "text": [
            "training time: 0.145 s\n",
            "testing time: 1.297 s\n",
            "score 0.892491467577\n"
          ],
          "name": "stdout"
        }
      ]
    },
    {
      "cell_type": "markdown",
      "metadata": {
        "id": "fWDvpv7nw6CJ",
        "colab_type": "text"
      },
      "source": [
        "# Try the optimized C value on entire data set"
      ]
    },
    {
      "cell_type": "code",
      "metadata": {
        "id": "UHMJDz_nw-m6",
        "colab_type": "code",
        "outputId": "2899c709-c74c-4dc8-976d-347a33f259c1",
        "colab": {
          "base_uri": "https://localhost:8080/",
          "height": 108
        }
      },
      "source": [
        "features_train, features_test, labels_train, labels_test = preprocess()\n",
        "\n",
        "clf = SVC(kernel='rbf', C=10000, gamma='auto')\n",
        "\n",
        "t0 = time()\n",
        "model = clf.fit(features_train, labels_train)\n",
        "t1 = time()\n",
        "labels_pred = model.predict(features_test)\n",
        "t2 = time()\n",
        "score = accuracy_score(labels_test, labels_pred, normalize=True)\n",
        "print \"training time:\", round(t1-t0, 3), \"s\"\n",
        "print \"testing time:\", round(t2-t1, 3), \"s\"\n",
        "print \"score {}\".format(score)"
      ],
      "execution_count": 0,
      "outputs": [
        {
          "output_type": "stream",
          "text": [
            "no. of Chris training emails: 7936\n",
            "no. of Sara training emails: 7884\n",
            "training time: 172.431 s\n",
            "testing time: 17.401 s\n",
            "score 0.990898748578\n"
          ],
          "name": "stdout"
        }
      ]
    },
    {
      "cell_type": "code",
      "metadata": {
        "id": "Xjaw_Q23zFU-",
        "colab_type": "code",
        "outputId": "8e48e5b6-105d-45ee-9f58-c2c8e1ff9d28",
        "colab": {
          "base_uri": "https://localhost:8080/",
          "height": 35
        }
      },
      "source": [
        "labels_pred[10]\n"
      ],
      "execution_count": 0,
      "outputs": [
        {
          "output_type": "execute_result",
          "data": {
            "text/plain": [
              "1"
            ]
          },
          "metadata": {
            "tags": []
          },
          "execution_count": 25
        }
      ]
    },
    {
      "cell_type": "code",
      "metadata": {
        "id": "ro_AwQZdzXCs",
        "colab_type": "code",
        "outputId": "84995522-f935-4d77-d6d0-1bdddb8299d6",
        "colab": {
          "base_uri": "https://localhost:8080/",
          "height": 35
        }
      },
      "source": [
        "labels_pred[26]"
      ],
      "execution_count": 0,
      "outputs": [
        {
          "output_type": "execute_result",
          "data": {
            "text/plain": [
              "0"
            ]
          },
          "metadata": {
            "tags": []
          },
          "execution_count": 26
        }
      ]
    },
    {
      "cell_type": "code",
      "metadata": {
        "id": "6s-Py8YXzYgq",
        "colab_type": "code",
        "outputId": "ad594983-e9be-4048-8caf-00a0478e93a5",
        "colab": {
          "base_uri": "https://localhost:8080/",
          "height": 35
        }
      },
      "source": [
        "labels_pred[50]"
      ],
      "execution_count": 0,
      "outputs": [
        {
          "output_type": "execute_result",
          "data": {
            "text/plain": [
              "1"
            ]
          },
          "metadata": {
            "tags": []
          },
          "execution_count": 27
        }
      ]
    },
    {
      "cell_type": "code",
      "metadata": {
        "id": "2KkV5Sfe0K0i",
        "colab_type": "code",
        "outputId": "eac3cbb9-1f97-4210-ebcb-ed2978ea7635",
        "colab": {
          "base_uri": "https://localhost:8080/",
          "height": 35
        }
      },
      "source": [
        "labels_pred"
      ],
      "execution_count": 0,
      "outputs": [
        {
          "output_type": "execute_result",
          "data": {
            "text/plain": [
              "array([0, 0, 1, ..., 1, 0, 0])"
            ]
          },
          "metadata": {
            "tags": []
          },
          "execution_count": 28
        }
      ]
    },
    {
      "cell_type": "code",
      "metadata": {
        "id": "EUovUuis0oOn",
        "colab_type": "code",
        "outputId": "7f7d7b9a-5c69-4515-f6df-f9437aa55e5b",
        "colab": {
          "base_uri": "https://localhost:8080/",
          "height": 35
        }
      },
      "source": [
        "import numpy as np\n",
        "unique, counts = np.unique(labels_pred, return_counts=True)\n",
        "dict(zip(unique, counts))"
      ],
      "execution_count": 0,
      "outputs": [
        {
          "output_type": "execute_result",
          "data": {
            "text/plain": [
              "{0: 881, 1: 877}"
            ]
          },
          "metadata": {
            "tags": []
          },
          "execution_count": 30
        }
      ]
    }
  ]
}