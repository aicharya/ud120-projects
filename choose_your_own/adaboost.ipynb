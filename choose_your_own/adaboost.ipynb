{
  "nbformat": 4,
  "nbformat_minor": 0,
  "metadata": {
    "colab": {
      "name": "adaboost.ipynb",
      "version": "0.3.2",
      "provenance": [],
      "include_colab_link": true
    },
    "kernelspec": {
      "name": "python2",
      "display_name": "Python 2"
    }
  },
  "cells": [
    {
      "cell_type": "markdown",
      "metadata": {
        "id": "view-in-github",
        "colab_type": "text"
      },
      "source": [
        "<a href=\"https://colab.research.google.com/github/aicharya/ud120-projects/blob/master/choose_your_own/adaboost.ipynb\" target=\"_parent\"><img src=\"https://colab.research.google.com/assets/colab-badge.svg\" alt=\"Open In Colab\"/></a>"
      ]
    },
    {
      "cell_type": "code",
      "metadata": {
        "id": "U0zVwA3gRV-W",
        "colab_type": "code",
        "colab": {}
      },
      "source": [
        "!git clone https://github.com/aicharya/ud120-projects.git"
      ],
      "execution_count": 0,
      "outputs": []
    },
    {
      "cell_type": "code",
      "metadata": {
        "id": "ccERB3t-YU0y",
        "colab_type": "code",
        "colab": {}
      },
      "source": [
        "import os\n",
        "\n",
        "#os.listdir(os.getcwd())\n",
        "os.chdir('ud120-projects/choose_your_own')"
      ],
      "execution_count": 0,
      "outputs": []
    },
    {
      "cell_type": "code",
      "metadata": {
        "id": "OfZ0OlRaYeS8",
        "colab_type": "code",
        "colab": {}
      },
      "source": [
        "os.getcwd()"
      ],
      "execution_count": 0,
      "outputs": []
    },
    {
      "cell_type": "code",
      "metadata": {
        "id": "UEAtzNDxYh7o",
        "colab_type": "code",
        "colab": {}
      },
      "source": [
        "os.listdir(os.getcwd())"
      ],
      "execution_count": 0,
      "outputs": []
    },
    {
      "cell_type": "code",
      "metadata": {
        "id": "AycXAORyYo9v",
        "colab_type": "code",
        "colab": {}
      },
      "source": [
        "import matplotlib.pyplot as plt\n",
        "from prep_terrain_data import makeTerrainData\n",
        "from class_vis import prettyPicture"
      ],
      "execution_count": 0,
      "outputs": []
    },
    {
      "cell_type": "code",
      "metadata": {
        "id": "ZHTnY6hKYsxL",
        "colab_type": "code",
        "colab": {}
      },
      "source": [
        "features_train, labels_train, features_test, labels_test = makeTerrainData()"
      ],
      "execution_count": 0,
      "outputs": []
    },
    {
      "cell_type": "markdown",
      "metadata": {
        "id": "7XNkeNWWYxGC",
        "colab_type": "text"
      },
      "source": [
        "### the training data (features_train, labels_train) have both \"fast\" and \"slow\"\n",
        "### points mixed together--separate them so we can give them different colors\n",
        "### in the scatterplot and identify them visually"
      ]
    },
    {
      "cell_type": "code",
      "metadata": {
        "id": "cBQGT1DgY1aT",
        "colab_type": "code",
        "colab": {}
      },
      "source": [
        "grade_fast = [features_train[ii][0] for ii in range(0, len(features_train)) if labels_train[ii]==0]\n",
        "bumpy_fast = [features_train[ii][1] for ii in range(0, len(features_train)) if labels_train[ii]==0]\n",
        "grade_slow = [features_train[ii][0] for ii in range(0, len(features_train)) if labels_train[ii]==1]\n",
        "bumpy_slow = [features_train[ii][1] for ii in range(0, len(features_train)) if labels_train[ii]==1]"
      ],
      "execution_count": 0,
      "outputs": []
    },
    {
      "cell_type": "code",
      "metadata": {
        "id": "354HTAr9ZN2A",
        "colab_type": "code",
        "colab": {}
      },
      "source": [
        "#### initial visualization\n",
        "plt.xlim(0.0, 1.0)\n",
        "plt.ylim(0.0, 1.0)\n",
        "plt.scatter(bumpy_fast, grade_fast, color = \"b\", label=\"fast\")\n",
        "plt.scatter(grade_slow, bumpy_slow, color = \"r\", label=\"slow\")\n",
        "plt.legend()\n",
        "plt.xlabel(\"bumpiness\")\n",
        "plt.ylabel(\"grade\")\n",
        "plt.show()"
      ],
      "execution_count": 0,
      "outputs": []
    },
    {
      "cell_type": "markdown",
      "metadata": {
        "id": "GMMWwMwOZge8",
        "colab_type": "text"
      },
      "source": [
        "#The adaboost classifier"
      ]
    },
    {
      "cell_type": "code",
      "metadata": {
        "id": "h1e0z9HDZjDT",
        "colab_type": "code",
        "colab": {}
      },
      "source": [
        ""
      ],
      "execution_count": 0,
      "outputs": []
    },
    {
      "cell_type": "markdown",
      "metadata": {
        "id": "X3PoBjuGZjbx",
        "colab_type": "text"
      },
      "source": [
        "# Visualize the classes"
      ]
    },
    {
      "cell_type": "code",
      "metadata": {
        "id": "YAAbHHPHZmnp",
        "colab_type": "code",
        "colab": {}
      },
      "source": [
        "try:\n",
        "    prettyPicture(clf, features_test, labels_test)\n",
        "except NameError:\n",
        "    pass"
      ],
      "execution_count": 0,
      "outputs": []
    }
  ]
}