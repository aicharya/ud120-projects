{
  "nbformat": 4,
  "nbformat_minor": 0,
  "metadata": {
    "colab": {
      "name": "adaboost.ipynb",
      "version": "0.3.2",
      "provenance": [],
      "include_colab_link": true
    },
    "kernelspec": {
      "name": "python2",
      "display_name": "Python 2"
    }
  },
  "cells": [
    {
      "cell_type": "markdown",
      "metadata": {
        "id": "view-in-github",
        "colab_type": "text"
      },
      "source": [
        "<a href=\"https://colab.research.google.com/github/aicharya/ud120-projects/blob/master/choose_your_own/adaboost.ipynb\" target=\"_parent\"><img src=\"https://colab.research.google.com/assets/colab-badge.svg\" alt=\"Open In Colab\"/></a>"
      ]
    },
    {
      "cell_type": "code",
      "metadata": {
        "id": "U0zVwA3gRV-W",
        "colab_type": "code",
        "colab": {
          "base_uri": "https://localhost:8080/",
          "height": 145
        },
        "outputId": "1851e8fa-8a70-422b-82d1-1ecacfd6e667"
      },
      "source": [
        "!git clone https://github.com/aicharya/ud120-projects.git"
      ],
      "execution_count": 1,
      "outputs": [
        {
          "output_type": "stream",
          "text": [
            "Cloning into 'ud120-projects'...\n",
            "remote: Enumerating objects: 99, done.\u001b[K\n",
            "remote: Counting objects: 100% (99/99), done.\u001b[K\n",
            "remote: Compressing objects: 100% (99/99), done.\u001b[K\n",
            "remote: Total 5145 (delta 55), reused 0 (delta 0), pack-reused 5046\u001b[K\n",
            "Receiving objects: 100% (5145/5145), 19.70 MiB | 24.24 MiB/s, done.\n",
            "Resolving deltas: 100% (4427/4427), done.\n"
          ],
          "name": "stdout"
        }
      ]
    },
    {
      "cell_type": "code",
      "metadata": {
        "id": "ccERB3t-YU0y",
        "colab_type": "code",
        "colab": {}
      },
      "source": [
        "import os\n",
        "\n",
        "#os.listdir(os.getcwd())\n",
        "os.chdir('ud120-projects/choose_your_own')"
      ],
      "execution_count": 0,
      "outputs": []
    },
    {
      "cell_type": "code",
      "metadata": {
        "id": "OfZ0OlRaYeS8",
        "colab_type": "code",
        "colab": {
          "base_uri": "https://localhost:8080/",
          "height": 35
        },
        "outputId": "958a433a-5ef5-4fe5-8756-7c78df052efa"
      },
      "source": [
        "os.getcwd()"
      ],
      "execution_count": 3,
      "outputs": [
        {
          "output_type": "execute_result",
          "data": {
            "text/plain": [
              "'/content/ud120-projects/choose_your_own'"
            ]
          },
          "metadata": {
            "tags": []
          },
          "execution_count": 3
        }
      ]
    },
    {
      "cell_type": "code",
      "metadata": {
        "id": "UEAtzNDxYh7o",
        "colab_type": "code",
        "colab": {
          "base_uri": "https://localhost:8080/",
          "height": 126
        },
        "outputId": "ee526574-8927-4787-9d8a-3944b8250267"
      },
      "source": [
        "os.listdir(os.getcwd())"
      ],
      "execution_count": 4,
      "outputs": [
        {
          "output_type": "execute_result",
          "data": {
            "text/plain": [
              "['your_algorithm.py',\n",
              " 'knn.ipynb',\n",
              " 'class_vis.py',\n",
              " 'prep_terrain_data.py',\n",
              " 'random_forest.ipynb',\n",
              " 'adaboost.ipynb']"
            ]
          },
          "metadata": {
            "tags": []
          },
          "execution_count": 4
        }
      ]
    },
    {
      "cell_type": "code",
      "metadata": {
        "id": "AycXAORyYo9v",
        "colab_type": "code",
        "colab": {}
      },
      "source": [
        "import matplotlib.pyplot as plt\n",
        "from prep_terrain_data import makeTerrainData\n",
        "from class_vis import prettyPicture"
      ],
      "execution_count": 0,
      "outputs": []
    },
    {
      "cell_type": "code",
      "metadata": {
        "id": "ZHTnY6hKYsxL",
        "colab_type": "code",
        "colab": {}
      },
      "source": [
        "features_train, labels_train, features_test, labels_test = makeTerrainData()"
      ],
      "execution_count": 0,
      "outputs": []
    },
    {
      "cell_type": "markdown",
      "metadata": {
        "id": "7XNkeNWWYxGC",
        "colab_type": "text"
      },
      "source": [
        "### the training data (features_train, labels_train) have both \"fast\" and \"slow\"\n",
        "### points mixed together--separate them so we can give them different colors\n",
        "### in the scatterplot and identify them visually"
      ]
    },
    {
      "cell_type": "code",
      "metadata": {
        "id": "cBQGT1DgY1aT",
        "colab_type": "code",
        "colab": {}
      },
      "source": [
        "grade_fast = [features_train[ii][0] for ii in range(0, len(features_train)) if labels_train[ii]==0]\n",
        "bumpy_fast = [features_train[ii][1] for ii in range(0, len(features_train)) if labels_train[ii]==0]\n",
        "grade_slow = [features_train[ii][0] for ii in range(0, len(features_train)) if labels_train[ii]==1]\n",
        "bumpy_slow = [features_train[ii][1] for ii in range(0, len(features_train)) if labels_train[ii]==1]"
      ],
      "execution_count": 0,
      "outputs": []
    },
    {
      "cell_type": "code",
      "metadata": {
        "id": "354HTAr9ZN2A",
        "colab_type": "code",
        "colab": {
          "base_uri": "https://localhost:8080/",
          "height": 283
        },
        "outputId": "8b6fac16-5354-4697-9838-0201ed7437e3"
      },
      "source": [
        "#### initial visualization\n",
        "plt.xlim(0.0, 1.0)\n",
        "plt.ylim(0.0, 1.0)\n",
        "plt.scatter(bumpy_fast, grade_fast, color = \"b\", label=\"fast\")\n",
        "plt.scatter(grade_slow, bumpy_slow, color = \"r\", label=\"slow\")\n",
        "plt.legend()\n",
        "plt.xlabel(\"bumpiness\")\n",
        "plt.ylabel(\"grade\")\n",
        "plt.show()"
      ],
      "execution_count": 8,
      "outputs": [
        {
          "output_type": "display_data",
          "data": {
            "image/png": "[encoded data removed]",
            "text/plain": [
              "<Figure size 432x288 with 1 Axes>"
            ]
          },
          "metadata": {
            "tags": []
          }
        }
      ]
    },
    {
      "cell_type": "markdown",
      "metadata": {
        "id": "GMMWwMwOZge8",
        "colab_type": "text"
      },
      "source": [
        "#The adaboost classifier"
      ]
    },
    {
      "cell_type": "code",
      "metadata": {
        "id": "h1e0z9HDZjDT",
        "colab_type": "code",
        "colab": {
          "base_uri": "https://localhost:8080/",
          "height": 72
        },
        "outputId": "9540863f-6fb9-48cf-85f8-8d9892a05891"
      },
      "source": [
        "from sklearn.ensemble import AdaBoostClassifier\n",
        "from sklearn.metrics import accuracy_score\n",
        "from time import time\n",
        "\n",
        "clf = AdaBoostClassifier(n_estimators=60, learning_rate=1, algorithm=\"SAMME\")\n",
        "\n",
        "t0 = time()\n",
        "clf = clf.fit(features_train, labels_train)\n",
        "t1 = time()\n",
        "labels_pred = clf.predict(features_test)\n",
        "t2 = time()\n",
        "\n",
        "score = accuracy_score(labels_test, labels_pred, normalize=True)\n",
        "\n",
        "print \"training time:\", round(t1-t0, 3), \"s\"\n",
        "print \"testing time:\", round(t2-t1, 3), \"s\"\n",
        "print \"score: {}\".format(score)"
      ],
      "execution_count": 39,
      "outputs": [
        {
          "output_type": "stream",
          "text": [
            "training time: 0.116 s\n",
            "testing time: 0.003 s\n",
            "score: 0.924\n"
          ],
          "name": "stdout"
        }
      ]
    },
    {
      "cell_type": "markdown",
      "metadata": {
        "id": "X3PoBjuGZjbx",
        "colab_type": "text"
      },
      "source": [
        "# Visualize the classes"
      ]
    },
    {
      "cell_type": "code",
      "metadata": {
        "id": "YAAbHHPHZmnp",
        "colab_type": "code",
        "colab": {
          "base_uri": "https://localhost:8080/",
          "height": 283
        },
        "outputId": "acd9f9c8-9362-4f30-881a-92e2a056f6c5"
      },
      "source": [
        "try:\n",
        "    prettyPicture(clf, features_test, labels_test)\n",
        "except NameError:\n",
        "    pass"
      ],
      "execution_count": 37,
      "outputs": [
        {
          "output_type": "display_data",
          "data": {
            "image/png": "[encoded data removed]",
            "text/plain": [
              "<Figure size 432x288 with 1 Axes>"
            ]
          },
          "metadata": {
            "tags": []
          }
        }
      ]
    }
  ]
}