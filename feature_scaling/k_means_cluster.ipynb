{
  "nbformat": 4,
  "nbformat_minor": 0,
  "metadata": {
    "colab": {
      "name": "k_means_cluster.ipynb",
      "provenance": [],
      "include_colab_link": true
    },
    "kernelspec": {
      "name": "python2",
      "display_name": "Python 2"
    }
  },
  "cells": [
    {
      "cell_type": "markdown",
      "metadata": {
        "id": "view-in-github",
        "colab_type": "text"
      },
      "source": [
        "<a href=\"https://colab.research.google.com/github/aicharya/ud120-projects/blob/master/feature_scaling/k_means_cluster.ipynb\" target=\"_parent\"><img src=\"https://colab.research.google.com/assets/colab-badge.svg\" alt=\"Open In Colab\"/></a>"
      ]
    },
    {
      "cell_type": "code",
      "metadata": {
        "id": "ZHsZlwH5-VpA",
        "colab_type": "code",
        "outputId": "f0555b1d-38c4-4ac5-c38d-4ef606b826f0",
        "colab": {
          "base_uri": "https://localhost:8080/",
          "height": 145
        }
      },
      "source": [
        "!git clone https://github.com/aicharya/ud120-projects.git"
      ],
      "execution_count": 1,
      "outputs": [
        {
          "output_type": "stream",
          "text": [
            "Cloning into 'ud120-projects'...\n",
            "remote: Enumerating objects: 88, done.\u001b[K\n",
            "remote: Counting objects: 100% (88/88), done.\u001b[K\n",
            "remote: Compressing objects: 100% (87/87), done.\u001b[K\n",
            "remote: Total 5273 (delta 55), reused 0 (delta 0), pack-reused 5185\u001b[K\n",
            "Receiving objects: 100% (5273/5273), 19.90 MiB | 21.11 MiB/s, done.\n",
            "Resolving deltas: 100% (4506/4506), done.\n"
          ],
          "name": "stdout"
        }
      ]
    },
    {
      "cell_type": "code",
      "metadata": {
        "id": "ZhY14_XL_Yne",
        "colab_type": "code",
        "outputId": "978d15a7-944b-43eb-994d-9c8b0a0009c3",
        "colab": {
          "base_uri": "https://localhost:8080/",
          "height": 35
        }
      },
      "source": [
        "import os\n",
        "os.chdir('ud120-projects/feature_scaling')\n",
        "os.listdir(os.getcwd())"
      ],
      "execution_count": 2,
      "outputs": [
        {
          "output_type": "execute_result",
          "data": {
            "text/plain": [
              "['k_means_cluster.ipynb']"
            ]
          },
          "metadata": {
            "tags": []
          },
          "execution_count": 2
        }
      ]
    },
    {
      "cell_type": "code",
      "metadata": {
        "id": "Pwt3U-3B_km0",
        "colab_type": "code",
        "colab": {}
      },
      "source": [
        "import pickle\n",
        "import numpy\n",
        "import matplotlib.pyplot as plt\n",
        "import sys\n",
        "\n",
        "sys.path.append(\"../tools/\")\n",
        "\n",
        "from feature_format import featureFormat, targetFeatureSplit"
      ],
      "execution_count": 0,
      "outputs": []
    },
    {
      "cell_type": "markdown",
      "metadata": {
        "id": "c8RHzM9O_rDU",
        "colab_type": "text"
      },
      "source": [
        "####some plotting code designed to help you visualize your clusters"
      ]
    },
    {
      "cell_type": "code",
      "metadata": {
        "id": "ikv-ox4W_m9q",
        "colab_type": "code",
        "colab": {}
      },
      "source": [
        "def Draw(pred, features, poi, mark_poi=False, name=\"image.png\", f1_name=\"feature 1\", f2_name=\"feature 2\"):\n",
        "    \"\"\" some plotting code designed to help you visualize your clusters \"\"\"\n",
        "\n",
        "    ### plot each cluster with a different color--add more colors for\n",
        "    ### drawing more than five clusters\n",
        "    colors = [\"b\", \"c\", \"k\", \"m\", \"g\"]\n",
        "    for ii, pp in enumerate(pred):\n",
        "        plt.scatter(features[ii][0], features[ii][1], color = colors[pred[ii]])\n",
        "\n",
        "    ### if you like, place red stars over points that are POIs (just for funsies)\n",
        "    if mark_poi:\n",
        "        for ii, pp in enumerate(pred):\n",
        "            if poi[ii]:\n",
        "                plt.scatter(features[ii][0], features[ii][1], color=\"r\", marker=\"*\")\n",
        "    plt.xlabel(f1_name)\n",
        "    plt.ylabel(f2_name)\n",
        "    plt.savefig(name)\n",
        "    plt.show()"
      ],
      "execution_count": 0,
      "outputs": []
    },
    {
      "cell_type": "markdown",
      "metadata": {
        "id": "mCVgylYD_x6X",
        "colab_type": "text"
      },
      "source": [
        "#### load in the dict of dicts containing all the data on each person in the dataset"
      ]
    },
    {
      "cell_type": "code",
      "metadata": {
        "id": "md-oe43x_qbx",
        "colab_type": "code",
        "colab": {}
      },
      "source": [
        "data_dict = pickle.load( open(\"../final_project/final_project_dataset.pkl\", \"r\") )"
      ],
      "execution_count": 0,
      "outputs": []
    },
    {
      "cell_type": "markdown",
      "metadata": {
        "id": "sD8I1Biw_43P",
        "colab_type": "text"
      },
      "source": [
        "##### there's an outlier--remove it! "
      ]
    },
    {
      "cell_type": "code",
      "metadata": {
        "id": "vLluwgIN_8r1",
        "colab_type": "code",
        "outputId": "28540acd-6204-4d73-b10c-ea1dc8a031ce",
        "colab": {
          "base_uri": "https://localhost:8080/",
          "height": 399
        }
      },
      "source": [
        "data_dict.pop(\"TOTAL\", 0)"
      ],
      "execution_count": 6,
      "outputs": [
        {
          "output_type": "execute_result",
          "data": {
            "text/plain": [
              "{'bonus': 97343619,\n",
              " 'deferral_payments': 32083396,\n",
              " 'deferred_income': -27992891,\n",
              " 'director_fees': 1398517,\n",
              " 'email_address': 'NaN',\n",
              " 'exercised_stock_options': 311764000,\n",
              " 'expenses': 5235198,\n",
              " 'from_messages': 'NaN',\n",
              " 'from_poi_to_this_person': 'NaN',\n",
              " 'from_this_person_to_poi': 'NaN',\n",
              " 'loan_advances': 83925000,\n",
              " 'long_term_incentive': 48521928,\n",
              " 'other': 42667589,\n",
              " 'poi': False,\n",
              " 'restricted_stock': 130322299,\n",
              " 'restricted_stock_deferred': -7576788,\n",
              " 'salary': 26704229,\n",
              " 'shared_receipt_with_poi': 'NaN',\n",
              " 'to_messages': 'NaN',\n",
              " 'total_payments': 309886585,\n",
              " 'total_stock_value': 434509511}"
            ]
          },
          "metadata": {
            "tags": []
          },
          "execution_count": 6
        }
      ]
    },
    {
      "cell_type": "markdown",
      "metadata": {
        "id": "7YtbN8A6AN4K",
        "colab_type": "text"
      },
      "source": [
        "#### the input features we want to use \n",
        "#### can be any key in the person-level dictionary (salary, director_fees, etc.)"
      ]
    },
    {
      "cell_type": "code",
      "metadata": {
        "id": "egLoxyCLAP_q",
        "colab_type": "code",
        "colab": {}
      },
      "source": [
        "feature_1 = \"salary\"\n",
        "feature_2 = \"exercised_stock_options\"\n",
        "poi  = \"poi\"\n",
        "features_list = [poi, feature_1, feature_2]\n",
        "data = featureFormat(data_dict, features_list )\n",
        "poi, finance_features = targetFeatureSplit( data )"
      ],
      "execution_count": 0,
      "outputs": []
    },
    {
      "cell_type": "code",
      "metadata": {
        "id": "ubUMvIS3yte-",
        "colab_type": "code",
        "colab": {}
      },
      "source": [
        "#finance_features"
      ],
      "execution_count": 0,
      "outputs": []
    },
    {
      "cell_type": "markdown",
      "metadata": {
        "id": "iPp5zHQmAUG1",
        "colab_type": "text"
      },
      "source": [
        "#### in the \"clustering with 3 features\" part of the mini-project,\n",
        "#### you'll want to change this line to \n",
        "#### for f1, f2, _ in finance_features:\n",
        "#### (as it's currently written, the line below assumes 2 features)"
      ]
    },
    {
      "cell_type": "code",
      "metadata": {
        "id": "jXio_jy3AnGc",
        "colab_type": "code",
        "outputId": "cdb665dc-c94f-424e-a447-95e475460d7e",
        "colab": {
          "base_uri": "https://localhost:8080/",
          "height": 276
        }
      },
      "source": [
        "for f1, f2 in finance_features:\n",
        "    plt.scatter( f1, f2 )\n",
        "plt.show()"
      ],
      "execution_count": 9,
      "outputs": [
        {
          "output_type": "display_data",
          "data": {
            "image/png": "[encoded data removed]",
            "text/plain": [
              "<Figure size 432x288 with 1 Axes>"
            ]
          },
          "metadata": {
            "tags": []
          }
        }
      ]
    },
    {
      "cell_type": "markdown",
      "metadata": {
        "id": "nkLjiAbUAvlP",
        "colab_type": "text"
      },
      "source": [
        "#### cluster here; create predictions of the cluster labels\n",
        "#### for the data and store them to a list called pred\n"
      ]
    },
    {
      "cell_type": "code",
      "metadata": {
        "id": "RVpel8nhAuoc",
        "colab_type": "code",
        "colab": {}
      },
      "source": [
        "from sklearn.cluster import KMeans\n",
        "\n",
        "kmeans = KMeans(n_clusters=2, random_state=0)\n",
        "kmeans = kmeans.fit(finance_features)\n",
        "pred = kmeans.predict(finance_features)\n"
      ],
      "execution_count": 0,
      "outputs": []
    },
    {
      "cell_type": "code",
      "metadata": {
        "id": "VAY1AAtxGKQL",
        "colab_type": "code",
        "outputId": "059062a8-a93d-4f29-c434-8e8de79e0ea9",
        "colab": {
          "base_uri": "https://localhost:8080/",
          "height": 126
        }
      },
      "source": [
        "pred"
      ],
      "execution_count": 11,
      "outputs": [
        {
          "output_type": "execute_result",
          "data": {
            "text/plain": [
              "array([0, 0, 0, 0, 0, 0, 0, 0, 0, 0, 0, 0, 0, 0, 0, 0, 0, 0, 0, 0, 0, 0,\n",
              "       0, 0, 0, 0, 0, 0, 0, 0, 0, 0, 0, 0, 0, 0, 0, 0, 0, 0, 0, 0, 0, 0,\n",
              "       0, 0, 0, 0, 0, 0, 0, 0, 0, 0, 1, 0, 0, 0, 0, 0, 0, 0, 0, 0, 0, 0,\n",
              "       0, 0, 0, 0, 0, 0, 0, 0, 0, 0, 0, 1, 0, 0, 0, 0, 1, 0, 0, 0, 0, 0,\n",
              "       0, 0, 0, 0, 0, 0, 0, 0, 0, 0, 0, 0, 0, 0, 0, 0, 0, 0, 0, 1, 0, 0,\n",
              "       0, 1, 0, 0, 0, 0, 0, 0, 0, 0, 0, 0, 0, 0], dtype=int32)"
            ]
          },
          "metadata": {
            "tags": []
          },
          "execution_count": 11
        }
      ]
    },
    {
      "cell_type": "markdown",
      "metadata": {
        "id": "DKoigwIpA0Sh",
        "colab_type": "text"
      },
      "source": [
        "#### rename the \"name\" parameter when you change the number of features\n",
        "#### so that the figure gets saved to a different file"
      ]
    },
    {
      "cell_type": "code",
      "metadata": {
        "id": "PHcCIDmFAzpN",
        "colab_type": "code",
        "outputId": "46ed697e-5b20-4288-d94f-7e7082f59e09",
        "colab": {
          "base_uri": "https://localhost:8080/",
          "height": 290
        }
      },
      "source": [
        "try:\n",
        "    Draw(pred, finance_features, poi, mark_poi=False, name=\"clusters.pdf\", f1_name=feature_1, f2_name=feature_2)\n",
        "except NameError:\n",
        "    print \"no predictions object named pred found, no clusters to plot\""
      ],
      "execution_count": 12,
      "outputs": [
        {
          "output_type": "display_data",
          "data": {
            "image/png": "[encoded data removed]",
            "text/plain": [
              "<Figure size 432x288 with 1 Axes>"
            ]
          },
          "metadata": {
            "tags": []
          }
        }
      ]
    },
    {
      "cell_type": "markdown",
      "metadata": {
        "id": "IhsBxSEMzkse",
        "colab_type": "text"
      },
      "source": [
        "### Apply feature scaling on the “salary” and “exercised_stock_options” features (use only these two features)"
      ]
    },
    {
      "cell_type": "markdown",
      "metadata": {
        "id": "BWGEYe1d4Tzj",
        "colab_type": "text"
      },
      "source": [
        "#####What would be the rescaled value of a \"salary\" feature that had an original value of $200,000, and an \"exercised_stock_options\" feature of $1 million? "
      ]
    },
    {
      "cell_type": "code",
      "metadata": {
        "id": "bMjPvTO91BUB",
        "colab_type": "code",
        "colab": {
          "base_uri": "https://localhost:8080/",
          "height": 35
        },
        "outputId": "b82b3d1e-45ed-4653-8828-c3e50f8a3577"
      },
      "source": [
        "from sklearn.preprocessing import MinMaxScaler\n",
        "transformer = MinMaxScaler().fit(finance_features)\n",
        "transformer.transform(finance_features)\n",
        "# make sure that finance features is two features array\n",
        "transformer.transform([[200000.0, 1000000.0]])"
      ],
      "execution_count": 38,
      "outputs": [
        {
          "output_type": "execute_result",
          "data": {
            "text/plain": [
              "array([[0.17997621, 0.02911345]])"
            ]
          },
          "metadata": {
            "tags": []
          },
          "execution_count": 38
        }
      ]
    },
    {
      "cell_type": "code",
      "metadata": {
        "id": "8o7zLGxpzf8v",
        "colab_type": "code",
        "colab": {}
      },
      "source": [
        "from sklearn.preprocessing import MinMaxScaler\n",
        "scaled_features = MinMaxScaler().fit_transform(finance_features)\n",
        "#scaled_features\n"
      ],
      "execution_count": 0,
      "outputs": []
    },
    {
      "cell_type": "code",
      "metadata": {
        "id": "pH5L_zYAze9C",
        "colab_type": "code",
        "colab": {
          "base_uri": "https://localhost:8080/",
          "height": 269
        },
        "outputId": "b2a58a6f-853b-40e7-d263-390cab346022"
      },
      "source": [
        "for f1, f2 in scaled_features:\n",
        "    plt.scatter( f1, f2 )\n",
        "plt.show()"
      ],
      "execution_count": 14,
      "outputs": [
        {
          "output_type": "display_data",
          "data": {
            "image/png": "[encoded data removed]",
            "text/plain": [
              "<Figure size 432x288 with 1 Axes>"
            ]
          },
          "metadata": {
            "tags": []
          }
        }
      ]
    },
    {
      "cell_type": "code",
      "metadata": {
        "id": "gFWSJ4HLzvCl",
        "colab_type": "code",
        "colab": {}
      },
      "source": [
        "from sklearn.cluster import KMeans\n",
        "\n",
        "kmeans = KMeans(n_clusters=2, random_state=0)\n",
        "kmeans = kmeans.fit(scaled_features)\n",
        "pred = kmeans.predict(scaled_features)"
      ],
      "execution_count": 0,
      "outputs": []
    },
    {
      "cell_type": "code",
      "metadata": {
        "id": "sEGnvYB3z5Jz",
        "colab_type": "code",
        "colab": {
          "base_uri": "https://localhost:8080/",
          "height": 283
        },
        "outputId": "a6308207-b3ab-441c-8902-a6a06fbedd11"
      },
      "source": [
        "try:\n",
        "    Draw(pred, scaled_features, poi, mark_poi=False, name=\"clusters.pdf\", f1_name=feature_1, f2_name=feature_2)\n",
        "except NameError:\n",
        "    print \"no predictions object named pred found, no clusters to plot\""
      ],
      "execution_count": 16,
      "outputs": [
        {
          "output_type": "display_data",
          "data": {
            "image/png": "[encoded data removed]",
            "text/plain": [
              "<Figure size 432x288 with 1 Axes>"
            ]
          },
          "metadata": {
            "tags": []
          }
        }
      ]
    },
    {
      "cell_type": "markdown",
      "metadata": {
        "id": "kCR9N-YC5F7a",
        "colab_type": "text"
      },
      "source": [
        "###  What if we wanted to cluster based on “from_messages” (the number of email messages sent from a particular email account) and “salary”? Would feature scaling be unnecessary in this case, or critical?"
      ]
    },
    {
      "cell_type": "code",
      "metadata": {
        "id": "miOvucgs46MY",
        "colab_type": "code",
        "colab": {
          "base_uri": "https://localhost:8080/",
          "height": 269
        },
        "outputId": "f63825d3-056e-46f2-f1f9-0acf7c47612d"
      },
      "source": [
        "feature_1 = \"from_messages\"\n",
        "feature_2 = \"salary\"\n",
        "poi  = \"poi\"\n",
        "features_list = [poi, feature_1, feature_2]\n",
        "data = featureFormat(data_dict, features_list )\n",
        "poi, finance_features = targetFeatureSplit( data )\n",
        "\n",
        "for f1, f2 in finance_features:\n",
        "    plt.scatter( f1, f2 )\n",
        "plt.show()"
      ],
      "execution_count": 39,
      "outputs": [
        {
          "output_type": "display_data",
          "data": {
            "image/png": "[encoded data removed]",
            "text/plain": [
              "<Figure size 432x288 with 1 Axes>"
            ]
          },
          "metadata": {
            "tags": []
          }
        }
      ]
    },
    {
      "cell_type": "markdown",
      "metadata": {
        "id": "bl4CHgdCIOs0",
        "colab_type": "text"
      },
      "source": [
        "#### 3 features clustering"
      ]
    },
    {
      "cell_type": "code",
      "metadata": {
        "id": "enL4GypQISdh",
        "colab_type": "code",
        "colab": {}
      },
      "source": [
        "feature_1 = \"salary\"\n",
        "feature_2 = \"exercised_stock_options\"\n",
        "feature_3 = \"total_payments\"\n",
        "poi  = \"poi\"\n",
        "features_list = [poi, feature_1, feature_2, feature_3]\n",
        "data = featureFormat(data_dict, features_list )\n",
        "poi, finance_features = targetFeatureSplit( data )"
      ],
      "execution_count": 0,
      "outputs": []
    },
    {
      "cell_type": "code",
      "metadata": {
        "id": "YML8SWxOJ0Kg",
        "colab_type": "code",
        "outputId": "95270b70-c22f-448c-8c15-82d667265b8e",
        "colab": {
          "base_uri": "https://localhost:8080/",
          "height": 276
        }
      },
      "source": [
        "for f1, f2, f3 in finance_features:\n",
        "    plt.scatter(f1, f2)\n",
        "plt.show()"
      ],
      "execution_count": 18,
      "outputs": [
        {
          "output_type": "display_data",
          "data": {
            "image/png": "[encoded data removed]",
            "text/plain": [
              "<Figure size 432x288 with 1 Axes>"
            ]
          },
          "metadata": {
            "tags": []
          }
        }
      ]
    },
    {
      "cell_type": "code",
      "metadata": {
        "id": "0GLprhHaId0-",
        "colab_type": "code",
        "colab": {}
      },
      "source": [
        "from sklearn.cluster import KMeans\n",
        "\n",
        "kmeans = KMeans(n_clusters=2, random_state=0)\n",
        "kmeans = kmeans.fit(finance_features)\n",
        "pred = kmeans.predict(finance_features)"
      ],
      "execution_count": 0,
      "outputs": []
    },
    {
      "cell_type": "code",
      "metadata": {
        "id": "xIRhboXeI1uK",
        "colab_type": "code",
        "outputId": "4ec89f82-b351-4865-d178-6591da58041c",
        "colab": {
          "base_uri": "https://localhost:8080/",
          "height": 290
        }
      },
      "source": [
        "try:\n",
        "    Draw(pred, finance_features, poi, mark_poi=False, name=\"clusters.pdf\", f1_name=feature_1, f2_name=feature_2)\n",
        "except NameError:\n",
        "    print \"no predictions object named pred found, no clusters to plot\""
      ],
      "execution_count": 20,
      "outputs": [
        {
          "output_type": "display_data",
          "data": {
            "image/png": "[encoded data removed]",
            "text/plain": [
              "<Figure size 432x288 with 1 Axes>"
            ]
          },
          "metadata": {
            "tags": []
          }
        }
      ]
    },
    {
      "cell_type": "markdown",
      "metadata": {
        "id": "Ep9BQQDeLB2u",
        "colab_type": "text"
      },
      "source": [
        "#### What are the maximum and minimum values taken by the “exercised_stock_options” feature used in this example?"
      ]
    },
    {
      "cell_type": "code",
      "metadata": {
        "id": "Gt7rfU1jLA5W",
        "colab_type": "code",
        "outputId": "6400844c-5d79-4cf5-f336-c4e31442b78b",
        "colab": {
          "base_uri": "https://localhost:8080/",
          "height": 35
        }
      },
      "source": [
        "exercised_stock_options = sorted([value['exercised_stock_options'] for value in data_dict.itervalues() if isinstance(value['exercised_stock_options'], int)])\n",
        "print exercised_stock_options[-1], exercised_stock_options[0]"
      ],
      "execution_count": 21,
      "outputs": [
        {
          "output_type": "stream",
          "text": [
            "34348384 3285\n"
          ],
          "name": "stdout"
        }
      ]
    },
    {
      "cell_type": "markdown",
      "metadata": {
        "id": "wa8SazBRMhk_",
        "colab_type": "text"
      },
      "source": [
        "#### What are the maximum and minimum values taken by “salary”?"
      ]
    },
    {
      "cell_type": "code",
      "metadata": {
        "id": "wj_sqXrwMxMZ",
        "colab_type": "code",
        "outputId": "6b01e628-9d6b-4624-f652-38e3fc40cd5d",
        "colab": {
          "base_uri": "https://localhost:8080/",
          "height": 35
        }
      },
      "source": [
        "salary = sorted([value['salary'] for value in data_dict.itervalues() if isinstance(value['salary'], int)])\n",
        "print salary[-1], salary[0]"
      ],
      "execution_count": 22,
      "outputs": [
        {
          "output_type": "stream",
          "text": [
            "1111258 477\n"
          ],
          "name": "stdout"
        }
      ]
    }
  ]
}