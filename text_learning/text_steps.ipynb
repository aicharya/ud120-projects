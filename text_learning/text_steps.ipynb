{
  "nbformat": 4,
  "nbformat_minor": 0,
  "metadata": {
    "colab": {
      "name": "text_steps.ipynb",
      "provenance": [],
      "include_colab_link": true
    },
    "kernelspec": {
      "name": "python2",
      "display_name": "Python 2"
    }
  },
  "cells": [
    {
      "cell_type": "markdown",
      "metadata": {
        "id": "view-in-github",
        "colab_type": "text"
      },
      "source": [
        "<a href=\"https://colab.research.google.com/github/aicharya/ud120-projects/blob/master/text_learning/text_steps.ipynb\" target=\"_parent\"><img src=\"https://colab.research.google.com/assets/colab-badge.svg\" alt=\"Open In Colab\"/></a>"
      ]
    },
    {
      "cell_type": "code",
      "metadata": {
        "id": "09DL7t21a8Dw",
        "colab_type": "code",
        "colab": {
          "base_uri": "https://localhost:8080/",
          "height": 72
        },
        "outputId": "5556ccb2-feb5-498c-8d96-7d97915e3078"
      },
      "source": [
        "import nltk\n",
        "nltk.download('stopwords')"
      ],
      "execution_count": 3,
      "outputs": [
        {
          "output_type": "stream",
          "text": [
            "[nltk_data] Downloading package stopwords to /root/nltk_data...\n",
            "[nltk_data]   Unzipping corpora/stopwords.zip.\n"
          ],
          "name": "stdout"
        },
        {
          "output_type": "execute_result",
          "data": {
            "text/plain": [
              "True"
            ]
          },
          "metadata": {
            "tags": []
          },
          "execution_count": 3
        }
      ]
    },
    {
      "cell_type": "code",
      "metadata": {
        "id": "CZNgAUcIZjTK",
        "colab_type": "code",
        "colab": {}
      },
      "source": [
        "from nltk.corpus import stopwords"
      ],
      "execution_count": 0,
      "outputs": []
    },
    {
      "cell_type": "code",
      "metadata": {
        "id": "BYAw00XnawcC",
        "colab_type": "code",
        "colab": {}
      },
      "source": [
        "sw = stopwords.words(\"english\")"
      ],
      "execution_count": 0,
      "outputs": []
    },
    {
      "cell_type": "code",
      "metadata": {
        "id": "g2G9_HKwbE0S",
        "colab_type": "code",
        "colab": {
          "base_uri": "https://localhost:8080/",
          "height": 1000
        },
        "outputId": "9ace28c0-c347-486a-a6af-3d853ad3b1cf"
      },
      "source": [
        "sw"
      ],
      "execution_count": 5,
      "outputs": [
        {
          "output_type": "execute_result",
          "data": {
            "text/plain": [
              "[u'i',\n",
              " u'me',\n",
              " u'my',\n",
              " u'myself',\n",
              " u'we',\n",
              " u'our',\n",
              " u'ours',\n",
              " u'ourselves',\n",
              " u'you',\n",
              " u\"you're\",\n",
              " u\"you've\",\n",
              " u\"you'll\",\n",
              " u\"you'd\",\n",
              " u'your',\n",
              " u'yours',\n",
              " u'yourself',\n",
              " u'yourselves',\n",
              " u'he',\n",
              " u'him',\n",
              " u'his',\n",
              " u'himself',\n",
              " u'she',\n",
              " u\"she's\",\n",
              " u'her',\n",
              " u'hers',\n",
              " u'herself',\n",
              " u'it',\n",
              " u\"it's\",\n",
              " u'its',\n",
              " u'itself',\n",
              " u'they',\n",
              " u'them',\n",
              " u'their',\n",
              " u'theirs',\n",
              " u'themselves',\n",
              " u'what',\n",
              " u'which',\n",
              " u'who',\n",
              " u'whom',\n",
              " u'this',\n",
              " u'that',\n",
              " u\"that'll\",\n",
              " u'these',\n",
              " u'those',\n",
              " u'am',\n",
              " u'is',\n",
              " u'are',\n",
              " u'was',\n",
              " u'were',\n",
              " u'be',\n",
              " u'been',\n",
              " u'being',\n",
              " u'have',\n",
              " u'has',\n",
              " u'had',\n",
              " u'having',\n",
              " u'do',\n",
              " u'does',\n",
              " u'did',\n",
              " u'doing',\n",
              " u'a',\n",
              " u'an',\n",
              " u'the',\n",
              " u'and',\n",
              " u'but',\n",
              " u'if',\n",
              " u'or',\n",
              " u'because',\n",
              " u'as',\n",
              " u'until',\n",
              " u'while',\n",
              " u'of',\n",
              " u'at',\n",
              " u'by',\n",
              " u'for',\n",
              " u'with',\n",
              " u'about',\n",
              " u'against',\n",
              " u'between',\n",
              " u'into',\n",
              " u'through',\n",
              " u'during',\n",
              " u'before',\n",
              " u'after',\n",
              " u'above',\n",
              " u'below',\n",
              " u'to',\n",
              " u'from',\n",
              " u'up',\n",
              " u'down',\n",
              " u'in',\n",
              " u'out',\n",
              " u'on',\n",
              " u'off',\n",
              " u'over',\n",
              " u'under',\n",
              " u'again',\n",
              " u'further',\n",
              " u'then',\n",
              " u'once',\n",
              " u'here',\n",
              " u'there',\n",
              " u'when',\n",
              " u'where',\n",
              " u'why',\n",
              " u'how',\n",
              " u'all',\n",
              " u'any',\n",
              " u'both',\n",
              " u'each',\n",
              " u'few',\n",
              " u'more',\n",
              " u'most',\n",
              " u'other',\n",
              " u'some',\n",
              " u'such',\n",
              " u'no',\n",
              " u'nor',\n",
              " u'not',\n",
              " u'only',\n",
              " u'own',\n",
              " u'same',\n",
              " u'so',\n",
              " u'than',\n",
              " u'too',\n",
              " u'very',\n",
              " u's',\n",
              " u't',\n",
              " u'can',\n",
              " u'will',\n",
              " u'just',\n",
              " u'don',\n",
              " u\"don't\",\n",
              " u'should',\n",
              " u\"should've\",\n",
              " u'now',\n",
              " u'd',\n",
              " u'll',\n",
              " u'm',\n",
              " u'o',\n",
              " u're',\n",
              " u've',\n",
              " u'y',\n",
              " u'ain',\n",
              " u'aren',\n",
              " u\"aren't\",\n",
              " u'couldn',\n",
              " u\"couldn't\",\n",
              " u'didn',\n",
              " u\"didn't\",\n",
              " u'doesn',\n",
              " u\"doesn't\",\n",
              " u'hadn',\n",
              " u\"hadn't\",\n",
              " u'hasn',\n",
              " u\"hasn't\",\n",
              " u'haven',\n",
              " u\"haven't\",\n",
              " u'isn',\n",
              " u\"isn't\",\n",
              " u'ma',\n",
              " u'mightn',\n",
              " u\"mightn't\",\n",
              " u'mustn',\n",
              " u\"mustn't\",\n",
              " u'needn',\n",
              " u\"needn't\",\n",
              " u'shan',\n",
              " u\"shan't\",\n",
              " u'shouldn',\n",
              " u\"shouldn't\",\n",
              " u'wasn',\n",
              " u\"wasn't\",\n",
              " u'weren',\n",
              " u\"weren't\",\n",
              " u'won',\n",
              " u\"won't\",\n",
              " u'wouldn',\n",
              " u\"wouldn't\"]"
            ]
          },
          "metadata": {
            "tags": []
          },
          "execution_count": 5
        }
      ]
    }
  ]
}