{
  "nbformat": 4,
  "nbformat_minor": 0,
  "metadata": {
    "colab": {
      "name": "nb_author_id.ipynb",
      "version": "0.3.2",
      "provenance": [],
      "include_colab_link": true
    },
    "kernelspec": {
      "name": "python2",
      "display_name": "Python 2"
    }
  },
  "cells": [
    {
      "cell_type": "markdown",
      "metadata": {
        "id": "view-in-github",
        "colab_type": "text"
      },
      "source": [
        "<a href=\"https://colab.research.google.com/github/aicharya/ud120-projects/blob/master/naive_bayes/nb_author_id.ipynb\" target=\"_parent\"><img src=\"https://colab.research.google.com/assets/colab-badge.svg\" alt=\"Open In Colab\"/></a>"
      ]
    },
    {
      "cell_type": "code",
      "metadata": {
        "id": "OU41iL_DEm2R",
        "colab_type": "code",
        "colab": {
          "base_uri": "https://localhost:8080/",
          "height": 145
        },
        "outputId": "8af2e77b-e038-4cc6-9c5f-4b5ad21fddeb"
      },
      "source": [
        "!git clone https://github.com/aicharya/ud120-projects.git"
      ],
      "execution_count": 1,
      "outputs": [
        {
          "output_type": "stream",
          "text": [
            "Cloning into 'ud120-projects'...\n",
            "remote: Enumerating objects: 14, done.\u001b[K\n",
            "remote: Counting objects:   7% (1/14)\u001b[K\rremote: Counting objects:  14% (2/14)\u001b[K\rremote: Counting objects:  21% (3/14)\u001b[K\rremote: Counting objects:  28% (4/14)\u001b[K\rremote: Counting objects:  35% (5/14)\u001b[K\rremote: Counting objects:  42% (6/14)\u001b[K\rremote: Counting objects:  50% (7/14)\u001b[K\rremote: Counting objects:  57% (8/14)\u001b[K\rremote: Counting objects:  64% (9/14)\u001b[K\rremote: Counting objects:  71% (10/14)\u001b[K\rremote: Counting objects:  78% (11/14)\u001b[K\rremote: Counting objects:  85% (12/14)\u001b[K\rremote: Counting objects:  92% (13/14)\u001b[K\rremote: Counting objects: 100% (14/14)\u001b[K\rremote: Counting objects: 100% (14/14), done.\u001b[K\n",
            "remote: Compressing objects: 100% (14/14), done.\u001b[K\n",
            "remote: Total 5060 (delta 4), reused 0 (delta 0), pack-reused 5046\u001b[K\n",
            "Receiving objects: 100% (5060/5060), 19.65 MiB | 22.68 MiB/s, done.\n",
            "Resolving deltas: 100% (4376/4376), done.\n"
          ],
          "name": "stdout"
        }
      ]
    },
    {
      "cell_type": "code",
      "metadata": {
        "id": "oK9zqp4ct43b",
        "colab_type": "code",
        "colab": {
          "base_uri": "https://localhost:8080/",
          "height": 35
        },
        "outputId": "29c1da4d-4991-4c40-e08b-7a7589719fe6"
      },
      "source": [
        "import os\n",
        "\n",
        "os.listdir(os.getcwd())"
      ],
      "execution_count": 2,
      "outputs": [
        {
          "output_type": "execute_result",
          "data": {
            "text/plain": [
              "['.config', 'ud120-projects', 'sample_data']"
            ]
          },
          "metadata": {
            "tags": []
          },
          "execution_count": 2
        }
      ]
    },
    {
      "cell_type": "code",
      "metadata": {
        "id": "Jt0wxh96uCM2",
        "colab_type": "code",
        "colab": {}
      },
      "source": [
        "os.chdir('ud120-projects')"
      ],
      "execution_count": 0,
      "outputs": []
    },
    {
      "cell_type": "code",
      "metadata": {
        "id": "AI6ONtRsuLXL",
        "colab_type": "code",
        "colab": {
          "base_uri": "https://localhost:8080/",
          "height": 35
        },
        "outputId": "0b0b995a-5627-40fe-d792-2e8af69eab5f"
      },
      "source": [
        "os.getcwd()"
      ],
      "execution_count": 4,
      "outputs": [
        {
          "output_type": "execute_result",
          "data": {
            "text/plain": [
              "'/content/ud120-projects'"
            ]
          },
          "metadata": {
            "tags": []
          },
          "execution_count": 4
        }
      ]
    },
    {
      "cell_type": "code",
      "metadata": {
        "id": "N_xKXMDsuUjC",
        "colab_type": "code",
        "colab": {
          "base_uri": "https://localhost:8080/",
          "height": 363
        },
        "outputId": "5f61e0c6-45fb-43a2-a169-9f7cb341694d"
      },
      "source": [
        "os.listdir(os.getcwd())"
      ],
      "execution_count": 5,
      "outputs": [
        {
          "output_type": "execute_result",
          "data": {
            "text/plain": [
              "['choose_your_own',\n",
              " 'pca',\n",
              " 'naive_bayes',\n",
              " 'svm',\n",
              " 'requirements.txt',\n",
              " 'validation',\n",
              " 'decision_tree',\n",
              " 'k_means',\n",
              " 'feature_selection',\n",
              " 'outliers',\n",
              " 'tools',\n",
              " 'datasets_questions',\n",
              " '.git',\n",
              " 'evaluation',\n",
              " 'text_learning',\n",
              " '.gitignore',\n",
              " 'final_project',\n",
              " 'README.md',\n",
              " 'regression']"
            ]
          },
          "metadata": {
            "tags": []
          },
          "execution_count": 5
        }
      ]
    },
    {
      "cell_type": "code",
      "metadata": {
        "id": "XVFFFwXeuW1u",
        "colab_type": "code",
        "colab": {}
      },
      "source": [
        "os.chdir('naive_bayes')"
      ],
      "execution_count": 0,
      "outputs": []
    },
    {
      "cell_type": "code",
      "metadata": {
        "id": "0TkFo2SCud3f",
        "colab_type": "code",
        "colab": {
          "base_uri": "https://localhost:8080/",
          "height": 35
        },
        "outputId": "f8bf5e77-5814-4e0a-dc1a-6e96c1df2dc7"
      },
      "source": [
        "os.listdir(os.getcwd())"
      ],
      "execution_count": 7,
      "outputs": [
        {
          "output_type": "execute_result",
          "data": {
            "text/plain": [
              "['nb_author_id.ipynb', 'nb_author_id.py']"
            ]
          },
          "metadata": {
            "tags": []
          },
          "execution_count": 7
        }
      ]
    },
    {
      "cell_type": "code",
      "metadata": {
        "id": "h28tfI73u4nc",
        "colab_type": "code",
        "colab": {}
      },
      "source": [
        "import sys\n",
        "sys.path.append('../tools')"
      ],
      "execution_count": 0,
      "outputs": []
    },
    {
      "cell_type": "code",
      "metadata": {
        "id": "sgAyIoc_vGHX",
        "colab_type": "code",
        "colab": {}
      },
      "source": [
        "from time import time\n",
        "from email_preprocess import preprocess"
      ],
      "execution_count": 0,
      "outputs": []
    },
    {
      "cell_type": "markdown",
      "metadata": {
        "id": "achVcVrUvOya",
        "colab_type": "text"
      },
      "source": [
        "### features_train and features_test are the features for the training\n",
        "### and testing datasets, respectively\n",
        "### labels_train and labels_test are the corresponding item labels"
      ]
    },
    {
      "cell_type": "code",
      "metadata": {
        "id": "VxW8YW67vJyT",
        "colab_type": "code",
        "colab": {
          "base_uri": "https://localhost:8080/",
          "height": 54
        },
        "outputId": "526b82e7-d87a-465e-f5a5-266755e50f86"
      },
      "source": [
        "features_train, features_test, labels_train, labels_test = preprocess()"
      ],
      "execution_count": 13,
      "outputs": [
        {
          "output_type": "stream",
          "text": [
            "no. of Chris training emails: 7936\n",
            "no. of Sara training emails: 7884\n"
          ],
          "name": "stdout"
        }
      ]
    },
    {
      "cell_type": "code",
      "metadata": {
        "id": "GyuwLPGSwqr7",
        "colab_type": "code",
        "colab": {
          "base_uri": "https://localhost:8080/",
          "height": 72
        },
        "outputId": "ab8e890f-99b2-45f6-f89d-bccce85727be"
      },
      "source": [
        "from sklearn.naive_bayes import GaussianNB\n",
        "from sklearn.metrics import accuracy_score\n",
        "\n",
        "gnb = GaussianNB()\n",
        "t0 = time()\n",
        "model = gnb.fit(features_train, labels_train)\n",
        "t1 = time()\n",
        "labels_pred = model.predict(features_test)\n",
        "t2 = time()\n",
        "score = accuracy_score(labels_test, labels_pred, normalize=True)\n",
        "\n",
        "print \"training time:\", round(t1-t0, 3), \"s\"\n",
        "print \"testing time:\", round(t2-t1, 3), \"s\"\n",
        "print \"score {}\".format(score)  "
      ],
      "execution_count": 16,
      "outputs": [
        {
          "output_type": "stream",
          "text": [
            "training time: 1.06 s\n",
            "testing time: 0.115 s\n",
            "score 0.973265073948\n"
          ],
          "name": "stdout"
        }
      ]
    }
  ]
}